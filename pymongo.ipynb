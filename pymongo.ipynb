{
 "cells": [
  {
   "cell_type": "markdown",
   "metadata": {},
   "source": [
    "# this jupyter is to get all companies i want from our original dataset"
   ]
  },
  {
   "cell_type": "code",
   "execution_count": 1,
   "metadata": {},
   "outputs": [],
   "source": [
    "from pymongo import MongoClient\n",
    "import pandas as pd\n",
    "import json as js\n",
    "import folium"
   ]
  },
  {
   "cell_type": "markdown",
   "metadata": {},
   "source": [
    "# Calling from mongo"
   ]
  },
  {
   "cell_type": "markdown",
   "metadata": {},
   "source": [
    "It is a problem to have many companies with multiple office locations. I (we) solved that using \"unwind\", and \"match\" to link the whole query"
   ]
  },
  {
   "cell_type": "code",
   "execution_count": 40,
   "metadata": {},
   "outputs": [],
   "source": [
    "def connectCollection(database, collection):\n",
    "    client = MongoClient()\n",
    "    db = client[database]\n",
    "    coll = db[collection]\n",
    "    return db, coll\n",
    "\n",
    "db, coll = connectCollection('companies','companies')\n",
    "pipeline = [\n",
    "    { \"$unwind\": \"$offices\"},\n",
    "    {\"$match\":{ \"$and\": [  {\"founded_year\":{\"$gt\":2005}},\n",
    "            {\"funding_rounds.raised_amount\":{\"$gt\":1000000}}, { \"$or\":[{\"category_code\":\"web\"},\n",
    "            {\"category_code\":\"software\"},{\"category_code\":\"games_video\"},\n",
    "            {\"category_code\":\"hardware\"},{\"category_code\":\"mobile\"},{\"category_code\":\"music\"},\n",
    "            {\"category_code\":\"photo_video\"},{\"category_code\":\"design\"}]}] }}\n",
    "#    {\"$match\":\"}\n",
    "    ]\n",
    "results = list(coll.aggregate(pipeline))"
   ]
  },
  {
   "cell_type": "markdown",
   "metadata": {},
   "source": [
    "i had problems of unknown nature. I had a beautiful way to extract long and latitude in a a list to implement in folium, but now that is gone and i had to make up a patch "
   ]
  },
  {
   "cell_type": "code",
   "execution_count": 41,
   "metadata": {},
   "outputs": [],
   "source": [
    "location_raw=[]\n",
    "name=[]\n",
    "lon=[]\n",
    "lat=[]\n",
    "\n",
    "for element in results:\n",
    "    name.append(element[\"name\"])\n",
    "    for coord in element[\"offices\"].items():\n",
    "        \n",
    "        #print(coord)\n",
    "        \n",
    "        if coord[0]==\"longitude\":\n",
    "            lon.append(coord[1])\n",
    "        elif coord[0]==\"latitude\":\n",
    "            lat.append(coord[1])"
   ]
  },
  {
   "cell_type": "code",
   "execution_count": 42,
   "metadata": {},
   "outputs": [
    {
     "name": "stdout",
     "output_type": "stream",
     "text": [
      "783 783 783\n"
     ]
    }
   ],
   "source": [
    "# to check \n",
    "print(len(name),len(lat),len(lon))"
   ]
  },
  {
   "cell_type": "markdown",
   "metadata": {},
   "source": [
    "# Creating my dataframe"
   ]
  },
  {
   "cell_type": "code",
   "execution_count": 43,
   "metadata": {},
   "outputs": [],
   "source": [
    "l={\"name\":name, \"longitude\":lon, \"latitude\":lat}\n",
    "data_locations=pd.DataFrame(data=l)"
   ]
  },
  {
   "cell_type": "code",
   "execution_count": 44,
   "metadata": {},
   "outputs": [],
   "source": [
    "data_clean=data_locations.dropna()"
   ]
  },
  {
   "cell_type": "markdown",
   "metadata": {},
   "source": [
    "# Creating lists to insert in folium with coordinates and names"
   ]
  },
  {
   "cell_type": "code",
   "execution_count": 45,
   "metadata": {},
   "outputs": [
    {
     "name": "stdout",
     "output_type": "stream",
     "text": [
      "Stored 'office_lat' (list)\n",
      "Stored 'office_long' (list)\n",
      "Stored 'office_name' (list)\n"
     ]
    }
   ],
   "source": [
    "office_lat=list(data_clean[\"latitude\"])\n",
    "%store office_lat\n",
    "office_long=list(data_clean[\"longitude\"])\n",
    "%store office_long\n",
    "office_name=list(data_clean[\"name\"])\n",
    "%store office_name"
   ]
  },
  {
   "cell_type": "code",
   "execution_count": null,
   "metadata": {},
   "outputs": [],
   "source": []
  },
  {
   "cell_type": "code",
   "execution_count": 53,
   "metadata": {},
   "outputs": [
    {
     "data": {
      "text/plain": [
       "dtype('float64')"
      ]
     },
     "execution_count": 53,
     "metadata": {},
     "output_type": "execute_result"
    }
   ],
   "source": [
    "data_clean[\"latitude\"].dtypes"
   ]
  },
  {
   "cell_type": "code",
   "execution_count": null,
   "metadata": {},
   "outputs": [],
   "source": []
  },
  {
   "cell_type": "code",
   "execution_count": null,
   "metadata": {},
   "outputs": [],
   "source": []
  },
  {
   "cell_type": "code",
   "execution_count": null,
   "metadata": {},
   "outputs": [],
   "source": []
  }
 ],
 "metadata": {
  "kernelspec": {
   "display_name": "Python 3",
   "language": "python",
   "name": "python3"
  },
  "language_info": {
   "codemirror_mode": {
    "name": "ipython",
    "version": 3
   },
   "file_extension": ".py",
   "mimetype": "text/x-python",
   "name": "python",
   "nbconvert_exporter": "python",
   "pygments_lexer": "ipython3",
   "version": "3.7.4"
  }
 },
 "nbformat": 4,
 "nbformat_minor": 4
}
