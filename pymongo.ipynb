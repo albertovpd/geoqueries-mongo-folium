{
 "cells": [
  {
   "cell_type": "markdown",
   "metadata": {},
   "source": [
    "# this jupyter is to get all companies i want from our original dataset"
   ]
  },
  {
   "cell_type": "code",
   "execution_count": 1,
   "metadata": {},
   "outputs": [],
   "source": [
    "from pymongo import MongoClient\n",
    "import pandas as pd\n",
    "import json as js\n",
    "import folium"
   ]
  },
  {
   "cell_type": "markdown",
   "metadata": {},
   "source": [
    "# Calling from mongo"
   ]
  },
  {
   "cell_type": "markdown",
   "metadata": {},
   "source": [
    "It is a problem to have many companies with multiple office locations. I (we) solved that using \"unwind\", and \"match\" to link the whole query"
   ]
  },
  {
   "cell_type": "code",
   "execution_count": 40,
   "metadata": {},
   "outputs": [],
   "source": [
    "def connectCollection(database, collection):\n",
    "    client = MongoClient()\n",
    "    db = client[database]\n",
    "    coll = db[collection]\n",
    "    return db, coll\n",
    "\n",
    "db, coll = connectCollection('companies','companies')\n",
    "pipeline = [\n",
    "    { \"$unwind\": \"$offices\"},\n",
    "    {\"$match\":{ \"$and\": [  {\"founded_year\":{\"$gt\":2005}},\n",
    "            {\"funding_rounds.raised_amount\":{\"$gt\":1000000}}, { \"$or\":[{\"category_code\":\"web\"},\n",
    "            {\"category_code\":\"software\"},{\"category_code\":\"games_video\"},\n",
    "            {\"category_code\":\"hardware\"},{\"category_code\":\"mobile\"},{\"category_code\":\"music\"},\n",
    "            {\"category_code\":\"photo_video\"},{\"category_code\":\"design\"}]}] }}\n",
    "#    {\"$match\":\"}\n",
    "    ]\n",
    "results = list(coll.aggregate(pipeline))"
   ]
  },
  {
   "cell_type": "markdown",
   "metadata": {},
   "source": [
    "i had problems of unknown nature. I had a beautiful way to extract long and latitude in a a list to implement in folium, but now that is gone and i had to make up a patch "
   ]
  },
  {
   "cell_type": "code",
   "execution_count": 41,
   "metadata": {},
   "outputs": [],
   "source": [
    "location_raw=[]\n",
    "name=[]\n",
    "lon=[]\n",
    "lat=[]\n",
    "\n",
    "for element in results:\n",
    "    name.append(element[\"name\"])\n",
    "    for coord in element[\"offices\"].items():\n",
    "        \n",
    "        #print(coord)\n",
    "        \n",
    "        if coord[0]==\"longitude\":\n",
    "            lon.append(coord[1])\n",
    "        elif coord[0]==\"latitude\":\n",
    "            lat.append(coord[1])"
   ]
  },
  {
   "cell_type": "code",
   "execution_count": 42,
   "metadata": {},
   "outputs": [
    {
     "name": "stdout",
     "output_type": "stream",
     "text": [
      "783 783 783\n"
     ]
    }
   ],
   "source": [
    "# to check \n",
    "print(len(name),len(lat),len(lon))"
   ]
  },
  {
   "cell_type": "markdown",
   "metadata": {},
   "source": [
    "# Creating my dataframe"
   ]
  },
  {
   "cell_type": "code",
   "execution_count": 43,
   "metadata": {},
   "outputs": [],
   "source": [
    "l={\"name\":name, \"longitude\":lon, \"latitude\":lat}\n",
    "data_locations=pd.DataFrame(data=l)"
   ]
  },
  {
   "cell_type": "code",
   "execution_count": 44,
   "metadata": {},
   "outputs": [],
   "source": [
    "data_clean=data_locations.dropna()"
   ]
  },
  {
   "cell_type": "markdown",
   "metadata": {},
   "source": [
    "# Creating lists to insert in folium with coordinates and names"
   ]
  },
  {
   "cell_type": "code",
   "execution_count": 45,
   "metadata": {},
   "outputs": [
    {
     "name": "stdout",
     "output_type": "stream",
     "text": [
      "Stored 'office_lat' (list)\n",
      "Stored 'office_long' (list)\n",
      "Stored 'office_name' (list)\n"
     ]
    }
   ],
   "source": [
    "office_lat=list(data_clean[\"latitude\"])\n",
    "%store office_lat\n",
    "office_long=list(data_clean[\"longitude\"])\n",
    "%store office_long\n",
    "office_name=list(data_clean[\"name\"])\n",
    "%store office_name"
   ]
  },
  {
   "cell_type": "code",
   "execution_count": null,
   "metadata": {},
   "outputs": [],
   "source": []
  },
  {
   "cell_type": "code",
   "execution_count": 53,
   "metadata": {},
   "outputs": [
    {
     "data": {
      "text/plain": [
       "dtype('float64')"
      ]
     },
     "execution_count": 53,
     "metadata": {},
     "output_type": "execute_result"
    }
   ],
   "source": [
    "data_clean[\"latitude\"].dtypes"
   ]
  },
  {
   "cell_type": "code",
   "execution_count": null,
   "metadata": {},
   "outputs": [],
   "source": []
  },
  {
   "cell_type": "code",
   "execution_count": null,
   "metadata": {},
   "outputs": [],
   "source": []
  },
  {
   "cell_type": "markdown",
   "metadata": {},
   "source": [
    "# cosas frustradas"
   ]
  },
  {
   "cell_type": "code",
   "execution_count": 17,
   "metadata": {},
   "outputs": [
    {
     "ename": "SyntaxError",
     "evalue": "unexpected EOF while parsing (<ipython-input-17-767cca22ca9d>, line 3)",
     "output_type": "error",
     "traceback": [
      "\u001b[0;36m  File \u001b[0;32m\"<ipython-input-17-767cca22ca9d>\"\u001b[0;36m, line \u001b[0;32m3\u001b[0m\n\u001b[0;31m    #world_map\u001b[0m\n\u001b[0m              ^\u001b[0m\n\u001b[0;31mSyntaxError\u001b[0m\u001b[0;31m:\u001b[0m unexpected EOF while parsing\n"
     ]
    }
   ],
   "source": [
    "world_map=folium.Map(location=[52.5200,13.4050], zoom_start=12)\n",
    "for company in data_locations:\n",
    "#world_map"
   ]
  },
  {
   "cell_type": "code",
   "execution_count": 50,
   "metadata": {},
   "outputs": [],
   "source": []
  },
  {
   "cell_type": "code",
   "execution_count": 50,
   "metadata": {},
   "outputs": [],
   "source": [
    "#si quiero añadir información a la colección $set (para el geoindex)\n",
    "for place in rest:\n",
    "    value = {\"$set\": {'location':getLocation(place)}}\n",
    "    coll.update_one(place,value)"
   ]
  },
  {
   "cell_type": "code",
   "execution_count": 51,
   "metadata": {},
   "outputs": [],
   "source": [
    "# eliminar las antiguas coordenadas\n",
    "for place in rest:\n",
    "    value = {\"$unset\": {'offices.latitude':''}}\n",
    "    value = {\"$unset\": {'offices.longitude':''}}\n",
    "    coll.update_one(place,value)\n",
    "    # <collection>.update_one(<document>,<value>)"
   ]
  },
  {
   "cell_type": "code",
   "execution_count": 54,
   "metadata": {},
   "outputs": [
    {
     "data": {
      "text/plain": [
       "'\\nprefered_city = coll.find(\\n    {\"location\":\\n     {\"$near\":\\n      {\"$geometry\":\\n       {\"type\":\"Point\",\\n        \"coordinates\":[-73.9712,40.7831]\\n       },\\n       \"$maxDistance\":10000\\n      }\\n     }\\n    }\\n)\\nprefered_city=list(prefered_city)\\n'"
      ]
     },
     "execution_count": 54,
     "metadata": {},
     "output_type": "execute_result"
    }
   ],
   "source": [
    "'''\n",
    "prefered_city = coll.find(\n",
    "    {\"location\":\n",
    "     {\"$near\":\n",
    "      {\"$geometry\":\n",
    "       {\"type\":\"Point\",\n",
    "        \"coordinates\":[-73.9712,40.7831]\n",
    "       },\n",
    "       \"$maxDistance\":10000\n",
    "      }\n",
    "     }\n",
    "    }\n",
    ")\n",
    "prefered_city=list(prefered_city)\n",
    "'''"
   ]
  },
  {
   "cell_type": "code",
   "execution_count": 58,
   "metadata": {},
   "outputs": [
    {
     "data": {
      "text/plain": [
       "\"\\nfor wendy in manhattanWendys:\\n    folium.Marker(wendy['location']['coordinates'][::-1],\\n                    radius=2,\\n                    icon=folium.Icon(icon='cloud',color='red'), \\n                   ).add_to(map_city)\\n    \\nfor wendy in manhattanWendys[:5]:\\n    folium.Marker(wendy['location']['coordinates'][::-1],\\n                    radius=2,\\n                    icon=folium.Icon(icon='cloud',color='blue'), \\n                   ).add_to(map_city)\\n\""
      ]
     },
     "execution_count": 58,
     "metadata": {},
     "output_type": "execute_result"
    }
   ],
   "source": [
    "map_city=folium.Map(location=[40.7221,-73.9712], zoom_start=12)\n",
    "map_city\n",
    "'''\n",
    "for wendy in manhattanWendys:\n",
    "    folium.Marker(wendy['location']['coordinates'][::-1],\n",
    "                    radius=2,\n",
    "                    icon=folium.Icon(icon='cloud',color='red'), \n",
    "                   ).add_to(map_city)\n",
    "    \n",
    "for wendy in manhattanWendys[:5]:\n",
    "    folium.Marker(wendy['location']['coordinates'][::-1],\n",
    "                    radius=2,\n",
    "                    icon=folium.Icon(icon='cloud',color='blue'), \n",
    "                   ).add_to(map_city)\n",
    "'''"
   ]
  },
  {
   "cell_type": "code",
   "execution_count": null,
   "metadata": {},
   "outputs": [],
   "source": []
  }
 ],
 "metadata": {
  "kernelspec": {
   "display_name": "Python 3",
   "language": "python",
   "name": "python3"
  },
  "language_info": {
   "codemirror_mode": {
    "name": "ipython",
    "version": 3
   },
   "file_extension": ".py",
   "mimetype": "text/x-python",
   "name": "python",
   "nbconvert_exporter": "python",
   "pygments_lexer": "ipython3",
   "version": "3.7.4"
  }
 },
 "nbformat": 4,
 "nbformat_minor": 4
}
