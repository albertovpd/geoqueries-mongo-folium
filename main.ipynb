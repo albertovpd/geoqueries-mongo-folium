{
 "cells": [
  {
   "cell_type": "markdown",
   "metadata": {},
   "source": [
    "# Main jupyter. \n",
    "## This note contains:\n",
    "- functions\n",
    "- final dataset\n",
    "- folium with my final location\n",
    "    - folium is centered in the prefered location (taking into account my weight function to find it)\n",
    "- the distances are found using the haversine equation (to get the closest distance, considering the curvature of Earth)"
   ]
  },
  {
   "cell_type": "code",
   "execution_count": 1,
   "metadata": {},
   "outputs": [],
   "source": [
    "import folium\n",
    "import pandas as pd\n",
    "from haversine import haversine, Unit"
   ]
  },
  {
   "cell_type": "markdown",
   "metadata": {},
   "source": [
    "# My stored variables from another jupyters"
   ]
  },
  {
   "cell_type": "code",
   "execution_count": 2,
   "metadata": {},
   "outputs": [
    {
     "name": "stdout",
     "output_type": "stream",
     "text": [
      "Stored variables and their in-db values:\n",
      "facilities                    -> ['airport', 'airport', 'airport', 'airport', 'airp\n",
      "kindergarten_ubi              -> [(47.771722, -122.323327), (47.77412421775164, -12\n",
      "kindergarten_ubi1             -> [(-122.323327, 47.771722), (-122.08008087473401, 4\n",
      "kindergarten_ubi2             -> (-73.590806, 45.488338)\n",
      "kindergarten_ubi3             -> [(-73.98815083551503, 40.74512371133894), (-74.005\n",
      "kindergarten_ubi4             -> [(-122.65663932116907, 45.516230500599896), (-122.\n",
      "kindergarten_ubi5             -> [(-122.42151999253659, 37.773589712511665), (-121.\n",
      "lat_airport                   -> ['-6.081689834590001', -5.20707988739, -5.82678985\n",
      "lon_airport                   -> ['145.391998291', 145.789001465, 144.2960052490234\n",
      "office_lat                    -> [34.090368, 33.022176, 40.7464969, 53.344104, 34.0\n",
      "office_long                   -> [-118.393064, -117.081406, -74.0094471, -6.267494,\n",
      "office_name                   -> ['Geni', 'Slacker', 'Joost', 'Babelgum', 'Mahalo',\n",
      "star_lat                      -> [42.51, 25.42, 25.39, 24.48, 24.51, 24.4, 24.4, 24\n",
      "star_long                     -> [1.53, 55.47, 55.47, 54.38, 54.54, 54.49, 54.49, 5\n",
      "starbucks                     -> ['Meritxell, 96', 'Ajman Drive Thru', 'Dana Mall',\n"
     ]
    }
   ],
   "source": [
    "%store -r\n",
    "%store"
   ]
  },
  {
   "cell_type": "markdown",
   "metadata": {},
   "source": [
    "-----------\n",
    "# FUNCTIONS"
   ]
  },
  {
   "cell_type": "markdown",
   "metadata": {},
   "source": [
    "# - Measuring proximity"
   ]
  },
  {
   "cell_type": "markdown",
   "metadata": {},
   "source": [
    "## closest_and_ubi function using haversine formula\n",
    "- takes 2 lists (a,b) of geospatial coordinates (as long as required both, lengh-independent)\n",
    "- the output is:\n",
    "    - for all elements on a, the closest point to all elements of b\n",
    "    - the coordinates of the closest point of b\n",
    "- how it works_\n",
    "    name_list_for_distances, name_list_for_coordinates = closest_and_ubi (list1, list2)\n",
    "    \n",
    "it is not allowed to storage functions in one jupyter-notebook and call them from another. You get a RaiseError output. So I define my functions below"
   ]
  },
  {
   "cell_type": "code",
   "execution_count": 3,
   "metadata": {},
   "outputs": [],
   "source": [
    "def closest_and_ubi(offices_ubi,airports_ubi):\n",
    "    '''    Esta función necesita correrse como a,b=closest_and_ubi(elem1,elem2)'''\n",
    "    ubi_to_office=[]\n",
    "    closest_airport = []\n",
    "    for o in offices_ubi:\n",
    "        distancia=[]\n",
    "        airports=[]\n",
    "        for a in airports_ubi:\n",
    "            #if haversine(o,a)<200:\n",
    "            distancia.append(haversine(o,a))\n",
    "            airports.append(a)\n",
    "            \n",
    "        m=min(distancia)\n",
    "        air=airports[distancia.index(m)]\n",
    "        ubi_to_office.append(round(m,1))  #the result is given gith uncertainty of +- 0.1km\n",
    "        closest_airport.append(air)\n",
    "\n",
    "    return ubi_to_office, closest_airport"
   ]
  },
  {
   "cell_type": "markdown",
   "metadata": {},
   "source": [
    "# - Creating coord tuples from lists of coordinates\n",
    "- I got lists of longitudes and latitudes for all places i'm working with in different jupyter-notebooks. I'll turn it into tuples in order to use the haversine library"
   ]
  },
  {
   "cell_type": "code",
   "execution_count": 4,
   "metadata": {},
   "outputs": [],
   "source": [
    "def coord_tuple(list_lat,list_long):    \n",
    "    '''- input: 2 lists. list1: latitudes, list2:longitudes\n",
    "    - output: list of tuples with coordinates\n",
    "    - how to: coordenadas=tuple(list_lat,list_ong)'''\n",
    "    \n",
    "    airports_ubi=[]\n",
    "    for lat,long in zip(list_lat,list_long):\n",
    "        ubication=(float(lat),float(long))\n",
    "        airports_ubi.append(ubication)\n",
    "    return airports_ubi"
   ]
  },
  {
   "cell_type": "markdown",
   "metadata": {},
   "source": [
    "# - Geolocating with Folium"
   ]
  },
  {
   "cell_type": "code",
   "execution_count": 32,
   "metadata": {},
   "outputs": [],
   "source": [
    "def map_adding(lista,nombre,colores):\n",
    "    '''\n",
    "    lista== column of the final dataset\n",
    "    nombre== kind of facility\n",
    "    colores == colour for this kind of facility\n",
    "    '''\n",
    "    for i in lista:\n",
    "        folium.CircleMarker(\n",
    "            location=[i[0],i[1]],\n",
    "            radius=50,\n",
    "            popup=nombre,\n",
    "            color=colores,\n",
    "            fill=True,\n",
    "            fill_color=colores\n",
    "        ).add_to(world_map)"
   ]
  },
  {
   "cell_type": "markdown",
   "metadata": {},
   "source": [
    "# Creating coord tuples with my ubications\n",
    "- it take the list of latitudes and list of longitudes for each ubication and turn it into a list of tuples (because is the designed mode to use haversine library)"
   ]
  },
  {
   "cell_type": "code",
   "execution_count": 6,
   "metadata": {},
   "outputs": [],
   "source": [
    "airports_ubi=coord_tuple(lat_airport,lon_airport)"
   ]
  },
  {
   "cell_type": "code",
   "execution_count": 7,
   "metadata": {},
   "outputs": [],
   "source": [
    "starbucks_ubi=coord_tuple(star_lat,star_long)"
   ]
  },
  {
   "cell_type": "code",
   "execution_count": 10,
   "metadata": {},
   "outputs": [],
   "source": [
    "offices_ubi=coord_tuple(office_lat,office_long)"
   ]
  },
  {
   "cell_type": "markdown",
   "metadata": {},
   "source": [
    "# Getting the closest distance from offices\n",
    "- to all airports in my dataset (the most important in the world)\n",
    "- I tried the scipy module for this purpose, but all i found it was uncompatible with gps coordinates, so, i downloaded the haversine library and worked with it"
   ]
  },
  {
   "cell_type": "code",
   "execution_count": 11,
   "metadata": {},
   "outputs": [],
   "source": [
    "# using the function defined above\n",
    "distance_airport_km, ubi_airport = closest_and_ubi(offices_ubi,airports_ubi)"
   ]
  },
  {
   "cell_type": "code",
   "execution_count": 12,
   "metadata": {},
   "outputs": [],
   "source": [
    "distance_starbucks_km, ubi_starbucks=closest_and_ubi(offices_ubi,starbucks_ubi)"
   ]
  },
  {
   "cell_type": "code",
   "execution_count": 13,
   "metadata": {},
   "outputs": [],
   "source": [
    "distance_kindergarten_km, ubi_kindergarten=closest_and_ubi(offices_ubi,kindergarten_ubi)"
   ]
  },
  {
   "cell_type": "code",
   "execution_count": null,
   "metadata": {},
   "outputs": [],
   "source": []
  },
  {
   "cell_type": "markdown",
   "metadata": {},
   "source": [
    "# Creating my dataframe with all the information:"
   ]
  },
  {
   "cell_type": "code",
   "execution_count": 18,
   "metadata": {},
   "outputs": [],
   "source": [
    "data=pd.DataFrame({\"offices\":offices_ubi, \n",
    "                   \"distance_mobility_point(km)\":distance_airport_km,\n",
    "                   \"distance_starbucks(km)\":distance_starbucks_km,\n",
    "                   \"distance_kindergartens(km)\":distance_kindergarten_km,\n",
    "                   \"coords_airport\":ubi_airport,\n",
    "                   \"coords_starbucks\":ubi_starbucks,\n",
    "                  \"coords_kindergartens\":ubi_kindergarten})\n"
   ]
  },
  {
   "cell_type": "code",
   "execution_count": null,
   "metadata": {},
   "outputs": [],
   "source": []
  },
  {
   "cell_type": "markdown",
   "metadata": {},
   "source": [
    "# Weight function to find the perfect spot\n",
    "- I created a simple way to rank the preferred location\n",
    "    - starbucks have great weight\n",
    "    - it is not neccessary to have an airport very close, so airports weight reduce them in the function"
   ]
  },
  {
   "cell_type": "code",
   "execution_count": 21,
   "metadata": {},
   "outputs": [],
   "source": [
    "data['Reverse_rank'] =(data[\"distance_mobility_point(km)\"]*0.02+data[\"distance_starbucks(km)\"]*100+data[\"distance_kindergartens(km)\"]*40)"
   ]
  },
  {
   "cell_type": "code",
   "execution_count": 22,
   "metadata": {},
   "outputs": [],
   "source": [
    "data=data.sort_values(by=[\"Reverse_rank\"])"
   ]
  },
  {
   "cell_type": "code",
   "execution_count": 23,
   "metadata": {},
   "outputs": [],
   "source": [
    "final_data=data.reset_index(drop=True)"
   ]
  },
  {
   "cell_type": "code",
   "execution_count": 24,
   "metadata": {},
   "outputs": [
    {
     "data": {
      "text/html": [
       "<div>\n",
       "<style scoped>\n",
       "    .dataframe tbody tr th:only-of-type {\n",
       "        vertical-align: middle;\n",
       "    }\n",
       "\n",
       "    .dataframe tbody tr th {\n",
       "        vertical-align: top;\n",
       "    }\n",
       "\n",
       "    .dataframe thead th {\n",
       "        text-align: right;\n",
       "    }\n",
       "</style>\n",
       "<table border=\"1\" class=\"dataframe\">\n",
       "  <thead>\n",
       "    <tr style=\"text-align: right;\">\n",
       "      <th></th>\n",
       "      <th>offices</th>\n",
       "      <th>distance_mobility_point(km)</th>\n",
       "      <th>distance_starbucks(km)</th>\n",
       "      <th>distance_kindergartens(km)</th>\n",
       "      <th>coords_airport</th>\n",
       "      <th>coords_starbucks</th>\n",
       "      <th>coords_kindergartens</th>\n",
       "      <th>Reverse_rank</th>\n",
       "    </tr>\n",
       "  </thead>\n",
       "  <tbody>\n",
       "    <tr>\n",
       "      <td>0</td>\n",
       "      <td>(40.739867, -73.990024)</td>\n",
       "      <td>1.2</td>\n",
       "      <td>0.0</td>\n",
       "      <td>0.6</td>\n",
       "      <td>(40.7505, -73.9935)</td>\n",
       "      <td>(40.74, -73.99)</td>\n",
       "      <td>(40.74512371133894, -73.98815083551503)</td>\n",
       "      <td>24.024</td>\n",
       "    </tr>\n",
       "    <tr>\n",
       "      <td>1</td>\n",
       "      <td>(40.72948, -74.000195)</td>\n",
       "      <td>1.8</td>\n",
       "      <td>0.1</td>\n",
       "      <td>0.4</td>\n",
       "      <td>(40.714166999999996, -74.005833)</td>\n",
       "      <td>(40.73, -74.0)</td>\n",
       "      <td>(40.728274, -74.005063)</td>\n",
       "      <td>26.036</td>\n",
       "    </tr>\n",
       "    <tr>\n",
       "      <td>2</td>\n",
       "      <td>(40.73906, -73.990911)</td>\n",
       "      <td>1.3</td>\n",
       "      <td>0.1</td>\n",
       "      <td>0.7</td>\n",
       "      <td>(40.7505, -73.9935)</td>\n",
       "      <td>(40.74, -73.99)</td>\n",
       "      <td>(40.74512371133894, -73.98815083551503)</td>\n",
       "      <td>38.026</td>\n",
       "    </tr>\n",
       "    <tr>\n",
       "      <td>3</td>\n",
       "      <td>(40.740512, -73.987794)</td>\n",
       "      <td>1.2</td>\n",
       "      <td>0.2</td>\n",
       "      <td>0.5</td>\n",
       "      <td>(40.7505, -73.9935)</td>\n",
       "      <td>(40.74, -73.99)</td>\n",
       "      <td>(40.74512371133894, -73.98815083551503)</td>\n",
       "      <td>40.024</td>\n",
       "    </tr>\n",
       "    <tr>\n",
       "      <td>4</td>\n",
       "      <td>(40.7438356, -73.9890149)</td>\n",
       "      <td>0.8</td>\n",
       "      <td>0.4</td>\n",
       "      <td>0.2</td>\n",
       "      <td>(40.7505, -73.9935)</td>\n",
       "      <td>(40.74, -73.99)</td>\n",
       "      <td>(40.74512371133894, -73.98815083551503)</td>\n",
       "      <td>48.016</td>\n",
       "    </tr>\n",
       "  </tbody>\n",
       "</table>\n",
       "</div>"
      ],
      "text/plain": [
       "                     offices  distance_mobility_point(km)  \\\n",
       "0    (40.739867, -73.990024)                          1.2   \n",
       "1     (40.72948, -74.000195)                          1.8   \n",
       "2     (40.73906, -73.990911)                          1.3   \n",
       "3    (40.740512, -73.987794)                          1.2   \n",
       "4  (40.7438356, -73.9890149)                          0.8   \n",
       "\n",
       "   distance_starbucks(km)  distance_kindergartens(km)  \\\n",
       "0                     0.0                         0.6   \n",
       "1                     0.1                         0.4   \n",
       "2                     0.1                         0.7   \n",
       "3                     0.2                         0.5   \n",
       "4                     0.4                         0.2   \n",
       "\n",
       "                     coords_airport coords_starbucks  \\\n",
       "0               (40.7505, -73.9935)  (40.74, -73.99)   \n",
       "1  (40.714166999999996, -74.005833)   (40.73, -74.0)   \n",
       "2               (40.7505, -73.9935)  (40.74, -73.99)   \n",
       "3               (40.7505, -73.9935)  (40.74, -73.99)   \n",
       "4               (40.7505, -73.9935)  (40.74, -73.99)   \n",
       "\n",
       "                      coords_kindergartens  Reverse_rank  \n",
       "0  (40.74512371133894, -73.98815083551503)        24.024  \n",
       "1                  (40.728274, -74.005063)        26.036  \n",
       "2  (40.74512371133894, -73.98815083551503)        38.026  \n",
       "3  (40.74512371133894, -73.98815083551503)        40.024  \n",
       "4  (40.74512371133894, -73.98815083551503)        48.016  "
      ]
     },
     "execution_count": 24,
     "metadata": {},
     "output_type": "execute_result"
    }
   ],
   "source": [
    "final_data.head(5)"
   ]
  },
  {
   "cell_type": "markdown",
   "metadata": {},
   "source": [
    "# Folium"
   ]
  },
  {
   "cell_type": "code",
   "execution_count": 25,
   "metadata": {},
   "outputs": [],
   "source": [
    "# Creating name labels:\n"
   ]
  },
  {
   "cell_type": "code",
   "execution_count": 26,
   "metadata": {},
   "outputs": [],
   "source": [
    "world_map=folium.Map(location=[final_data[\"offices\"][0][0],final_data[\"offices\"][0][1]])"
   ]
  },
  {
   "cell_type": "code",
   "execution_count": 19,
   "metadata": {},
   "outputs": [],
   "source": [
    "#world_map"
   ]
  },
  {
   "cell_type": "code",
   "execution_count": 33,
   "metadata": {},
   "outputs": [],
   "source": [
    "map_adding(final_data[\"offices\"][0:5], \"offices\",\"red\")"
   ]
  },
  {
   "cell_type": "code",
   "execution_count": 1,
   "metadata": {},
   "outputs": [
    {
     "ename": "NameError",
     "evalue": "name 'map_adding' is not defined",
     "output_type": "error",
     "traceback": [
      "\u001b[0;31m---------------------------------------------------------------------------\u001b[0m",
      "\u001b[0;31mNameError\u001b[0m                                 Traceback (most recent call last)",
      "\u001b[0;32m<ipython-input-1-429f61c8bbda>\u001b[0m in \u001b[0;36m<module>\u001b[0;34m\u001b[0m\n\u001b[0;32m----> 1\u001b[0;31m \u001b[0mmap_adding\u001b[0m\u001b[0;34m(\u001b[0m\u001b[0mfinal_data\u001b[0m\u001b[0;34m[\u001b[0m\u001b[0;34m\"coords_airport\"\u001b[0m\u001b[0;34m]\u001b[0m\u001b[0;34m[\u001b[0m\u001b[0;36m0\u001b[0m\u001b[0;34m:\u001b[0m\u001b[0;36m5\u001b[0m\u001b[0;34m]\u001b[0m\u001b[0;34m,\u001b[0m\u001b[0;34m\"public transport infrastructure\"\u001b[0m\u001b[0;34m,\u001b[0m\u001b[0;34m\"grey\"\u001b[0m\u001b[0;34m)\u001b[0m\u001b[0;34m\u001b[0m\u001b[0;34m\u001b[0m\u001b[0m\n\u001b[0m",
      "\u001b[0;31mNameError\u001b[0m: name 'map_adding' is not defined"
     ]
    }
   ],
   "source": [
    "map_adding(final_data[\"coords_airport\"][0:5],\"public transport\",\"grey\")"
   ]
  },
  {
   "cell_type": "code",
   "execution_count": 35,
   "metadata": {},
   "outputs": [],
   "source": [
    "map_adding(final_data[\"coords_starbucks\"][0:5],\"starbucks\",\"green\")"
   ]
  },
  {
   "cell_type": "code",
   "execution_count": 36,
   "metadata": {},
   "outputs": [],
   "source": [
    "map_adding(final_data[\"coords_kindergartens\"][0:5], \"kindergarten\",\"blue\")"
   ]
  },
  {
   "cell_type": "code",
   "execution_count": 37,
   "metadata": {},
   "outputs": [
    {
     "data": {
      "text/html": [
       "<div style=\"width:100%;\"><div style=\"position:relative;width:100%;height:0;padding-bottom:60%;\"><iframe src=\"data:text/html;charset=utf-8;base64,PCFET0NUWVBFIGh0bWw+CjxoZWFkPiAgICAKICAgIDxtZXRhIGh0dHAtZXF1aXY9ImNvbnRlbnQtdHlwZSIgY29udGVudD0idGV4dC9odG1sOyBjaGFyc2V0PVVURi04IiAvPgogICAgCiAgICAgICAgPHNjcmlwdD4KICAgICAgICAgICAgTF9OT19UT1VDSCA9IGZhbHNlOwogICAgICAgICAgICBMX0RJU0FCTEVfM0QgPSBmYWxzZTsKICAgICAgICA8L3NjcmlwdD4KICAgIAogICAgPHNjcmlwdCBzcmM9Imh0dHBzOi8vY2RuLmpzZGVsaXZyLm5ldC9ucG0vbGVhZmxldEAxLjUuMS9kaXN0L2xlYWZsZXQuanMiPjwvc2NyaXB0PgogICAgPHNjcmlwdCBzcmM9Imh0dHBzOi8vY29kZS5qcXVlcnkuY29tL2pxdWVyeS0xLjEyLjQubWluLmpzIj48L3NjcmlwdD4KICAgIDxzY3JpcHQgc3JjPSJodHRwczovL21heGNkbi5ib290c3RyYXBjZG4uY29tL2Jvb3RzdHJhcC8zLjIuMC9qcy9ib290c3RyYXAubWluLmpzIj48L3NjcmlwdD4KICAgIDxzY3JpcHQgc3JjPSJodHRwczovL2NkbmpzLmNsb3VkZmxhcmUuY29tL2FqYXgvbGlicy9MZWFmbGV0LmF3ZXNvbWUtbWFya2Vycy8yLjAuMi9sZWFmbGV0LmF3ZXNvbWUtbWFya2Vycy5qcyI+PC9zY3JpcHQ+CiAgICA8bGluayByZWw9InN0eWxlc2hlZXQiIGhyZWY9Imh0dHBzOi8vY2RuLmpzZGVsaXZyLm5ldC9ucG0vbGVhZmxldEAxLjUuMS9kaXN0L2xlYWZsZXQuY3NzIi8+CiAgICA8bGluayByZWw9InN0eWxlc2hlZXQiIGhyZWY9Imh0dHBzOi8vbWF4Y2RuLmJvb3RzdHJhcGNkbi5jb20vYm9vdHN0cmFwLzMuMi4wL2Nzcy9ib290c3RyYXAubWluLmNzcyIvPgogICAgPGxpbmsgcmVsPSJzdHlsZXNoZWV0IiBocmVmPSJodHRwczovL21heGNkbi5ib290c3RyYXBjZG4uY29tL2Jvb3RzdHJhcC8zLjIuMC9jc3MvYm9vdHN0cmFwLXRoZW1lLm1pbi5jc3MiLz4KICAgIDxsaW5rIHJlbD0ic3R5bGVzaGVldCIgaHJlZj0iaHR0cHM6Ly9tYXhjZG4uYm9vdHN0cmFwY2RuLmNvbS9mb250LWF3ZXNvbWUvNC42LjMvY3NzL2ZvbnQtYXdlc29tZS5taW4uY3NzIi8+CiAgICA8bGluayByZWw9InN0eWxlc2hlZXQiIGhyZWY9Imh0dHBzOi8vY2RuanMuY2xvdWRmbGFyZS5jb20vYWpheC9saWJzL0xlYWZsZXQuYXdlc29tZS1tYXJrZXJzLzIuMC4yL2xlYWZsZXQuYXdlc29tZS1tYXJrZXJzLmNzcyIvPgogICAgPGxpbmsgcmVsPSJzdHlsZXNoZWV0IiBocmVmPSJodHRwczovL3Jhd2Nkbi5naXRoYWNrLmNvbS9weXRob24tdmlzdWFsaXphdGlvbi9mb2xpdW0vbWFzdGVyL2ZvbGl1bS90ZW1wbGF0ZXMvbGVhZmxldC5hd2Vzb21lLnJvdGF0ZS5jc3MiLz4KICAgIDxzdHlsZT5odG1sLCBib2R5IHt3aWR0aDogMTAwJTtoZWlnaHQ6IDEwMCU7bWFyZ2luOiAwO3BhZGRpbmc6IDA7fTwvc3R5bGU+CiAgICA8c3R5bGU+I21hcCB7cG9zaXRpb246YWJzb2x1dGU7dG9wOjA7Ym90dG9tOjA7cmlnaHQ6MDtsZWZ0OjA7fTwvc3R5bGU+CiAgICAKICAgICAgICAgICAgPG1ldGEgbmFtZT0idmlld3BvcnQiIGNvbnRlbnQ9IndpZHRoPWRldmljZS13aWR0aCwKICAgICAgICAgICAgICAgIGluaXRpYWwtc2NhbGU9MS4wLCBtYXhpbXVtLXNjYWxlPTEuMCwgdXNlci1zY2FsYWJsZT1ubyIgLz4KICAgICAgICAgICAgPHN0eWxlPgogICAgICAgICAgICAgICAgI21hcF9iYWY4NjczNGMwZDM0OTkzODU3OWY2MGQzNmIwZDU3ZCB7CiAgICAgICAgICAgICAgICAgICAgcG9zaXRpb246IHJlbGF0aXZlOwogICAgICAgICAgICAgICAgICAgIHdpZHRoOiAxMDAuMCU7CiAgICAgICAgICAgICAgICAgICAgaGVpZ2h0OiAxMDAuMCU7CiAgICAgICAgICAgICAgICAgICAgbGVmdDogMC4wJTsKICAgICAgICAgICAgICAgICAgICB0b3A6IDAuMCU7CiAgICAgICAgICAgICAgICB9CiAgICAgICAgICAgIDwvc3R5bGU+CiAgICAgICAgCjwvaGVhZD4KPGJvZHk+ICAgIAogICAgCiAgICAgICAgICAgIDxkaXYgY2xhc3M9ImZvbGl1bS1tYXAiIGlkPSJtYXBfYmFmODY3MzRjMGQzNDk5Mzg1NzlmNjBkMzZiMGQ1N2QiID48L2Rpdj4KICAgICAgICAKPC9ib2R5Pgo8c2NyaXB0PiAgICAKICAgIAogICAgICAgICAgICB2YXIgbWFwX2JhZjg2NzM0YzBkMzQ5OTM4NTc5ZjYwZDM2YjBkNTdkID0gTC5tYXAoCiAgICAgICAgICAgICAgICAibWFwX2JhZjg2NzM0YzBkMzQ5OTM4NTc5ZjYwZDM2YjBkNTdkIiwKICAgICAgICAgICAgICAgIHsKICAgICAgICAgICAgICAgICAgICBjZW50ZXI6IFs0MC43Mzk4NjcsIC03My45OTAwMjRdLAogICAgICAgICAgICAgICAgICAgIGNyczogTC5DUlMuRVBTRzM4NTcsCiAgICAgICAgICAgICAgICAgICAgem9vbTogMTAsCiAgICAgICAgICAgICAgICAgICAgem9vbUNvbnRyb2w6IHRydWUsCiAgICAgICAgICAgICAgICAgICAgcHJlZmVyQ2FudmFzOiBmYWxzZSwKICAgICAgICAgICAgICAgIH0KICAgICAgICAgICAgKTsKCiAgICAgICAgICAgIAoKICAgICAgICAKICAgIAogICAgICAgICAgICB2YXIgdGlsZV9sYXllcl8xMzcxYjQ3MzhmODY0ZTQ2OThlODE0YTZmYWVjMTNjOCA9IEwudGlsZUxheWVyKAogICAgICAgICAgICAgICAgImh0dHBzOi8ve3N9LnRpbGUub3BlbnN0cmVldG1hcC5vcmcve3p9L3t4fS97eX0ucG5nIiwKICAgICAgICAgICAgICAgIHsiYXR0cmlidXRpb24iOiAiRGF0YSBieSBcdTAwMjZjb3B5OyBcdTAwM2NhIGhyZWY9XCJodHRwOi8vb3BlbnN0cmVldG1hcC5vcmdcIlx1MDAzZU9wZW5TdHJlZXRNYXBcdTAwM2MvYVx1MDAzZSwgdW5kZXIgXHUwMDNjYSBocmVmPVwiaHR0cDovL3d3dy5vcGVuc3RyZWV0bWFwLm9yZy9jb3B5cmlnaHRcIlx1MDAzZU9EYkxcdTAwM2MvYVx1MDAzZS4iLCAiZGV0ZWN0UmV0aW5hIjogZmFsc2UsICJtYXhOYXRpdmVab29tIjogMTgsICJtYXhab29tIjogMTgsICJtaW5ab29tIjogMCwgIm5vV3JhcCI6IGZhbHNlLCAib3BhY2l0eSI6IDEsICJzdWJkb21haW5zIjogImFiYyIsICJ0bXMiOiBmYWxzZX0KICAgICAgICAgICAgKS5hZGRUbyhtYXBfYmFmODY3MzRjMGQzNDk5Mzg1NzlmNjBkMzZiMGQ1N2QpOwogICAgICAgIAogICAgCiAgICAgICAgICAgIHZhciBjaXJjbGVfbWFya2VyXzg4MTdmMzUyZGM0MjRjMjc5YmU0ODE4NTFkZmVlNDExID0gTC5jaXJjbGVNYXJrZXIoCiAgICAgICAgICAgICAgICBbNDAuNzM5ODY3LCAtNzMuOTkwMDI0XSwKICAgICAgICAgICAgICAgIHsiYnViYmxpbmdNb3VzZUV2ZW50cyI6IHRydWUsICJjb2xvciI6ICJyZWQiLCAiZGFzaEFycmF5IjogbnVsbCwgImRhc2hPZmZzZXQiOiBudWxsLCAiZmlsbCI6IHRydWUsICJmaWxsQ29sb3IiOiAicmVkIiwgImZpbGxPcGFjaXR5IjogMC4yLCAiZmlsbFJ1bGUiOiAiZXZlbm9kZCIsICJsaW5lQ2FwIjogInJvdW5kIiwgImxpbmVKb2luIjogInJvdW5kIiwgIm9wYWNpdHkiOiAxLjAsICJyYWRpdXMiOiA0MCwgInN0cm9rZSI6IHRydWUsICJ3ZWlnaHQiOiAzfQogICAgICAgICAgICApLmFkZFRvKG1hcF9iYWY4NjczNGMwZDM0OTkzODU3OWY2MGQzNmIwZDU3ZCk7CiAgICAgICAgCiAgICAKICAgICAgICB2YXIgcG9wdXBfNTRlZjE2MGVkODgyNGMwM2JjMTY1OWI3NzY5YTNkNjggPSBMLnBvcHVwKHsibWF4V2lkdGgiOiAiMTAwJSJ9KTsKCiAgICAgICAgCiAgICAgICAgICAgIHZhciBodG1sXzA5MjAxYTQzNDhkOTRhNTM5ZTRmZTAyMWQ4YTVmNjQ5ID0gJChgPGRpdiBpZD0iaHRtbF8wOTIwMWE0MzQ4ZDk0YTUzOWU0ZmUwMjFkOGE1ZjY0OSIgc3R5bGU9IndpZHRoOiAxMDAuMCU7IGhlaWdodDogMTAwLjAlOyI+b2ZmaWNlczwvZGl2PmApWzBdOwogICAgICAgICAgICBwb3B1cF81NGVmMTYwZWQ4ODI0YzAzYmMxNjU5Yjc3NjlhM2Q2OC5zZXRDb250ZW50KGh0bWxfMDkyMDFhNDM0OGQ5NGE1MzllNGZlMDIxZDhhNWY2NDkpOwogICAgICAgIAoKICAgICAgICBjaXJjbGVfbWFya2VyXzg4MTdmMzUyZGM0MjRjMjc5YmU0ODE4NTFkZmVlNDExLmJpbmRQb3B1cChwb3B1cF81NGVmMTYwZWQ4ODI0YzAzYmMxNjU5Yjc3NjlhM2Q2OCkKICAgICAgICA7CgogICAgICAgIAogICAgCiAgICAKICAgICAgICAgICAgdmFyIGNpcmNsZV9tYXJrZXJfNDdjNDNhZjI1Zjg4NDdiNjk1YTBmMjk3ODY4MmNhMWUgPSBMLmNpcmNsZU1hcmtlcigKICAgICAgICAgICAgICAgIFs0MC43Mjk0OCwgLTc0LjAwMDE5NV0sCiAgICAgICAgICAgICAgICB7ImJ1YmJsaW5nTW91c2VFdmVudHMiOiB0cnVlLCAiY29sb3IiOiAicmVkIiwgImRhc2hBcnJheSI6IG51bGwsICJkYXNoT2Zmc2V0IjogbnVsbCwgImZpbGwiOiB0cnVlLCAiZmlsbENvbG9yIjogInJlZCIsICJmaWxsT3BhY2l0eSI6IDAuMiwgImZpbGxSdWxlIjogImV2ZW5vZGQiLCAibGluZUNhcCI6ICJyb3VuZCIsICJsaW5lSm9pbiI6ICJyb3VuZCIsICJvcGFjaXR5IjogMS4wLCAicmFkaXVzIjogNDAsICJzdHJva2UiOiB0cnVlLCAid2VpZ2h0IjogM30KICAgICAgICAgICAgKS5hZGRUbyhtYXBfYmFmODY3MzRjMGQzNDk5Mzg1NzlmNjBkMzZiMGQ1N2QpOwogICAgICAgIAogICAgCiAgICAgICAgdmFyIHBvcHVwXzhiNjg5OTNjMjRkOTRhMjQ5YzM2OWMxMjQ2MjY5ZDNkID0gTC5wb3B1cCh7Im1heFdpZHRoIjogIjEwMCUifSk7CgogICAgICAgIAogICAgICAgICAgICB2YXIgaHRtbF84NWMzY2RmMGEwMmY0OGNhYWYzYzBhMTVlNTFmMzgwOSA9ICQoYDxkaXYgaWQ9Imh0bWxfODVjM2NkZjBhMDJmNDhjYWFmM2MwYTE1ZTUxZjM4MDkiIHN0eWxlPSJ3aWR0aDogMTAwLjAlOyBoZWlnaHQ6IDEwMC4wJTsiPm9mZmljZXM8L2Rpdj5gKVswXTsKICAgICAgICAgICAgcG9wdXBfOGI2ODk5M2MyNGQ5NGEyNDljMzY5YzEyNDYyNjlkM2Quc2V0Q29udGVudChodG1sXzg1YzNjZGYwYTAyZjQ4Y2FhZjNjMGExNWU1MWYzODA5KTsKICAgICAgICAKCiAgICAgICAgY2lyY2xlX21hcmtlcl80N2M0M2FmMjVmODg0N2I2OTVhMGYyOTc4NjgyY2ExZS5iaW5kUG9wdXAocG9wdXBfOGI2ODk5M2MyNGQ5NGEyNDljMzY5YzEyNDYyNjlkM2QpCiAgICAgICAgOwoKICAgICAgICAKICAgIAogICAgCiAgICAgICAgICAgIHZhciBjaXJjbGVfbWFya2VyXzcyYTFjMmZkMGFkZDQ0NWNhMTFjOGNmZGEzNjVmMmFlID0gTC5jaXJjbGVNYXJrZXIoCiAgICAgICAgICAgICAgICBbNDAuNzM5MDYsIC03My45OTA5MTFdLAogICAgICAgICAgICAgICAgeyJidWJibGluZ01vdXNlRXZlbnRzIjogdHJ1ZSwgImNvbG9yIjogInJlZCIsICJkYXNoQXJyYXkiOiBudWxsLCAiZGFzaE9mZnNldCI6IG51bGwsICJmaWxsIjogdHJ1ZSwgImZpbGxDb2xvciI6ICJyZWQiLCAiZmlsbE9wYWNpdHkiOiAwLjIsICJmaWxsUnVsZSI6ICJldmVub2RkIiwgImxpbmVDYXAiOiAicm91bmQiLCAibGluZUpvaW4iOiAicm91bmQiLCAib3BhY2l0eSI6IDEuMCwgInJhZGl1cyI6IDQwLCAic3Ryb2tlIjogdHJ1ZSwgIndlaWdodCI6IDN9CiAgICAgICAgICAgICkuYWRkVG8obWFwX2JhZjg2NzM0YzBkMzQ5OTM4NTc5ZjYwZDM2YjBkNTdkKTsKICAgICAgICAKICAgIAogICAgICAgIHZhciBwb3B1cF81YzMxODhjZWRhMTA0YTUyYWNjN2JmMTg1MDBmNzU0YyA9IEwucG9wdXAoeyJtYXhXaWR0aCI6ICIxMDAlIn0pOwoKICAgICAgICAKICAgICAgICAgICAgdmFyIGh0bWxfYzQ4YTViYzMyNzE1NGE2NjliNDU0YTMxZjk1ZWEyODggPSAkKGA8ZGl2IGlkPSJodG1sX2M0OGE1YmMzMjcxNTRhNjY5YjQ1NGEzMWY5NWVhMjg4IiBzdHlsZT0id2lkdGg6IDEwMC4wJTsgaGVpZ2h0OiAxMDAuMCU7Ij5vZmZpY2VzPC9kaXY+YClbMF07CiAgICAgICAgICAgIHBvcHVwXzVjMzE4OGNlZGExMDRhNTJhY2M3YmYxODUwMGY3NTRjLnNldENvbnRlbnQoaHRtbF9jNDhhNWJjMzI3MTU0YTY2OWI0NTRhMzFmOTVlYTI4OCk7CiAgICAgICAgCgogICAgICAgIGNpcmNsZV9tYXJrZXJfNzJhMWMyZmQwYWRkNDQ1Y2ExMWM4Y2ZkYTM2NWYyYWUuYmluZFBvcHVwKHBvcHVwXzVjMzE4OGNlZGExMDRhNTJhY2M3YmYxODUwMGY3NTRjKQogICAgICAgIDsKCiAgICAgICAgCiAgICAKICAgIAogICAgICAgICAgICB2YXIgY2lyY2xlX21hcmtlcl83YTQ1ODhiZjE5ZGM0MjlhODQxNTc2OTY5MzE1MTM4NiA9IEwuY2lyY2xlTWFya2VyKAogICAgICAgICAgICAgICAgWzQwLjc0MDUxMiwgLTczLjk4Nzc5NF0sCiAgICAgICAgICAgICAgICB7ImJ1YmJsaW5nTW91c2VFdmVudHMiOiB0cnVlLCAiY29sb3IiOiAicmVkIiwgImRhc2hBcnJheSI6IG51bGwsICJkYXNoT2Zmc2V0IjogbnVsbCwgImZpbGwiOiB0cnVlLCAiZmlsbENvbG9yIjogInJlZCIsICJmaWxsT3BhY2l0eSI6IDAuMiwgImZpbGxSdWxlIjogImV2ZW5vZGQiLCAibGluZUNhcCI6ICJyb3VuZCIsICJsaW5lSm9pbiI6ICJyb3VuZCIsICJvcGFjaXR5IjogMS4wLCAicmFkaXVzIjogNDAsICJzdHJva2UiOiB0cnVlLCAid2VpZ2h0IjogM30KICAgICAgICAgICAgKS5hZGRUbyhtYXBfYmFmODY3MzRjMGQzNDk5Mzg1NzlmNjBkMzZiMGQ1N2QpOwogICAgICAgIAogICAgCiAgICAgICAgdmFyIHBvcHVwXzQ0OTdlNzI4MWVmMjQ1OTJiNjgxYTZkODRlMzIyNjA3ID0gTC5wb3B1cCh7Im1heFdpZHRoIjogIjEwMCUifSk7CgogICAgICAgIAogICAgICAgICAgICB2YXIgaHRtbF9hZTg1NTJkOTJkYmE0ZmNhYTFlNzcwYjhjMDQyNTQ2NSA9ICQoYDxkaXYgaWQ9Imh0bWxfYWU4NTUyZDkyZGJhNGZjYWExZTc3MGI4YzA0MjU0NjUiIHN0eWxlPSJ3aWR0aDogMTAwLjAlOyBoZWlnaHQ6IDEwMC4wJTsiPm9mZmljZXM8L2Rpdj5gKVswXTsKICAgICAgICAgICAgcG9wdXBfNDQ5N2U3MjgxZWYyNDU5MmI2ODFhNmQ4NGUzMjI2MDcuc2V0Q29udGVudChodG1sX2FlODU1MmQ5MmRiYTRmY2FhMWU3NzBiOGMwNDI1NDY1KTsKICAgICAgICAKCiAgICAgICAgY2lyY2xlX21hcmtlcl83YTQ1ODhiZjE5ZGM0MjlhODQxNTc2OTY5MzE1MTM4Ni5iaW5kUG9wdXAocG9wdXBfNDQ5N2U3MjgxZWYyNDU5MmI2ODFhNmQ4NGUzMjI2MDcpCiAgICAgICAgOwoKICAgICAgICAKICAgIAogICAgCiAgICAgICAgICAgIHZhciBjaXJjbGVfbWFya2VyXzIzYWQxZmI1MmJhNzQyY2RhOTVmMWFkM2RjZmQ0NTQxID0gTC5jaXJjbGVNYXJrZXIoCiAgICAgICAgICAgICAgICBbNDAuNzQzODM1NiwgLTczLjk4OTAxNDldLAogICAgICAgICAgICAgICAgeyJidWJibGluZ01vdXNlRXZlbnRzIjogdHJ1ZSwgImNvbG9yIjogInJlZCIsICJkYXNoQXJyYXkiOiBudWxsLCAiZGFzaE9mZnNldCI6IG51bGwsICJmaWxsIjogdHJ1ZSwgImZpbGxDb2xvciI6ICJyZWQiLCAiZmlsbE9wYWNpdHkiOiAwLjIsICJmaWxsUnVsZSI6ICJldmVub2RkIiwgImxpbmVDYXAiOiAicm91bmQiLCAibGluZUpvaW4iOiAicm91bmQiLCAib3BhY2l0eSI6IDEuMCwgInJhZGl1cyI6IDQwLCAic3Ryb2tlIjogdHJ1ZSwgIndlaWdodCI6IDN9CiAgICAgICAgICAgICkuYWRkVG8obWFwX2JhZjg2NzM0YzBkMzQ5OTM4NTc5ZjYwZDM2YjBkNTdkKTsKICAgICAgICAKICAgIAogICAgICAgIHZhciBwb3B1cF8wYWJhYTBlMDI4YzA0Yjg2ODlkYTAwNDRlZTJiMWM1MyA9IEwucG9wdXAoeyJtYXhXaWR0aCI6ICIxMDAlIn0pOwoKICAgICAgICAKICAgICAgICAgICAgdmFyIGh0bWxfODlmNTZkNDE4NjY1NGZlZThmY2UzYjJhZTcwOThkMGEgPSAkKGA8ZGl2IGlkPSJodG1sXzg5ZjU2ZDQxODY2NTRmZWU4ZmNlM2IyYWU3MDk4ZDBhIiBzdHlsZT0id2lkdGg6IDEwMC4wJTsgaGVpZ2h0OiAxMDAuMCU7Ij5vZmZpY2VzPC9kaXY+YClbMF07CiAgICAgICAgICAgIHBvcHVwXzBhYmFhMGUwMjhjMDRiODY4OWRhMDA0NGVlMmIxYzUzLnNldENvbnRlbnQoaHRtbF84OWY1NmQ0MTg2NjU0ZmVlOGZjZTNiMmFlNzA5OGQwYSk7CiAgICAgICAgCgogICAgICAgIGNpcmNsZV9tYXJrZXJfMjNhZDFmYjUyYmE3NDJjZGE5NWYxYWQzZGNmZDQ1NDEuYmluZFBvcHVwKHBvcHVwXzBhYmFhMGUwMjhjMDRiODY4OWRhMDA0NGVlMmIxYzUzKQogICAgICAgIDsKCiAgICAgICAgCiAgICAKICAgIAogICAgICAgICAgICB2YXIgY2lyY2xlX21hcmtlcl9mNmVjOWIzZDllNzI0ODA0YmQyMTMxZjc5OTM4MzNkYyA9IEwuY2lyY2xlTWFya2VyKAogICAgICAgICAgICAgICAgWzQwLjc1MDUsIC03My45OTM1XSwKICAgICAgICAgICAgICAgIHsiYnViYmxpbmdNb3VzZUV2ZW50cyI6IHRydWUsICJjb2xvciI6ICJncmV5IiwgImRhc2hBcnJheSI6IG51bGwsICJkYXNoT2Zmc2V0IjogbnVsbCwgImZpbGwiOiB0cnVlLCAiZmlsbENvbG9yIjogImdyZXkiLCAiZmlsbE9wYWNpdHkiOiAwLjIsICJmaWxsUnVsZSI6ICJldmVub2RkIiwgImxpbmVDYXAiOiAicm91bmQiLCAibGluZUpvaW4iOiAicm91bmQiLCAib3BhY2l0eSI6IDEuMCwgInJhZGl1cyI6IDQwLCAic3Ryb2tlIjogdHJ1ZSwgIndlaWdodCI6IDN9CiAgICAgICAgICAgICkuYWRkVG8obWFwX2JhZjg2NzM0YzBkMzQ5OTM4NTc5ZjYwZDM2YjBkNTdkKTsKICAgICAgICAKICAgIAogICAgICAgIHZhciBwb3B1cF8wOTJhY2MyNWQzM2Q0YzQ1OTc3M2Y3NjhkOTEwMjZkMSA9IEwucG9wdXAoeyJtYXhXaWR0aCI6ICIxMDAlIn0pOwoKICAgICAgICAKICAgICAgICAgICAgdmFyIGh0bWxfNTdmYmZkMTA0MGM1NDU5NTlmY2M2MzEzZWVlMmJmMGUgPSAkKGA8ZGl2IGlkPSJodG1sXzU3ZmJmZDEwNDBjNTQ1OTU5ZmNjNjMxM2VlZTJiZjBlIiBzdHlsZT0id2lkdGg6IDEwMC4wJTsgaGVpZ2h0OiAxMDAuMCU7Ij5wdWJsaWMgdHJhbnNwb3J0PC9kaXY+YClbMF07CiAgICAgICAgICAgIHBvcHVwXzA5MmFjYzI1ZDMzZDRjNDU5NzczZjc2OGQ5MTAyNmQxLnNldENvbnRlbnQoaHRtbF81N2ZiZmQxMDQwYzU0NTk1OWZjYzYzMTNlZWUyYmYwZSk7CiAgICAgICAgCgogICAgICAgIGNpcmNsZV9tYXJrZXJfZjZlYzliM2Q5ZTcyNDgwNGJkMjEzMWY3OTkzODMzZGMuYmluZFBvcHVwKHBvcHVwXzA5MmFjYzI1ZDMzZDRjNDU5NzczZjc2OGQ5MTAyNmQxKQogICAgICAgIDsKCiAgICAgICAgCiAgICAKICAgIAogICAgICAgICAgICB2YXIgY2lyY2xlX21hcmtlcl9jMTQ5NjA2MWI5N2E0ZjlkOTcwNDEzNGUxZjUwYzY3NSA9IEwuY2lyY2xlTWFya2VyKAogICAgICAgICAgICAgICAgWzQwLjcxNDE2Njk5OTk5OTk5NiwgLTc0LjAwNTgzM10sCiAgICAgICAgICAgICAgICB7ImJ1YmJsaW5nTW91c2VFdmVudHMiOiB0cnVlLCAiY29sb3IiOiAiZ3JleSIsICJkYXNoQXJyYXkiOiBudWxsLCAiZGFzaE9mZnNldCI6IG51bGwsICJmaWxsIjogdHJ1ZSwgImZpbGxDb2xvciI6ICJncmV5IiwgImZpbGxPcGFjaXR5IjogMC4yLCAiZmlsbFJ1bGUiOiAiZXZlbm9kZCIsICJsaW5lQ2FwIjogInJvdW5kIiwgImxpbmVKb2luIjogInJvdW5kIiwgIm9wYWNpdHkiOiAxLjAsICJyYWRpdXMiOiA0MCwgInN0cm9rZSI6IHRydWUsICJ3ZWlnaHQiOiAzfQogICAgICAgICAgICApLmFkZFRvKG1hcF9iYWY4NjczNGMwZDM0OTkzODU3OWY2MGQzNmIwZDU3ZCk7CiAgICAgICAgCiAgICAKICAgICAgICB2YXIgcG9wdXBfNjg1ZmJkZDRjN2IwNDljMjkxN2U2NDI5MjE5YWFlYTMgPSBMLnBvcHVwKHsibWF4V2lkdGgiOiAiMTAwJSJ9KTsKCiAgICAgICAgCiAgICAgICAgICAgIHZhciBodG1sXzljYzhhOTYwMzJlNjRmZTQ4MGVjNWVlMzQzYTljZWE1ID0gJChgPGRpdiBpZD0iaHRtbF85Y2M4YTk2MDMyZTY0ZmU0ODBlYzVlZTM0M2E5Y2VhNSIgc3R5bGU9IndpZHRoOiAxMDAuMCU7IGhlaWdodDogMTAwLjAlOyI+cHVibGljIHRyYW5zcG9ydDwvZGl2PmApWzBdOwogICAgICAgICAgICBwb3B1cF82ODVmYmRkNGM3YjA0OWMyOTE3ZTY0MjkyMTlhYWVhMy5zZXRDb250ZW50KGh0bWxfOWNjOGE5NjAzMmU2NGZlNDgwZWM1ZWUzNDNhOWNlYTUpOwogICAgICAgIAoKICAgICAgICBjaXJjbGVfbWFya2VyX2MxNDk2MDYxYjk3YTRmOWQ5NzA0MTM0ZTFmNTBjNjc1LmJpbmRQb3B1cChwb3B1cF82ODVmYmRkNGM3YjA0OWMyOTE3ZTY0MjkyMTlhYWVhMykKICAgICAgICA7CgogICAgICAgIAogICAgCiAgICAKICAgICAgICAgICAgdmFyIGNpcmNsZV9tYXJrZXJfOGJlMDM5ZDAzNWZmNGZiMWIyNWNhNDMyNDk0Yzc0ZmQgPSBMLmNpcmNsZU1hcmtlcigKICAgICAgICAgICAgICAgIFs0MC43NTA1LCAtNzMuOTkzNV0sCiAgICAgICAgICAgICAgICB7ImJ1YmJsaW5nTW91c2VFdmVudHMiOiB0cnVlLCAiY29sb3IiOiAiZ3JleSIsICJkYXNoQXJyYXkiOiBudWxsLCAiZGFzaE9mZnNldCI6IG51bGwsICJmaWxsIjogdHJ1ZSwgImZpbGxDb2xvciI6ICJncmV5IiwgImZpbGxPcGFjaXR5IjogMC4yLCAiZmlsbFJ1bGUiOiAiZXZlbm9kZCIsICJsaW5lQ2FwIjogInJvdW5kIiwgImxpbmVKb2luIjogInJvdW5kIiwgIm9wYWNpdHkiOiAxLjAsICJyYWRpdXMiOiA0MCwgInN0cm9rZSI6IHRydWUsICJ3ZWlnaHQiOiAzfQogICAgICAgICAgICApLmFkZFRvKG1hcF9iYWY4NjczNGMwZDM0OTkzODU3OWY2MGQzNmIwZDU3ZCk7CiAgICAgICAgCiAgICAKICAgICAgICB2YXIgcG9wdXBfMjg5YTIxNTViZGMyNDY1MTgxOTBmZWEwOTNkZDc2NDEgPSBMLnBvcHVwKHsibWF4V2lkdGgiOiAiMTAwJSJ9KTsKCiAgICAgICAgCiAgICAgICAgICAgIHZhciBodG1sXzg5MWYzN2QxNDdhZDQxYzFiYmQyODQyZjk5NDQyMWM2ID0gJChgPGRpdiBpZD0iaHRtbF84OTFmMzdkMTQ3YWQ0MWMxYmJkMjg0MmY5OTQ0MjFjNiIgc3R5bGU9IndpZHRoOiAxMDAuMCU7IGhlaWdodDogMTAwLjAlOyI+cHVibGljIHRyYW5zcG9ydDwvZGl2PmApWzBdOwogICAgICAgICAgICBwb3B1cF8yODlhMjE1NWJkYzI0NjUxODE5MGZlYTA5M2RkNzY0MS5zZXRDb250ZW50KGh0bWxfODkxZjM3ZDE0N2FkNDFjMWJiZDI4NDJmOTk0NDIxYzYpOwogICAgICAgIAoKICAgICAgICBjaXJjbGVfbWFya2VyXzhiZTAzOWQwMzVmZjRmYjFiMjVjYTQzMjQ5NGM3NGZkLmJpbmRQb3B1cChwb3B1cF8yODlhMjE1NWJkYzI0NjUxODE5MGZlYTA5M2RkNzY0MSkKICAgICAgICA7CgogICAgICAgIAogICAgCiAgICAKICAgICAgICAgICAgdmFyIGNpcmNsZV9tYXJrZXJfZWMyOTRhMTY1ODc3NDY5MGI5NGY1NTUxN2IwYWQxZjEgPSBMLmNpcmNsZU1hcmtlcigKICAgICAgICAgICAgICAgIFs0MC43NTA1LCAtNzMuOTkzNV0sCiAgICAgICAgICAgICAgICB7ImJ1YmJsaW5nTW91c2VFdmVudHMiOiB0cnVlLCAiY29sb3IiOiAiZ3JleSIsICJkYXNoQXJyYXkiOiBudWxsLCAiZGFzaE9mZnNldCI6IG51bGwsICJmaWxsIjogdHJ1ZSwgImZpbGxDb2xvciI6ICJncmV5IiwgImZpbGxPcGFjaXR5IjogMC4yLCAiZmlsbFJ1bGUiOiAiZXZlbm9kZCIsICJsaW5lQ2FwIjogInJvdW5kIiwgImxpbmVKb2luIjogInJvdW5kIiwgIm9wYWNpdHkiOiAxLjAsICJyYWRpdXMiOiA0MCwgInN0cm9rZSI6IHRydWUsICJ3ZWlnaHQiOiAzfQogICAgICAgICAgICApLmFkZFRvKG1hcF9iYWY4NjczNGMwZDM0OTkzODU3OWY2MGQzNmIwZDU3ZCk7CiAgICAgICAgCiAgICAKICAgICAgICB2YXIgcG9wdXBfZjZkNjU1NTg4OTM2NDgzNWI2YjBiYjU0OGY0YzQwZDYgPSBMLnBvcHVwKHsibWF4V2lkdGgiOiAiMTAwJSJ9KTsKCiAgICAgICAgCiAgICAgICAgICAgIHZhciBodG1sXzFmYjc1OGIxYWFiMjQwZDk4YmZkYTAyZTJjNDY4N2UwID0gJChgPGRpdiBpZD0iaHRtbF8xZmI3NThiMWFhYjI0MGQ5OGJmZGEwMmUyYzQ2ODdlMCIgc3R5bGU9IndpZHRoOiAxMDAuMCU7IGhlaWdodDogMTAwLjAlOyI+cHVibGljIHRyYW5zcG9ydDwvZGl2PmApWzBdOwogICAgICAgICAgICBwb3B1cF9mNmQ2NTU1ODg5MzY0ODM1YjZiMGJiNTQ4ZjRjNDBkNi5zZXRDb250ZW50KGh0bWxfMWZiNzU4YjFhYWIyNDBkOThiZmRhMDJlMmM0Njg3ZTApOwogICAgICAgIAoKICAgICAgICBjaXJjbGVfbWFya2VyX2VjMjk0YTE2NTg3NzQ2OTBiOTRmNTU1MTdiMGFkMWYxLmJpbmRQb3B1cChwb3B1cF9mNmQ2NTU1ODg5MzY0ODM1YjZiMGJiNTQ4ZjRjNDBkNikKICAgICAgICA7CgogICAgICAgIAogICAgCiAgICAKICAgICAgICAgICAgdmFyIGNpcmNsZV9tYXJrZXJfZmY1YzJjZDU4YTRlNDRkODk0NzU1YTBhMmM1MzI3OTUgPSBMLmNpcmNsZU1hcmtlcigKICAgICAgICAgICAgICAgIFs0MC43NTA1LCAtNzMuOTkzNV0sCiAgICAgICAgICAgICAgICB7ImJ1YmJsaW5nTW91c2VFdmVudHMiOiB0cnVlLCAiY29sb3IiOiAiZ3JleSIsICJkYXNoQXJyYXkiOiBudWxsLCAiZGFzaE9mZnNldCI6IG51bGwsICJmaWxsIjogdHJ1ZSwgImZpbGxDb2xvciI6ICJncmV5IiwgImZpbGxPcGFjaXR5IjogMC4yLCAiZmlsbFJ1bGUiOiAiZXZlbm9kZCIsICJsaW5lQ2FwIjogInJvdW5kIiwgImxpbmVKb2luIjogInJvdW5kIiwgIm9wYWNpdHkiOiAxLjAsICJyYWRpdXMiOiA0MCwgInN0cm9rZSI6IHRydWUsICJ3ZWlnaHQiOiAzfQogICAgICAgICAgICApLmFkZFRvKG1hcF9iYWY4NjczNGMwZDM0OTkzODU3OWY2MGQzNmIwZDU3ZCk7CiAgICAgICAgCiAgICAKICAgICAgICB2YXIgcG9wdXBfZjNiYTMxNDQxODRiNDYzMmJmNTc2MmNkNmY0OGY0NjUgPSBMLnBvcHVwKHsibWF4V2lkdGgiOiAiMTAwJSJ9KTsKCiAgICAgICAgCiAgICAgICAgICAgIHZhciBodG1sXzBlOGRhMGJkNWRiMzRhMzhhNTMwYWYzNGYyOTRlM2UwID0gJChgPGRpdiBpZD0iaHRtbF8wZThkYTBiZDVkYjM0YTM4YTUzMGFmMzRmMjk0ZTNlMCIgc3R5bGU9IndpZHRoOiAxMDAuMCU7IGhlaWdodDogMTAwLjAlOyI+cHVibGljIHRyYW5zcG9ydDwvZGl2PmApWzBdOwogICAgICAgICAgICBwb3B1cF9mM2JhMzE0NDE4NGI0NjMyYmY1NzYyY2Q2ZjQ4ZjQ2NS5zZXRDb250ZW50KGh0bWxfMGU4ZGEwYmQ1ZGIzNGEzOGE1MzBhZjM0ZjI5NGUzZTApOwogICAgICAgIAoKICAgICAgICBjaXJjbGVfbWFya2VyX2ZmNWMyY2Q1OGE0ZTQ0ZDg5NDc1NWEwYTJjNTMyNzk1LmJpbmRQb3B1cChwb3B1cF9mM2JhMzE0NDE4NGI0NjMyYmY1NzYyY2Q2ZjQ4ZjQ2NSkKICAgICAgICA7CgogICAgICAgIAogICAgCiAgICAKICAgICAgICAgICAgdmFyIGNpcmNsZV9tYXJrZXJfNjkyZmRlYTgwNzcyNDgxZWJjMmExMjIzODdkYjkwMjAgPSBMLmNpcmNsZU1hcmtlcigKICAgICAgICAgICAgICAgIFs0MC43NCwgLTczLjk5XSwKICAgICAgICAgICAgICAgIHsiYnViYmxpbmdNb3VzZUV2ZW50cyI6IHRydWUsICJjb2xvciI6ICJncmVlbiIsICJkYXNoQXJyYXkiOiBudWxsLCAiZGFzaE9mZnNldCI6IG51bGwsICJmaWxsIjogdHJ1ZSwgImZpbGxDb2xvciI6ICJncmVlbiIsICJmaWxsT3BhY2l0eSI6IDAuMiwgImZpbGxSdWxlIjogImV2ZW5vZGQiLCAibGluZUNhcCI6ICJyb3VuZCIsICJsaW5lSm9pbiI6ICJyb3VuZCIsICJvcGFjaXR5IjogMS4wLCAicmFkaXVzIjogNDAsICJzdHJva2UiOiB0cnVlLCAid2VpZ2h0IjogM30KICAgICAgICAgICAgKS5hZGRUbyhtYXBfYmFmODY3MzRjMGQzNDk5Mzg1NzlmNjBkMzZiMGQ1N2QpOwogICAgICAgIAogICAgCiAgICAgICAgdmFyIHBvcHVwX2FkMzVkNTkzNmY1MjQ2ZmQ4ZTg3OTIxMWY5MmY4ZmU4ID0gTC5wb3B1cCh7Im1heFdpZHRoIjogIjEwMCUifSk7CgogICAgICAgIAogICAgICAgICAgICB2YXIgaHRtbF83M2Q0NmZmNGY5OWQ0NTMwYmJiZDIwZjUzNmU3NTNlMyA9ICQoYDxkaXYgaWQ9Imh0bWxfNzNkNDZmZjRmOTlkNDUzMGJiYmQyMGY1MzZlNzUzZTMiIHN0eWxlPSJ3aWR0aDogMTAwLjAlOyBoZWlnaHQ6IDEwMC4wJTsiPnN0YXJidWNrczwvZGl2PmApWzBdOwogICAgICAgICAgICBwb3B1cF9hZDM1ZDU5MzZmNTI0NmZkOGU4NzkyMTFmOTJmOGZlOC5zZXRDb250ZW50KGh0bWxfNzNkNDZmZjRmOTlkNDUzMGJiYmQyMGY1MzZlNzUzZTMpOwogICAgICAgIAoKICAgICAgICBjaXJjbGVfbWFya2VyXzY5MmZkZWE4MDc3MjQ4MWViYzJhMTIyMzg3ZGI5MDIwLmJpbmRQb3B1cChwb3B1cF9hZDM1ZDU5MzZmNTI0NmZkOGU4NzkyMTFmOTJmOGZlOCkKICAgICAgICA7CgogICAgICAgIAogICAgCiAgICAKICAgICAgICAgICAgdmFyIGNpcmNsZV9tYXJrZXJfNmFmM2Y4YmJlNGIwNDg2ZTk4YTUyYjNmOTQ4MGJiMDIgPSBMLmNpcmNsZU1hcmtlcigKICAgICAgICAgICAgICAgIFs0MC43MywgLTc0LjBdLAogICAgICAgICAgICAgICAgeyJidWJibGluZ01vdXNlRXZlbnRzIjogdHJ1ZSwgImNvbG9yIjogImdyZWVuIiwgImRhc2hBcnJheSI6IG51bGwsICJkYXNoT2Zmc2V0IjogbnVsbCwgImZpbGwiOiB0cnVlLCAiZmlsbENvbG9yIjogImdyZWVuIiwgImZpbGxPcGFjaXR5IjogMC4yLCAiZmlsbFJ1bGUiOiAiZXZlbm9kZCIsICJsaW5lQ2FwIjogInJvdW5kIiwgImxpbmVKb2luIjogInJvdW5kIiwgIm9wYWNpdHkiOiAxLjAsICJyYWRpdXMiOiA0MCwgInN0cm9rZSI6IHRydWUsICJ3ZWlnaHQiOiAzfQogICAgICAgICAgICApLmFkZFRvKG1hcF9iYWY4NjczNGMwZDM0OTkzODU3OWY2MGQzNmIwZDU3ZCk7CiAgICAgICAgCiAgICAKICAgICAgICB2YXIgcG9wdXBfNmM1YzJlZjI4NDVlNDc3NTg3MjM5M2MwYWYwMGE1ZDIgPSBMLnBvcHVwKHsibWF4V2lkdGgiOiAiMTAwJSJ9KTsKCiAgICAgICAgCiAgICAgICAgICAgIHZhciBodG1sX2QyYTQ3NWQ1NzQzYTRmMjhhNGZjNzE0NTk2ZjRlMmYxID0gJChgPGRpdiBpZD0iaHRtbF9kMmE0NzVkNTc0M2E0ZjI4YTRmYzcxNDU5NmY0ZTJmMSIgc3R5bGU9IndpZHRoOiAxMDAuMCU7IGhlaWdodDogMTAwLjAlOyI+c3RhcmJ1Y2tzPC9kaXY+YClbMF07CiAgICAgICAgICAgIHBvcHVwXzZjNWMyZWYyODQ1ZTQ3NzU4NzIzOTNjMGFmMDBhNWQyLnNldENvbnRlbnQoaHRtbF9kMmE0NzVkNTc0M2E0ZjI4YTRmYzcxNDU5NmY0ZTJmMSk7CiAgICAgICAgCgogICAgICAgIGNpcmNsZV9tYXJrZXJfNmFmM2Y4YmJlNGIwNDg2ZTk4YTUyYjNmOTQ4MGJiMDIuYmluZFBvcHVwKHBvcHVwXzZjNWMyZWYyODQ1ZTQ3NzU4NzIzOTNjMGFmMDBhNWQyKQogICAgICAgIDsKCiAgICAgICAgCiAgICAKICAgIAogICAgICAgICAgICB2YXIgY2lyY2xlX21hcmtlcl9kODJjMGU5M2NiZGI0ZjI1YWJjNjVmZWRhOTllMmMwNSA9IEwuY2lyY2xlTWFya2VyKAogICAgICAgICAgICAgICAgWzQwLjc0LCAtNzMuOTldLAogICAgICAgICAgICAgICAgeyJidWJibGluZ01vdXNlRXZlbnRzIjogdHJ1ZSwgImNvbG9yIjogImdyZWVuIiwgImRhc2hBcnJheSI6IG51bGwsICJkYXNoT2Zmc2V0IjogbnVsbCwgImZpbGwiOiB0cnVlLCAiZmlsbENvbG9yIjogImdyZWVuIiwgImZpbGxPcGFjaXR5IjogMC4yLCAiZmlsbFJ1bGUiOiAiZXZlbm9kZCIsICJsaW5lQ2FwIjogInJvdW5kIiwgImxpbmVKb2luIjogInJvdW5kIiwgIm9wYWNpdHkiOiAxLjAsICJyYWRpdXMiOiA0MCwgInN0cm9rZSI6IHRydWUsICJ3ZWlnaHQiOiAzfQogICAgICAgICAgICApLmFkZFRvKG1hcF9iYWY4NjczNGMwZDM0OTkzODU3OWY2MGQzNmIwZDU3ZCk7CiAgICAgICAgCiAgICAKICAgICAgICB2YXIgcG9wdXBfMDZjNzdmNDJkMjNlNGY0YWI1ZTZjN2IzYjgxOTY0OTEgPSBMLnBvcHVwKHsibWF4V2lkdGgiOiAiMTAwJSJ9KTsKCiAgICAgICAgCiAgICAgICAgICAgIHZhciBodG1sXzM1M2VkNGMzZmM3ZjRiZmZiYTBiZjU5OGMyOGU0YzNkID0gJChgPGRpdiBpZD0iaHRtbF8zNTNlZDRjM2ZjN2Y0YmZmYmEwYmY1OThjMjhlNGMzZCIgc3R5bGU9IndpZHRoOiAxMDAuMCU7IGhlaWdodDogMTAwLjAlOyI+c3RhcmJ1Y2tzPC9kaXY+YClbMF07CiAgICAgICAgICAgIHBvcHVwXzA2Yzc3ZjQyZDIzZTRmNGFiNWU2YzdiM2I4MTk2NDkxLnNldENvbnRlbnQoaHRtbF8zNTNlZDRjM2ZjN2Y0YmZmYmEwYmY1OThjMjhlNGMzZCk7CiAgICAgICAgCgogICAgICAgIGNpcmNsZV9tYXJrZXJfZDgyYzBlOTNjYmRiNGYyNWFiYzY1ZmVkYTk5ZTJjMDUuYmluZFBvcHVwKHBvcHVwXzA2Yzc3ZjQyZDIzZTRmNGFiNWU2YzdiM2I4MTk2NDkxKQogICAgICAgIDsKCiAgICAgICAgCiAgICAKICAgIAogICAgICAgICAgICB2YXIgY2lyY2xlX21hcmtlcl9hOWViYmVlZjBmMzI0OTIxYWY3ZTFhN2UxYTg4MmIwNiA9IEwuY2lyY2xlTWFya2VyKAogICAgICAgICAgICAgICAgWzQwLjc0LCAtNzMuOTldLAogICAgICAgICAgICAgICAgeyJidWJibGluZ01vdXNlRXZlbnRzIjogdHJ1ZSwgImNvbG9yIjogImdyZWVuIiwgImRhc2hBcnJheSI6IG51bGwsICJkYXNoT2Zmc2V0IjogbnVsbCwgImZpbGwiOiB0cnVlLCAiZmlsbENvbG9yIjogImdyZWVuIiwgImZpbGxPcGFjaXR5IjogMC4yLCAiZmlsbFJ1bGUiOiAiZXZlbm9kZCIsICJsaW5lQ2FwIjogInJvdW5kIiwgImxpbmVKb2luIjogInJvdW5kIiwgIm9wYWNpdHkiOiAxLjAsICJyYWRpdXMiOiA0MCwgInN0cm9rZSI6IHRydWUsICJ3ZWlnaHQiOiAzfQogICAgICAgICAgICApLmFkZFRvKG1hcF9iYWY4NjczNGMwZDM0OTkzODU3OWY2MGQzNmIwZDU3ZCk7CiAgICAgICAgCiAgICAKICAgICAgICB2YXIgcG9wdXBfYzljMGQ1OWM0ZTYyNDU2OTkxYmMyOGNiNmM3MWM4MmIgPSBMLnBvcHVwKHsibWF4V2lkdGgiOiAiMTAwJSJ9KTsKCiAgICAgICAgCiAgICAgICAgICAgIHZhciBodG1sXzk5ZjhkMWQ0OTgwMTRkZjM5ZWI4MDlhMjMzMGI2NzY4ID0gJChgPGRpdiBpZD0iaHRtbF85OWY4ZDFkNDk4MDE0ZGYzOWViODA5YTIzMzBiNjc2OCIgc3R5bGU9IndpZHRoOiAxMDAuMCU7IGhlaWdodDogMTAwLjAlOyI+c3RhcmJ1Y2tzPC9kaXY+YClbMF07CiAgICAgICAgICAgIHBvcHVwX2M5YzBkNTljNGU2MjQ1Njk5MWJjMjhjYjZjNzFjODJiLnNldENvbnRlbnQoaHRtbF85OWY4ZDFkNDk4MDE0ZGYzOWViODA5YTIzMzBiNjc2OCk7CiAgICAgICAgCgogICAgICAgIGNpcmNsZV9tYXJrZXJfYTllYmJlZWYwZjMyNDkyMWFmN2UxYTdlMWE4ODJiMDYuYmluZFBvcHVwKHBvcHVwX2M5YzBkNTljNGU2MjQ1Njk5MWJjMjhjYjZjNzFjODJiKQogICAgICAgIDsKCiAgICAgICAgCiAgICAKICAgIAogICAgICAgICAgICB2YXIgY2lyY2xlX21hcmtlcl81NDg1ZjNjYzMyYWE0ZmJmOWNjZTkzODVkZTA3NTg0NSA9IEwuY2lyY2xlTWFya2VyKAogICAgICAgICAgICAgICAgWzQwLjc0LCAtNzMuOTldLAogICAgICAgICAgICAgICAgeyJidWJibGluZ01vdXNlRXZlbnRzIjogdHJ1ZSwgImNvbG9yIjogImdyZWVuIiwgImRhc2hBcnJheSI6IG51bGwsICJkYXNoT2Zmc2V0IjogbnVsbCwgImZpbGwiOiB0cnVlLCAiZmlsbENvbG9yIjogImdyZWVuIiwgImZpbGxPcGFjaXR5IjogMC4yLCAiZmlsbFJ1bGUiOiAiZXZlbm9kZCIsICJsaW5lQ2FwIjogInJvdW5kIiwgImxpbmVKb2luIjogInJvdW5kIiwgIm9wYWNpdHkiOiAxLjAsICJyYWRpdXMiOiA0MCwgInN0cm9rZSI6IHRydWUsICJ3ZWlnaHQiOiAzfQogICAgICAgICAgICApLmFkZFRvKG1hcF9iYWY4NjczNGMwZDM0OTkzODU3OWY2MGQzNmIwZDU3ZCk7CiAgICAgICAgCiAgICAKICAgICAgICB2YXIgcG9wdXBfNjAyNWY2NTc3MTNkNDI4M2I5NDUzMzI4OGI3NDFmYzEgPSBMLnBvcHVwKHsibWF4V2lkdGgiOiAiMTAwJSJ9KTsKCiAgICAgICAgCiAgICAgICAgICAgIHZhciBodG1sX2RjNDhkYzNjZGY2MjRkODliZWNkMGQzNThhMTlhNmZhID0gJChgPGRpdiBpZD0iaHRtbF9kYzQ4ZGMzY2RmNjI0ZDg5YmVjZDBkMzU4YTE5YTZmYSIgc3R5bGU9IndpZHRoOiAxMDAuMCU7IGhlaWdodDogMTAwLjAlOyI+c3RhcmJ1Y2tzPC9kaXY+YClbMF07CiAgICAgICAgICAgIHBvcHVwXzYwMjVmNjU3NzEzZDQyODNiOTQ1MzMyODhiNzQxZmMxLnNldENvbnRlbnQoaHRtbF9kYzQ4ZGMzY2RmNjI0ZDg5YmVjZDBkMzU4YTE5YTZmYSk7CiAgICAgICAgCgogICAgICAgIGNpcmNsZV9tYXJrZXJfNTQ4NWYzY2MzMmFhNGZiZjljY2U5Mzg1ZGUwNzU4NDUuYmluZFBvcHVwKHBvcHVwXzYwMjVmNjU3NzEzZDQyODNiOTQ1MzMyODhiNzQxZmMxKQogICAgICAgIDsKCiAgICAgICAgCiAgICAKICAgIAogICAgICAgICAgICB2YXIgY2lyY2xlX21hcmtlcl9mY2YzZTk3YmExZjA0NWM1YmQzZGU2ODMyZWY5MWQwMSA9IEwuY2lyY2xlTWFya2VyKAogICAgICAgICAgICAgICAgWzQwLjc0NTEyMzcxMTMzODk0LCAtNzMuOTg4MTUwODM1NTE1MDNdLAogICAgICAgICAgICAgICAgeyJidWJibGluZ01vdXNlRXZlbnRzIjogdHJ1ZSwgImNvbG9yIjogImJsdWUiLCAiZGFzaEFycmF5IjogbnVsbCwgImRhc2hPZmZzZXQiOiBudWxsLCAiZmlsbCI6IHRydWUsICJmaWxsQ29sb3IiOiAiYmx1ZSIsICJmaWxsT3BhY2l0eSI6IDAuMiwgImZpbGxSdWxlIjogImV2ZW5vZGQiLCAibGluZUNhcCI6ICJyb3VuZCIsICJsaW5lSm9pbiI6ICJyb3VuZCIsICJvcGFjaXR5IjogMS4wLCAicmFkaXVzIjogNDAsICJzdHJva2UiOiB0cnVlLCAid2VpZ2h0IjogM30KICAgICAgICAgICAgKS5hZGRUbyhtYXBfYmFmODY3MzRjMGQzNDk5Mzg1NzlmNjBkMzZiMGQ1N2QpOwogICAgICAgIAogICAgCiAgICAgICAgdmFyIHBvcHVwXzhjZjg3NDM4MmE5YTQwMmVhNzQ2ODAzZjViNDliNjRkID0gTC5wb3B1cCh7Im1heFdpZHRoIjogIjEwMCUifSk7CgogICAgICAgIAogICAgICAgICAgICB2YXIgaHRtbF85NDM2NzI0NmYwMzc0ZWJkODU1ZjQxZDA4ZWQ2YWUwZCA9ICQoYDxkaXYgaWQ9Imh0bWxfOTQzNjcyNDZmMDM3NGViZDg1NWY0MWQwOGVkNmFlMGQiIHN0eWxlPSJ3aWR0aDogMTAwLjAlOyBoZWlnaHQ6IDEwMC4wJTsiPmtpbmRlcmdhcnRlbjwvZGl2PmApWzBdOwogICAgICAgICAgICBwb3B1cF84Y2Y4NzQzODJhOWE0MDJlYTc0NjgwM2Y1YjQ5YjY0ZC5zZXRDb250ZW50KGh0bWxfOTQzNjcyNDZmMDM3NGViZDg1NWY0MWQwOGVkNmFlMGQpOwogICAgICAgIAoKICAgICAgICBjaXJjbGVfbWFya2VyX2ZjZjNlOTdiYTFmMDQ1YzViZDNkZTY4MzJlZjkxZDAxLmJpbmRQb3B1cChwb3B1cF84Y2Y4NzQzODJhOWE0MDJlYTc0NjgwM2Y1YjQ5YjY0ZCkKICAgICAgICA7CgogICAgICAgIAogICAgCiAgICAKICAgICAgICAgICAgdmFyIGNpcmNsZV9tYXJrZXJfYjYxYTY1MmU3MmNlNDczNjg3Y2I0NWE5ZWNlOTgwNGYgPSBMLmNpcmNsZU1hcmtlcigKICAgICAgICAgICAgICAgIFs0MC43MjgyNzQsIC03NC4wMDUwNjNdLAogICAgICAgICAgICAgICAgeyJidWJibGluZ01vdXNlRXZlbnRzIjogdHJ1ZSwgImNvbG9yIjogImJsdWUiLCAiZGFzaEFycmF5IjogbnVsbCwgImRhc2hPZmZzZXQiOiBudWxsLCAiZmlsbCI6IHRydWUsICJmaWxsQ29sb3IiOiAiYmx1ZSIsICJmaWxsT3BhY2l0eSI6IDAuMiwgImZpbGxSdWxlIjogImV2ZW5vZGQiLCAibGluZUNhcCI6ICJyb3VuZCIsICJsaW5lSm9pbiI6ICJyb3VuZCIsICJvcGFjaXR5IjogMS4wLCAicmFkaXVzIjogNDAsICJzdHJva2UiOiB0cnVlLCAid2VpZ2h0IjogM30KICAgICAgICAgICAgKS5hZGRUbyhtYXBfYmFmODY3MzRjMGQzNDk5Mzg1NzlmNjBkMzZiMGQ1N2QpOwogICAgICAgIAogICAgCiAgICAgICAgdmFyIHBvcHVwX2Y5YmU0MGRkYTQxNDQ0ODViMWJjYzUzOWFlOTZiNGY0ID0gTC5wb3B1cCh7Im1heFdpZHRoIjogIjEwMCUifSk7CgogICAgICAgIAogICAgICAgICAgICB2YXIgaHRtbF8yNDA4Y2RjODZhZjY0ZjE0OGU5OTE3ZmJhYzRhYTg0ZiA9ICQoYDxkaXYgaWQ9Imh0bWxfMjQwOGNkYzg2YWY2NGYxNDhlOTkxN2ZiYWM0YWE4NGYiIHN0eWxlPSJ3aWR0aDogMTAwLjAlOyBoZWlnaHQ6IDEwMC4wJTsiPmtpbmRlcmdhcnRlbjwvZGl2PmApWzBdOwogICAgICAgICAgICBwb3B1cF9mOWJlNDBkZGE0MTQ0NDg1YjFiY2M1MzlhZTk2YjRmNC5zZXRDb250ZW50KGh0bWxfMjQwOGNkYzg2YWY2NGYxNDhlOTkxN2ZiYWM0YWE4NGYpOwogICAgICAgIAoKICAgICAgICBjaXJjbGVfbWFya2VyX2I2MWE2NTJlNzJjZTQ3MzY4N2NiNDVhOWVjZTk4MDRmLmJpbmRQb3B1cChwb3B1cF9mOWJlNDBkZGE0MTQ0NDg1YjFiY2M1MzlhZTk2YjRmNCkKICAgICAgICA7CgogICAgICAgIAogICAgCiAgICAKICAgICAgICAgICAgdmFyIGNpcmNsZV9tYXJrZXJfNDViYjdlMzcxOWQ4NDJkMDgzN2ZhMGQ2MTIzNjZhZDUgPSBMLmNpcmNsZU1hcmtlcigKICAgICAgICAgICAgICAgIFs0MC43NDUxMjM3MTEzMzg5NCwgLTczLjk4ODE1MDgzNTUxNTAzXSwKICAgICAgICAgICAgICAgIHsiYnViYmxpbmdNb3VzZUV2ZW50cyI6IHRydWUsICJjb2xvciI6ICJibHVlIiwgImRhc2hBcnJheSI6IG51bGwsICJkYXNoT2Zmc2V0IjogbnVsbCwgImZpbGwiOiB0cnVlLCAiZmlsbENvbG9yIjogImJsdWUiLCAiZmlsbE9wYWNpdHkiOiAwLjIsICJmaWxsUnVsZSI6ICJldmVub2RkIiwgImxpbmVDYXAiOiAicm91bmQiLCAibGluZUpvaW4iOiAicm91bmQiLCAib3BhY2l0eSI6IDEuMCwgInJhZGl1cyI6IDQwLCAic3Ryb2tlIjogdHJ1ZSwgIndlaWdodCI6IDN9CiAgICAgICAgICAgICkuYWRkVG8obWFwX2JhZjg2NzM0YzBkMzQ5OTM4NTc5ZjYwZDM2YjBkNTdkKTsKICAgICAgICAKICAgIAogICAgICAgIHZhciBwb3B1cF84NDU0MjAyZTkyOWM0MmU4OWY5N2FkOTJjYmQxM2E1ZiA9IEwucG9wdXAoeyJtYXhXaWR0aCI6ICIxMDAlIn0pOwoKICAgICAgICAKICAgICAgICAgICAgdmFyIGh0bWxfYWZkM2RhMmM4NjM1NGQ0MWFkMjJlMjg2MzM5MmEyYzIgPSAkKGA8ZGl2IGlkPSJodG1sX2FmZDNkYTJjODYzNTRkNDFhZDIyZTI4NjMzOTJhMmMyIiBzdHlsZT0id2lkdGg6IDEwMC4wJTsgaGVpZ2h0OiAxMDAuMCU7Ij5raW5kZXJnYXJ0ZW48L2Rpdj5gKVswXTsKICAgICAgICAgICAgcG9wdXBfODQ1NDIwMmU5MjljNDJlODlmOTdhZDkyY2JkMTNhNWYuc2V0Q29udGVudChodG1sX2FmZDNkYTJjODYzNTRkNDFhZDIyZTI4NjMzOTJhMmMyKTsKICAgICAgICAKCiAgICAgICAgY2lyY2xlX21hcmtlcl80NWJiN2UzNzE5ZDg0MmQwODM3ZmEwZDYxMjM2NmFkNS5iaW5kUG9wdXAocG9wdXBfODQ1NDIwMmU5MjljNDJlODlmOTdhZDkyY2JkMTNhNWYpCiAgICAgICAgOwoKICAgICAgICAKICAgIAogICAgCiAgICAgICAgICAgIHZhciBjaXJjbGVfbWFya2VyXzZmNjMyMWY5NjA4ZTQyNTI4NjQ1OTcwYjkxMmFmZWRlID0gTC5jaXJjbGVNYXJrZXIoCiAgICAgICAgICAgICAgICBbNDAuNzQ1MTIzNzExMzM4OTQsIC03My45ODgxNTA4MzU1MTUwM10sCiAgICAgICAgICAgICAgICB7ImJ1YmJsaW5nTW91c2VFdmVudHMiOiB0cnVlLCAiY29sb3IiOiAiYmx1ZSIsICJkYXNoQXJyYXkiOiBudWxsLCAiZGFzaE9mZnNldCI6IG51bGwsICJmaWxsIjogdHJ1ZSwgImZpbGxDb2xvciI6ICJibHVlIiwgImZpbGxPcGFjaXR5IjogMC4yLCAiZmlsbFJ1bGUiOiAiZXZlbm9kZCIsICJsaW5lQ2FwIjogInJvdW5kIiwgImxpbmVKb2luIjogInJvdW5kIiwgIm9wYWNpdHkiOiAxLjAsICJyYWRpdXMiOiA0MCwgInN0cm9rZSI6IHRydWUsICJ3ZWlnaHQiOiAzfQogICAgICAgICAgICApLmFkZFRvKG1hcF9iYWY4NjczNGMwZDM0OTkzODU3OWY2MGQzNmIwZDU3ZCk7CiAgICAgICAgCiAgICAKICAgICAgICB2YXIgcG9wdXBfMmFmZmJjNjJjMmNmNDJjMzk4NWMwZWQ4NGI2MWJlMzAgPSBMLnBvcHVwKHsibWF4V2lkdGgiOiAiMTAwJSJ9KTsKCiAgICAgICAgCiAgICAgICAgICAgIHZhciBodG1sXzAwMjQzMjgxN2E4ZjQ5MWRiYzgxZTg1NTk5OTE4MmMxID0gJChgPGRpdiBpZD0iaHRtbF8wMDI0MzI4MTdhOGY0OTFkYmM4MWU4NTU5OTkxODJjMSIgc3R5bGU9IndpZHRoOiAxMDAuMCU7IGhlaWdodDogMTAwLjAlOyI+a2luZGVyZ2FydGVuPC9kaXY+YClbMF07CiAgICAgICAgICAgIHBvcHVwXzJhZmZiYzYyYzJjZjQyYzM5ODVjMGVkODRiNjFiZTMwLnNldENvbnRlbnQoaHRtbF8wMDI0MzI4MTdhOGY0OTFkYmM4MWU4NTU5OTkxODJjMSk7CiAgICAgICAgCgogICAgICAgIGNpcmNsZV9tYXJrZXJfNmY2MzIxZjk2MDhlNDI1Mjg2NDU5NzBiOTEyYWZlZGUuYmluZFBvcHVwKHBvcHVwXzJhZmZiYzYyYzJjZjQyYzM5ODVjMGVkODRiNjFiZTMwKQogICAgICAgIDsKCiAgICAgICAgCiAgICAKICAgIAogICAgICAgICAgICB2YXIgY2lyY2xlX21hcmtlcl82NzUyOTliMGRhNTA0OTAyYWQwMWQ4ZDM5ZjViYjQ5ZiA9IEwuY2lyY2xlTWFya2VyKAogICAgICAgICAgICAgICAgWzQwLjc0NTEyMzcxMTMzODk0LCAtNzMuOTg4MTUwODM1NTE1MDNdLAogICAgICAgICAgICAgICAgeyJidWJibGluZ01vdXNlRXZlbnRzIjogdHJ1ZSwgImNvbG9yIjogImJsdWUiLCAiZGFzaEFycmF5IjogbnVsbCwgImRhc2hPZmZzZXQiOiBudWxsLCAiZmlsbCI6IHRydWUsICJmaWxsQ29sb3IiOiAiYmx1ZSIsICJmaWxsT3BhY2l0eSI6IDAuMiwgImZpbGxSdWxlIjogImV2ZW5vZGQiLCAibGluZUNhcCI6ICJyb3VuZCIsICJsaW5lSm9pbiI6ICJyb3VuZCIsICJvcGFjaXR5IjogMS4wLCAicmFkaXVzIjogNDAsICJzdHJva2UiOiB0cnVlLCAid2VpZ2h0IjogM30KICAgICAgICAgICAgKS5hZGRUbyhtYXBfYmFmODY3MzRjMGQzNDk5Mzg1NzlmNjBkMzZiMGQ1N2QpOwogICAgICAgIAogICAgCiAgICAgICAgdmFyIHBvcHVwX2U2ODI4YjllMTBjOTQ2ZjQ4OWRiZTBmN2RkMTcxNDg5ID0gTC5wb3B1cCh7Im1heFdpZHRoIjogIjEwMCUifSk7CgogICAgICAgIAogICAgICAgICAgICB2YXIgaHRtbF8xNjllMWU3ZTlmYzA0YTc3YThjYTg5YjJhODQ2ZDFjMSA9ICQoYDxkaXYgaWQ9Imh0bWxfMTY5ZTFlN2U5ZmMwNGE3N2E4Y2E4OWIyYTg0NmQxYzEiIHN0eWxlPSJ3aWR0aDogMTAwLjAlOyBoZWlnaHQ6IDEwMC4wJTsiPmtpbmRlcmdhcnRlbjwvZGl2PmApWzBdOwogICAgICAgICAgICBwb3B1cF9lNjgyOGI5ZTEwYzk0NmY0ODlkYmUwZjdkZDE3MTQ4OS5zZXRDb250ZW50KGh0bWxfMTY5ZTFlN2U5ZmMwNGE3N2E4Y2E4OWIyYTg0NmQxYzEpOwogICAgICAgIAoKICAgICAgICBjaXJjbGVfbWFya2VyXzY3NTI5OWIwZGE1MDQ5MDJhZDAxZDhkMzlmNWJiNDlmLmJpbmRQb3B1cChwb3B1cF9lNjgyOGI5ZTEwYzk0NmY0ODlkYmUwZjdkZDE3MTQ4OSkKICAgICAgICA7CgogICAgICAgIAogICAgCiAgICAKICAgICAgICAgICAgdmFyIGNpcmNsZV9tYXJrZXJfMTk1NTAwOTZlOGU0NDM2ZGJkNjEzMGNlNDYwMmY0NWMgPSBMLmNpcmNsZU1hcmtlcigKICAgICAgICAgICAgICAgIFs0MC43Mzk4NjcsIC03My45OTAwMjRdLAogICAgICAgICAgICAgICAgeyJidWJibGluZ01vdXNlRXZlbnRzIjogdHJ1ZSwgImNvbG9yIjogInJlZCIsICJkYXNoQXJyYXkiOiBudWxsLCAiZGFzaE9mZnNldCI6IG51bGwsICJmaWxsIjogdHJ1ZSwgImZpbGxDb2xvciI6ICJyZWQiLCAiZmlsbE9wYWNpdHkiOiAwLjIsICJmaWxsUnVsZSI6ICJldmVub2RkIiwgImxpbmVDYXAiOiAicm91bmQiLCAibGluZUpvaW4iOiAicm91bmQiLCAib3BhY2l0eSI6IDEuMCwgInJhZGl1cyI6IDUwLCAic3Ryb2tlIjogdHJ1ZSwgIndlaWdodCI6IDN9CiAgICAgICAgICAgICkuYWRkVG8obWFwX2JhZjg2NzM0YzBkMzQ5OTM4NTc5ZjYwZDM2YjBkNTdkKTsKICAgICAgICAKICAgIAogICAgICAgIHZhciBwb3B1cF9iMmEyZGFmOGMwMjk0ZWQ1YmVmZWFjYjk1ODVhZTI3MSA9IEwucG9wdXAoeyJtYXhXaWR0aCI6ICIxMDAlIn0pOwoKICAgICAgICAKICAgICAgICAgICAgdmFyIGh0bWxfMTE5ZGM1Yjc5MDY0NDIxZDk0NDc5YTY0NWRhOTNmZTQgPSAkKGA8ZGl2IGlkPSJodG1sXzExOWRjNWI3OTA2NDQyMWQ5NDQ3OWE2NDVkYTkzZmU0IiBzdHlsZT0id2lkdGg6IDEwMC4wJTsgaGVpZ2h0OiAxMDAuMCU7Ij5vZmZpY2VzPC9kaXY+YClbMF07CiAgICAgICAgICAgIHBvcHVwX2IyYTJkYWY4YzAyOTRlZDViZWZlYWNiOTU4NWFlMjcxLnNldENvbnRlbnQoaHRtbF8xMTlkYzViNzkwNjQ0MjFkOTQ0NzlhNjQ1ZGE5M2ZlNCk7CiAgICAgICAgCgogICAgICAgIGNpcmNsZV9tYXJrZXJfMTk1NTAwOTZlOGU0NDM2ZGJkNjEzMGNlNDYwMmY0NWMuYmluZFBvcHVwKHBvcHVwX2IyYTJkYWY4YzAyOTRlZDViZWZlYWNiOTU4NWFlMjcxKQogICAgICAgIDsKCiAgICAgICAgCiAgICAKICAgIAogICAgICAgICAgICB2YXIgY2lyY2xlX21hcmtlcl9mMGVhOGE4NTA4ZDg0MDE2ODYzY2MxNzY4YzNmMGIwYiA9IEwuY2lyY2xlTWFya2VyKAogICAgICAgICAgICAgICAgWzQwLjcyOTQ4LCAtNzQuMDAwMTk1XSwKICAgICAgICAgICAgICAgIHsiYnViYmxpbmdNb3VzZUV2ZW50cyI6IHRydWUsICJjb2xvciI6ICJyZWQiLCAiZGFzaEFycmF5IjogbnVsbCwgImRhc2hPZmZzZXQiOiBudWxsLCAiZmlsbCI6IHRydWUsICJmaWxsQ29sb3IiOiAicmVkIiwgImZpbGxPcGFjaXR5IjogMC4yLCAiZmlsbFJ1bGUiOiAiZXZlbm9kZCIsICJsaW5lQ2FwIjogInJvdW5kIiwgImxpbmVKb2luIjogInJvdW5kIiwgIm9wYWNpdHkiOiAxLjAsICJyYWRpdXMiOiA1MCwgInN0cm9rZSI6IHRydWUsICJ3ZWlnaHQiOiAzfQogICAgICAgICAgICApLmFkZFRvKG1hcF9iYWY4NjczNGMwZDM0OTkzODU3OWY2MGQzNmIwZDU3ZCk7CiAgICAgICAgCiAgICAKICAgICAgICB2YXIgcG9wdXBfNDhhMGU5NTViMjczNDBmY2JiMTlhNzBkMzE4MWYwYjIgPSBMLnBvcHVwKHsibWF4V2lkdGgiOiAiMTAwJSJ9KTsKCiAgICAgICAgCiAgICAgICAgICAgIHZhciBodG1sXzU1NjdkZDFkMDI3OTQxMmViYThkNmQ0NzExYWRhY2E0ID0gJChgPGRpdiBpZD0iaHRtbF81NTY3ZGQxZDAyNzk0MTJlYmE4ZDZkNDcxMWFkYWNhNCIgc3R5bGU9IndpZHRoOiAxMDAuMCU7IGhlaWdodDogMTAwLjAlOyI+b2ZmaWNlczwvZGl2PmApWzBdOwogICAgICAgICAgICBwb3B1cF80OGEwZTk1NWIyNzM0MGZjYmIxOWE3MGQzMTgxZjBiMi5zZXRDb250ZW50KGh0bWxfNTU2N2RkMWQwMjc5NDEyZWJhOGQ2ZDQ3MTFhZGFjYTQpOwogICAgICAgIAoKICAgICAgICBjaXJjbGVfbWFya2VyX2YwZWE4YTg1MDhkODQwMTY4NjNjYzE3NjhjM2YwYjBiLmJpbmRQb3B1cChwb3B1cF80OGEwZTk1NWIyNzM0MGZjYmIxOWE3MGQzMTgxZjBiMikKICAgICAgICA7CgogICAgICAgIAogICAgCiAgICAKICAgICAgICAgICAgdmFyIGNpcmNsZV9tYXJrZXJfY2E5NzU5MWIyYjQxNDVmNWJhMTUzMjA1ZWJjYzM3NzMgPSBMLmNpcmNsZU1hcmtlcigKICAgICAgICAgICAgICAgIFs0MC43MzkwNiwgLTczLjk5MDkxMV0sCiAgICAgICAgICAgICAgICB7ImJ1YmJsaW5nTW91c2VFdmVudHMiOiB0cnVlLCAiY29sb3IiOiAicmVkIiwgImRhc2hBcnJheSI6IG51bGwsICJkYXNoT2Zmc2V0IjogbnVsbCwgImZpbGwiOiB0cnVlLCAiZmlsbENvbG9yIjogInJlZCIsICJmaWxsT3BhY2l0eSI6IDAuMiwgImZpbGxSdWxlIjogImV2ZW5vZGQiLCAibGluZUNhcCI6ICJyb3VuZCIsICJsaW5lSm9pbiI6ICJyb3VuZCIsICJvcGFjaXR5IjogMS4wLCAicmFkaXVzIjogNTAsICJzdHJva2UiOiB0cnVlLCAid2VpZ2h0IjogM30KICAgICAgICAgICAgKS5hZGRUbyhtYXBfYmFmODY3MzRjMGQzNDk5Mzg1NzlmNjBkMzZiMGQ1N2QpOwogICAgICAgIAogICAgCiAgICAgICAgdmFyIHBvcHVwX2MyNDJmZmE4ZjgyYjRmYTliNThmOWVlYzcwMTUyMWFkID0gTC5wb3B1cCh7Im1heFdpZHRoIjogIjEwMCUifSk7CgogICAgICAgIAogICAgICAgICAgICB2YXIgaHRtbF83NjY3OTAzNTkzYWM0NDhjOGEzZmQyYWI1OWE5ZjM2OSA9ICQoYDxkaXYgaWQ9Imh0bWxfNzY2NzkwMzU5M2FjNDQ4YzhhM2ZkMmFiNTlhOWYzNjkiIHN0eWxlPSJ3aWR0aDogMTAwLjAlOyBoZWlnaHQ6IDEwMC4wJTsiPm9mZmljZXM8L2Rpdj5gKVswXTsKICAgICAgICAgICAgcG9wdXBfYzI0MmZmYThmODJiNGZhOWI1OGY5ZWVjNzAxNTIxYWQuc2V0Q29udGVudChodG1sXzc2Njc5MDM1OTNhYzQ0OGM4YTNmZDJhYjU5YTlmMzY5KTsKICAgICAgICAKCiAgICAgICAgY2lyY2xlX21hcmtlcl9jYTk3NTkxYjJiNDE0NWY1YmExNTMyMDVlYmNjMzc3My5iaW5kUG9wdXAocG9wdXBfYzI0MmZmYThmODJiNGZhOWI1OGY5ZWVjNzAxNTIxYWQpCiAgICAgICAgOwoKICAgICAgICAKICAgIAogICAgCiAgICAgICAgICAgIHZhciBjaXJjbGVfbWFya2VyXzY0MGYxZmY5OGMwOTQyYmE5YThkYTc0MjlhZmJjODkyID0gTC5jaXJjbGVNYXJrZXIoCiAgICAgICAgICAgICAgICBbNDAuNzQwNTEyLCAtNzMuOTg3Nzk0XSwKICAgICAgICAgICAgICAgIHsiYnViYmxpbmdNb3VzZUV2ZW50cyI6IHRydWUsICJjb2xvciI6ICJyZWQiLCAiZGFzaEFycmF5IjogbnVsbCwgImRhc2hPZmZzZXQiOiBudWxsLCAiZmlsbCI6IHRydWUsICJmaWxsQ29sb3IiOiAicmVkIiwgImZpbGxPcGFjaXR5IjogMC4yLCAiZmlsbFJ1bGUiOiAiZXZlbm9kZCIsICJsaW5lQ2FwIjogInJvdW5kIiwgImxpbmVKb2luIjogInJvdW5kIiwgIm9wYWNpdHkiOiAxLjAsICJyYWRpdXMiOiA1MCwgInN0cm9rZSI6IHRydWUsICJ3ZWlnaHQiOiAzfQogICAgICAgICAgICApLmFkZFRvKG1hcF9iYWY4NjczNGMwZDM0OTkzODU3OWY2MGQzNmIwZDU3ZCk7CiAgICAgICAgCiAgICAKICAgICAgICB2YXIgcG9wdXBfZTljNTYyODcwYWViNDQ0ZWI0MTM4NmE0NzE2OWI0MWUgPSBMLnBvcHVwKHsibWF4V2lkdGgiOiAiMTAwJSJ9KTsKCiAgICAgICAgCiAgICAgICAgICAgIHZhciBodG1sXzQwMDg0OWRmMDY3MTQwNjJhY2FiN2I2ZTMwNGY4YmM4ID0gJChgPGRpdiBpZD0iaHRtbF80MDA4NDlkZjA2NzE0MDYyYWNhYjdiNmUzMDRmOGJjOCIgc3R5bGU9IndpZHRoOiAxMDAuMCU7IGhlaWdodDogMTAwLjAlOyI+b2ZmaWNlczwvZGl2PmApWzBdOwogICAgICAgICAgICBwb3B1cF9lOWM1NjI4NzBhZWI0NDRlYjQxMzg2YTQ3MTY5YjQxZS5zZXRDb250ZW50KGh0bWxfNDAwODQ5ZGYwNjcxNDA2MmFjYWI3YjZlMzA0ZjhiYzgpOwogICAgICAgIAoKICAgICAgICBjaXJjbGVfbWFya2VyXzY0MGYxZmY5OGMwOTQyYmE5YThkYTc0MjlhZmJjODkyLmJpbmRQb3B1cChwb3B1cF9lOWM1NjI4NzBhZWI0NDRlYjQxMzg2YTQ3MTY5YjQxZSkKICAgICAgICA7CgogICAgICAgIAogICAgCiAgICAKICAgICAgICAgICAgdmFyIGNpcmNsZV9tYXJrZXJfMTcwNGRiYTEyMWQ2NDhiNWE3NWFlOWQ5ZWFmYWNlNDEgPSBMLmNpcmNsZU1hcmtlcigKICAgICAgICAgICAgICAgIFs0MC43NDM4MzU2LCAtNzMuOTg5MDE0OV0sCiAgICAgICAgICAgICAgICB7ImJ1YmJsaW5nTW91c2VFdmVudHMiOiB0cnVlLCAiY29sb3IiOiAicmVkIiwgImRhc2hBcnJheSI6IG51bGwsICJkYXNoT2Zmc2V0IjogbnVsbCwgImZpbGwiOiB0cnVlLCAiZmlsbENvbG9yIjogInJlZCIsICJmaWxsT3BhY2l0eSI6IDAuMiwgImZpbGxSdWxlIjogImV2ZW5vZGQiLCAibGluZUNhcCI6ICJyb3VuZCIsICJsaW5lSm9pbiI6ICJyb3VuZCIsICJvcGFjaXR5IjogMS4wLCAicmFkaXVzIjogNTAsICJzdHJva2UiOiB0cnVlLCAid2VpZ2h0IjogM30KICAgICAgICAgICAgKS5hZGRUbyhtYXBfYmFmODY3MzRjMGQzNDk5Mzg1NzlmNjBkMzZiMGQ1N2QpOwogICAgICAgIAogICAgCiAgICAgICAgdmFyIHBvcHVwX2QxNmY4OWY2ZGJiYjRhNDRhZGY2OTM4YjE0NjNmMmMyID0gTC5wb3B1cCh7Im1heFdpZHRoIjogIjEwMCUifSk7CgogICAgICAgIAogICAgICAgICAgICB2YXIgaHRtbF9lYjM1OWMwN2FiYTg0OGRiYmFhNzUzOWE1ZGE1Y2Q3MiA9ICQoYDxkaXYgaWQ9Imh0bWxfZWIzNTljMDdhYmE4NDhkYmJhYTc1MzlhNWRhNWNkNzIiIHN0eWxlPSJ3aWR0aDogMTAwLjAlOyBoZWlnaHQ6IDEwMC4wJTsiPm9mZmljZXM8L2Rpdj5gKVswXTsKICAgICAgICAgICAgcG9wdXBfZDE2Zjg5ZjZkYmJiNGE0NGFkZjY5MzhiMTQ2M2YyYzIuc2V0Q29udGVudChodG1sX2ViMzU5YzA3YWJhODQ4ZGJiYWE3NTM5YTVkYTVjZDcyKTsKICAgICAgICAKCiAgICAgICAgY2lyY2xlX21hcmtlcl8xNzA0ZGJhMTIxZDY0OGI1YTc1YWU5ZDllYWZhY2U0MS5iaW5kUG9wdXAocG9wdXBfZDE2Zjg5ZjZkYmJiNGE0NGFkZjY5MzhiMTQ2M2YyYzIpCiAgICAgICAgOwoKICAgICAgICAKICAgIAogICAgCiAgICAgICAgICAgIHZhciBjaXJjbGVfbWFya2VyX2I2N2YzMzRmODY3MDRkOTM4MWYxZDBlYmNmOWViMTMwID0gTC5jaXJjbGVNYXJrZXIoCiAgICAgICAgICAgICAgICBbNDAuNzUwNSwgLTczLjk5MzVdLAogICAgICAgICAgICAgICAgeyJidWJibGluZ01vdXNlRXZlbnRzIjogdHJ1ZSwgImNvbG9yIjogImdyZXkiLCAiZGFzaEFycmF5IjogbnVsbCwgImRhc2hPZmZzZXQiOiBudWxsLCAiZmlsbCI6IHRydWUsICJmaWxsQ29sb3IiOiAiZ3JleSIsICJmaWxsT3BhY2l0eSI6IDAuMiwgImZpbGxSdWxlIjogImV2ZW5vZGQiLCAibGluZUNhcCI6ICJyb3VuZCIsICJsaW5lSm9pbiI6ICJyb3VuZCIsICJvcGFjaXR5IjogMS4wLCAicmFkaXVzIjogNTAsICJzdHJva2UiOiB0cnVlLCAid2VpZ2h0IjogM30KICAgICAgICAgICAgKS5hZGRUbyhtYXBfYmFmODY3MzRjMGQzNDk5Mzg1NzlmNjBkMzZiMGQ1N2QpOwogICAgICAgIAogICAgCiAgICAgICAgdmFyIHBvcHVwXzE3OWFjOTIxNzQ1YzRmMTg4NzM3YWNlNGQyMmY0OTk2ID0gTC5wb3B1cCh7Im1heFdpZHRoIjogIjEwMCUifSk7CgogICAgICAgIAogICAgICAgICAgICB2YXIgaHRtbF81ZWRiYTQ5YWU0OWE0NzM3ODFhMjM4OTcwZjY4ZTljMiA9ICQoYDxkaXYgaWQ9Imh0bWxfNWVkYmE0OWFlNDlhNDczNzgxYTIzODk3MGY2OGU5YzIiIHN0eWxlPSJ3aWR0aDogMTAwLjAlOyBoZWlnaHQ6IDEwMC4wJTsiPnB1YmxpYyB0cmFuc3BvcnQ8L2Rpdj5gKVswXTsKICAgICAgICAgICAgcG9wdXBfMTc5YWM5MjE3NDVjNGYxODg3MzdhY2U0ZDIyZjQ5OTYuc2V0Q29udGVudChodG1sXzVlZGJhNDlhZTQ5YTQ3Mzc4MWEyMzg5NzBmNjhlOWMyKTsKICAgICAgICAKCiAgICAgICAgY2lyY2xlX21hcmtlcl9iNjdmMzM0Zjg2NzA0ZDkzODFmMWQwZWJjZjllYjEzMC5iaW5kUG9wdXAocG9wdXBfMTc5YWM5MjE3NDVjNGYxODg3MzdhY2U0ZDIyZjQ5OTYpCiAgICAgICAgOwoKICAgICAgICAKICAgIAogICAgCiAgICAgICAgICAgIHZhciBjaXJjbGVfbWFya2VyX2E0N2E1OWQ5MmE0NTRkZWE5OTYyNWJlZGI0Y2M4ZDZiID0gTC5jaXJjbGVNYXJrZXIoCiAgICAgICAgICAgICAgICBbNDAuNzE0MTY2OTk5OTk5OTk2LCAtNzQuMDA1ODMzXSwKICAgICAgICAgICAgICAgIHsiYnViYmxpbmdNb3VzZUV2ZW50cyI6IHRydWUsICJjb2xvciI6ICJncmV5IiwgImRhc2hBcnJheSI6IG51bGwsICJkYXNoT2Zmc2V0IjogbnVsbCwgImZpbGwiOiB0cnVlLCAiZmlsbENvbG9yIjogImdyZXkiLCAiZmlsbE9wYWNpdHkiOiAwLjIsICJmaWxsUnVsZSI6ICJldmVub2RkIiwgImxpbmVDYXAiOiAicm91bmQiLCAibGluZUpvaW4iOiAicm91bmQiLCAib3BhY2l0eSI6IDEuMCwgInJhZGl1cyI6IDUwLCAic3Ryb2tlIjogdHJ1ZSwgIndlaWdodCI6IDN9CiAgICAgICAgICAgICkuYWRkVG8obWFwX2JhZjg2NzM0YzBkMzQ5OTM4NTc5ZjYwZDM2YjBkNTdkKTsKICAgICAgICAKICAgIAogICAgICAgIHZhciBwb3B1cF80Y2ZmOTU0YmMzZTA0OTc0YjYxMGQxYmU5NmE2OWE1MCA9IEwucG9wdXAoeyJtYXhXaWR0aCI6ICIxMDAlIn0pOwoKICAgICAgICAKICAgICAgICAgICAgdmFyIGh0bWxfNmNmZTIwYjQ1NDg1NGRmMWI5MjRiMjFmYTc0NzY4MTkgPSAkKGA8ZGl2IGlkPSJodG1sXzZjZmUyMGI0NTQ4NTRkZjFiOTI0YjIxZmE3NDc2ODE5IiBzdHlsZT0id2lkdGg6IDEwMC4wJTsgaGVpZ2h0OiAxMDAuMCU7Ij5wdWJsaWMgdHJhbnNwb3J0PC9kaXY+YClbMF07CiAgICAgICAgICAgIHBvcHVwXzRjZmY5NTRiYzNlMDQ5NzRiNjEwZDFiZTk2YTY5YTUwLnNldENvbnRlbnQoaHRtbF82Y2ZlMjBiNDU0ODU0ZGYxYjkyNGIyMWZhNzQ3NjgxOSk7CiAgICAgICAgCgogICAgICAgIGNpcmNsZV9tYXJrZXJfYTQ3YTU5ZDkyYTQ1NGRlYTk5NjI1YmVkYjRjYzhkNmIuYmluZFBvcHVwKHBvcHVwXzRjZmY5NTRiYzNlMDQ5NzRiNjEwZDFiZTk2YTY5YTUwKQogICAgICAgIDsKCiAgICAgICAgCiAgICAKICAgIAogICAgICAgICAgICB2YXIgY2lyY2xlX21hcmtlcl8wMjE3ZjkwMzM5OTY0YWYyYjlhOWQxNGU4NWU1YTc5MSA9IEwuY2lyY2xlTWFya2VyKAogICAgICAgICAgICAgICAgWzQwLjc1MDUsIC03My45OTM1XSwKICAgICAgICAgICAgICAgIHsiYnViYmxpbmdNb3VzZUV2ZW50cyI6IHRydWUsICJjb2xvciI6ICJncmV5IiwgImRhc2hBcnJheSI6IG51bGwsICJkYXNoT2Zmc2V0IjogbnVsbCwgImZpbGwiOiB0cnVlLCAiZmlsbENvbG9yIjogImdyZXkiLCAiZmlsbE9wYWNpdHkiOiAwLjIsICJmaWxsUnVsZSI6ICJldmVub2RkIiwgImxpbmVDYXAiOiAicm91bmQiLCAibGluZUpvaW4iOiAicm91bmQiLCAib3BhY2l0eSI6IDEuMCwgInJhZGl1cyI6IDUwLCAic3Ryb2tlIjogdHJ1ZSwgIndlaWdodCI6IDN9CiAgICAgICAgICAgICkuYWRkVG8obWFwX2JhZjg2NzM0YzBkMzQ5OTM4NTc5ZjYwZDM2YjBkNTdkKTsKICAgICAgICAKICAgIAogICAgICAgIHZhciBwb3B1cF9iZDMyZTRjNGFmZjk0Yzg4YTFkODg1YzA1YjBhNWMyNyA9IEwucG9wdXAoeyJtYXhXaWR0aCI6ICIxMDAlIn0pOwoKICAgICAgICAKICAgICAgICAgICAgdmFyIGh0bWxfNWQ0YjJiOWI5NGY2NDlmMDkyZWQ1NTlkYWY3ZWY2MGYgPSAkKGA8ZGl2IGlkPSJodG1sXzVkNGIyYjliOTRmNjQ5ZjA5MmVkNTU5ZGFmN2VmNjBmIiBzdHlsZT0id2lkdGg6IDEwMC4wJTsgaGVpZ2h0OiAxMDAuMCU7Ij5wdWJsaWMgdHJhbnNwb3J0PC9kaXY+YClbMF07CiAgICAgICAgICAgIHBvcHVwX2JkMzJlNGM0YWZmOTRjODhhMWQ4ODVjMDViMGE1YzI3LnNldENvbnRlbnQoaHRtbF81ZDRiMmI5Yjk0ZjY0OWYwOTJlZDU1OWRhZjdlZjYwZik7CiAgICAgICAgCgogICAgICAgIGNpcmNsZV9tYXJrZXJfMDIxN2Y5MDMzOTk2NGFmMmI5YTlkMTRlODVlNWE3OTEuYmluZFBvcHVwKHBvcHVwX2JkMzJlNGM0YWZmOTRjODhhMWQ4ODVjMDViMGE1YzI3KQogICAgICAgIDsKCiAgICAgICAgCiAgICAKICAgIAogICAgICAgICAgICB2YXIgY2lyY2xlX21hcmtlcl84MTk0NDUxMzA1NzQ0YWEzODY3MjdmNDEzOWMwZjFhNSA9IEwuY2lyY2xlTWFya2VyKAogICAgICAgICAgICAgICAgWzQwLjc1MDUsIC03My45OTM1XSwKICAgICAgICAgICAgICAgIHsiYnViYmxpbmdNb3VzZUV2ZW50cyI6IHRydWUsICJjb2xvciI6ICJncmV5IiwgImRhc2hBcnJheSI6IG51bGwsICJkYXNoT2Zmc2V0IjogbnVsbCwgImZpbGwiOiB0cnVlLCAiZmlsbENvbG9yIjogImdyZXkiLCAiZmlsbE9wYWNpdHkiOiAwLjIsICJmaWxsUnVsZSI6ICJldmVub2RkIiwgImxpbmVDYXAiOiAicm91bmQiLCAibGluZUpvaW4iOiAicm91bmQiLCAib3BhY2l0eSI6IDEuMCwgInJhZGl1cyI6IDUwLCAic3Ryb2tlIjogdHJ1ZSwgIndlaWdodCI6IDN9CiAgICAgICAgICAgICkuYWRkVG8obWFwX2JhZjg2NzM0YzBkMzQ5OTM4NTc5ZjYwZDM2YjBkNTdkKTsKICAgICAgICAKICAgIAogICAgICAgIHZhciBwb3B1cF9mZjc0YzNmOTRmOWE0MjM5ODcyMDdhZjY1MDk4NzI0ZSA9IEwucG9wdXAoeyJtYXhXaWR0aCI6ICIxMDAlIn0pOwoKICAgICAgICAKICAgICAgICAgICAgdmFyIGh0bWxfNDBkZDVhODliNjY3NDNmMmI3YjNmNmZiMGJhZWVmZGQgPSAkKGA8ZGl2IGlkPSJodG1sXzQwZGQ1YTg5YjY2NzQzZjJiN2IzZjZmYjBiYWVlZmRkIiBzdHlsZT0id2lkdGg6IDEwMC4wJTsgaGVpZ2h0OiAxMDAuMCU7Ij5wdWJsaWMgdHJhbnNwb3J0PC9kaXY+YClbMF07CiAgICAgICAgICAgIHBvcHVwX2ZmNzRjM2Y5NGY5YTQyMzk4NzIwN2FmNjUwOTg3MjRlLnNldENvbnRlbnQoaHRtbF80MGRkNWE4OWI2Njc0M2YyYjdiM2Y2ZmIwYmFlZWZkZCk7CiAgICAgICAgCgogICAgICAgIGNpcmNsZV9tYXJrZXJfODE5NDQ1MTMwNTc0NGFhMzg2NzI3ZjQxMzljMGYxYTUuYmluZFBvcHVwKHBvcHVwX2ZmNzRjM2Y5NGY5YTQyMzk4NzIwN2FmNjUwOTg3MjRlKQogICAgICAgIDsKCiAgICAgICAgCiAgICAKICAgIAogICAgICAgICAgICB2YXIgY2lyY2xlX21hcmtlcl8wMjM3YTljNDllYTg0MjI2YTYzNWZlNTlhOGFhOTM3ZSA9IEwuY2lyY2xlTWFya2VyKAogICAgICAgICAgICAgICAgWzQwLjc1MDUsIC03My45OTM1XSwKICAgICAgICAgICAgICAgIHsiYnViYmxpbmdNb3VzZUV2ZW50cyI6IHRydWUsICJjb2xvciI6ICJncmV5IiwgImRhc2hBcnJheSI6IG51bGwsICJkYXNoT2Zmc2V0IjogbnVsbCwgImZpbGwiOiB0cnVlLCAiZmlsbENvbG9yIjogImdyZXkiLCAiZmlsbE9wYWNpdHkiOiAwLjIsICJmaWxsUnVsZSI6ICJldmVub2RkIiwgImxpbmVDYXAiOiAicm91bmQiLCAibGluZUpvaW4iOiAicm91bmQiLCAib3BhY2l0eSI6IDEuMCwgInJhZGl1cyI6IDUwLCAic3Ryb2tlIjogdHJ1ZSwgIndlaWdodCI6IDN9CiAgICAgICAgICAgICkuYWRkVG8obWFwX2JhZjg2NzM0YzBkMzQ5OTM4NTc5ZjYwZDM2YjBkNTdkKTsKICAgICAgICAKICAgIAogICAgICAgIHZhciBwb3B1cF84NTFkYjA5NjdhYzM0ZGZlYmU4NDAzYmI3NGI3MDhjOCA9IEwucG9wdXAoeyJtYXhXaWR0aCI6ICIxMDAlIn0pOwoKICAgICAgICAKICAgICAgICAgICAgdmFyIGh0bWxfYTk4ODk2YzE4MGNhNGViZWFkMmVmZjkwZmE3NTMwYmMgPSAkKGA8ZGl2IGlkPSJodG1sX2E5ODg5NmMxODBjYTRlYmVhZDJlZmY5MGZhNzUzMGJjIiBzdHlsZT0id2lkdGg6IDEwMC4wJTsgaGVpZ2h0OiAxMDAuMCU7Ij5wdWJsaWMgdHJhbnNwb3J0PC9kaXY+YClbMF07CiAgICAgICAgICAgIHBvcHVwXzg1MWRiMDk2N2FjMzRkZmViZTg0MDNiYjc0YjcwOGM4LnNldENvbnRlbnQoaHRtbF9hOTg4OTZjMTgwY2E0ZWJlYWQyZWZmOTBmYTc1MzBiYyk7CiAgICAgICAgCgogICAgICAgIGNpcmNsZV9tYXJrZXJfMDIzN2E5YzQ5ZWE4NDIyNmE2MzVmZTU5YThhYTkzN2UuYmluZFBvcHVwKHBvcHVwXzg1MWRiMDk2N2FjMzRkZmViZTg0MDNiYjc0YjcwOGM4KQogICAgICAgIDsKCiAgICAgICAgCiAgICAKICAgIAogICAgICAgICAgICB2YXIgY2lyY2xlX21hcmtlcl8wZmU3ODgxNDNmNmM0N2Q3OGYwZTgwOTg4ODM2ZmFhOCA9IEwuY2lyY2xlTWFya2VyKAogICAgICAgICAgICAgICAgWzQwLjc0LCAtNzMuOTldLAogICAgICAgICAgICAgICAgeyJidWJibGluZ01vdXNlRXZlbnRzIjogdHJ1ZSwgImNvbG9yIjogImdyZWVuIiwgImRhc2hBcnJheSI6IG51bGwsICJkYXNoT2Zmc2V0IjogbnVsbCwgImZpbGwiOiB0cnVlLCAiZmlsbENvbG9yIjogImdyZWVuIiwgImZpbGxPcGFjaXR5IjogMC4yLCAiZmlsbFJ1bGUiOiAiZXZlbm9kZCIsICJsaW5lQ2FwIjogInJvdW5kIiwgImxpbmVKb2luIjogInJvdW5kIiwgIm9wYWNpdHkiOiAxLjAsICJyYWRpdXMiOiA1MCwgInN0cm9rZSI6IHRydWUsICJ3ZWlnaHQiOiAzfQogICAgICAgICAgICApLmFkZFRvKG1hcF9iYWY4NjczNGMwZDM0OTkzODU3OWY2MGQzNmIwZDU3ZCk7CiAgICAgICAgCiAgICAKICAgICAgICB2YXIgcG9wdXBfMjVkODFlNmE2MTI5NDZkOWE1NGRlMWE3YTUxMjRjMmQgPSBMLnBvcHVwKHsibWF4V2lkdGgiOiAiMTAwJSJ9KTsKCiAgICAgICAgCiAgICAgICAgICAgIHZhciBodG1sX2RlNzE2MmM2NTFmNzQyYTA4ZTc5OGY4NDc1N2M5Y2U2ID0gJChgPGRpdiBpZD0iaHRtbF9kZTcxNjJjNjUxZjc0MmEwOGU3OThmODQ3NTdjOWNlNiIgc3R5bGU9IndpZHRoOiAxMDAuMCU7IGhlaWdodDogMTAwLjAlOyI+c3RhcmJ1Y2tzPC9kaXY+YClbMF07CiAgICAgICAgICAgIHBvcHVwXzI1ZDgxZTZhNjEyOTQ2ZDlhNTRkZTFhN2E1MTI0YzJkLnNldENvbnRlbnQoaHRtbF9kZTcxNjJjNjUxZjc0MmEwOGU3OThmODQ3NTdjOWNlNik7CiAgICAgICAgCgogICAgICAgIGNpcmNsZV9tYXJrZXJfMGZlNzg4MTQzZjZjNDdkNzhmMGU4MDk4ODgzNmZhYTguYmluZFBvcHVwKHBvcHVwXzI1ZDgxZTZhNjEyOTQ2ZDlhNTRkZTFhN2E1MTI0YzJkKQogICAgICAgIDsKCiAgICAgICAgCiAgICAKICAgIAogICAgICAgICAgICB2YXIgY2lyY2xlX21hcmtlcl80YWFjZTE1M2VjZjA0NjU5YjhkNTI0NDcwODdkMWEzMiA9IEwuY2lyY2xlTWFya2VyKAogICAgICAgICAgICAgICAgWzQwLjczLCAtNzQuMF0sCiAgICAgICAgICAgICAgICB7ImJ1YmJsaW5nTW91c2VFdmVudHMiOiB0cnVlLCAiY29sb3IiOiAiZ3JlZW4iLCAiZGFzaEFycmF5IjogbnVsbCwgImRhc2hPZmZzZXQiOiBudWxsLCAiZmlsbCI6IHRydWUsICJmaWxsQ29sb3IiOiAiZ3JlZW4iLCAiZmlsbE9wYWNpdHkiOiAwLjIsICJmaWxsUnVsZSI6ICJldmVub2RkIiwgImxpbmVDYXAiOiAicm91bmQiLCAibGluZUpvaW4iOiAicm91bmQiLCAib3BhY2l0eSI6IDEuMCwgInJhZGl1cyI6IDUwLCAic3Ryb2tlIjogdHJ1ZSwgIndlaWdodCI6IDN9CiAgICAgICAgICAgICkuYWRkVG8obWFwX2JhZjg2NzM0YzBkMzQ5OTM4NTc5ZjYwZDM2YjBkNTdkKTsKICAgICAgICAKICAgIAogICAgICAgIHZhciBwb3B1cF9mNjBjZjQ0OTM3NTI0MDRkYTgxMjlmNGQ5YjU2Y2M4MiA9IEwucG9wdXAoeyJtYXhXaWR0aCI6ICIxMDAlIn0pOwoKICAgICAgICAKICAgICAgICAgICAgdmFyIGh0bWxfMTkwMDVhYTBkZjczNGM5YzhjMzYyOTNiNTFkODQyMzggPSAkKGA8ZGl2IGlkPSJodG1sXzE5MDA1YWEwZGY3MzRjOWM4YzM2MjkzYjUxZDg0MjM4IiBzdHlsZT0id2lkdGg6IDEwMC4wJTsgaGVpZ2h0OiAxMDAuMCU7Ij5zdGFyYnVja3M8L2Rpdj5gKVswXTsKICAgICAgICAgICAgcG9wdXBfZjYwY2Y0NDkzNzUyNDA0ZGE4MTI5ZjRkOWI1NmNjODIuc2V0Q29udGVudChodG1sXzE5MDA1YWEwZGY3MzRjOWM4YzM2MjkzYjUxZDg0MjM4KTsKICAgICAgICAKCiAgICAgICAgY2lyY2xlX21hcmtlcl80YWFjZTE1M2VjZjA0NjU5YjhkNTI0NDcwODdkMWEzMi5iaW5kUG9wdXAocG9wdXBfZjYwY2Y0NDkzNzUyNDA0ZGE4MTI5ZjRkOWI1NmNjODIpCiAgICAgICAgOwoKICAgICAgICAKICAgIAogICAgCiAgICAgICAgICAgIHZhciBjaXJjbGVfbWFya2VyXzljNTNkNWJjNDM2NjRkZDk5ZDNlYzM2MzU2OGEyYTQ2ID0gTC5jaXJjbGVNYXJrZXIoCiAgICAgICAgICAgICAgICBbNDAuNzQsIC03My45OV0sCiAgICAgICAgICAgICAgICB7ImJ1YmJsaW5nTW91c2VFdmVudHMiOiB0cnVlLCAiY29sb3IiOiAiZ3JlZW4iLCAiZGFzaEFycmF5IjogbnVsbCwgImRhc2hPZmZzZXQiOiBudWxsLCAiZmlsbCI6IHRydWUsICJmaWxsQ29sb3IiOiAiZ3JlZW4iLCAiZmlsbE9wYWNpdHkiOiAwLjIsICJmaWxsUnVsZSI6ICJldmVub2RkIiwgImxpbmVDYXAiOiAicm91bmQiLCAibGluZUpvaW4iOiAicm91bmQiLCAib3BhY2l0eSI6IDEuMCwgInJhZGl1cyI6IDUwLCAic3Ryb2tlIjogdHJ1ZSwgIndlaWdodCI6IDN9CiAgICAgICAgICAgICkuYWRkVG8obWFwX2JhZjg2NzM0YzBkMzQ5OTM4NTc5ZjYwZDM2YjBkNTdkKTsKICAgICAgICAKICAgIAogICAgICAgIHZhciBwb3B1cF8yNjE0ZjUyYjZjYmI0MDA5YjFlZDM2NzdhOWU3OTA1MyA9IEwucG9wdXAoeyJtYXhXaWR0aCI6ICIxMDAlIn0pOwoKICAgICAgICAKICAgICAgICAgICAgdmFyIGh0bWxfOGNiYWM0YmQ0MTNjNDEwOTlmODEyNmNhYjE2ZjEzM2IgPSAkKGA8ZGl2IGlkPSJodG1sXzhjYmFjNGJkNDEzYzQxMDk5ZjgxMjZjYWIxNmYxMzNiIiBzdHlsZT0id2lkdGg6IDEwMC4wJTsgaGVpZ2h0OiAxMDAuMCU7Ij5zdGFyYnVja3M8L2Rpdj5gKVswXTsKICAgICAgICAgICAgcG9wdXBfMjYxNGY1MmI2Y2JiNDAwOWIxZWQzNjc3YTllNzkwNTMuc2V0Q29udGVudChodG1sXzhjYmFjNGJkNDEzYzQxMDk5ZjgxMjZjYWIxNmYxMzNiKTsKICAgICAgICAKCiAgICAgICAgY2lyY2xlX21hcmtlcl85YzUzZDViYzQzNjY0ZGQ5OWQzZWMzNjM1NjhhMmE0Ni5iaW5kUG9wdXAocG9wdXBfMjYxNGY1MmI2Y2JiNDAwOWIxZWQzNjc3YTllNzkwNTMpCiAgICAgICAgOwoKICAgICAgICAKICAgIAogICAgCiAgICAgICAgICAgIHZhciBjaXJjbGVfbWFya2VyXzQ1MzljNDQwMTE2MTQ4ZjA4NmQ3MjRkOGEyYzBiMDlhID0gTC5jaXJjbGVNYXJrZXIoCiAgICAgICAgICAgICAgICBbNDAuNzQsIC03My45OV0sCiAgICAgICAgICAgICAgICB7ImJ1YmJsaW5nTW91c2VFdmVudHMiOiB0cnVlLCAiY29sb3IiOiAiZ3JlZW4iLCAiZGFzaEFycmF5IjogbnVsbCwgImRhc2hPZmZzZXQiOiBudWxsLCAiZmlsbCI6IHRydWUsICJmaWxsQ29sb3IiOiAiZ3JlZW4iLCAiZmlsbE9wYWNpdHkiOiAwLjIsICJmaWxsUnVsZSI6ICJldmVub2RkIiwgImxpbmVDYXAiOiAicm91bmQiLCAibGluZUpvaW4iOiAicm91bmQiLCAib3BhY2l0eSI6IDEuMCwgInJhZGl1cyI6IDUwLCAic3Ryb2tlIjogdHJ1ZSwgIndlaWdodCI6IDN9CiAgICAgICAgICAgICkuYWRkVG8obWFwX2JhZjg2NzM0YzBkMzQ5OTM4NTc5ZjYwZDM2YjBkNTdkKTsKICAgICAgICAKICAgIAogICAgICAgIHZhciBwb3B1cF82M2NjNzI0ZWE5NmY0M2I4OTQwOTBiM2I4MjZlOTA0NyA9IEwucG9wdXAoeyJtYXhXaWR0aCI6ICIxMDAlIn0pOwoKICAgICAgICAKICAgICAgICAgICAgdmFyIGh0bWxfZjBkOWUwMmY4ZTcyNGMxMzlmMGE3MDNlZWJmM2RlODEgPSAkKGA8ZGl2IGlkPSJodG1sX2YwZDllMDJmOGU3MjRjMTM5ZjBhNzAzZWViZjNkZTgxIiBzdHlsZT0id2lkdGg6IDEwMC4wJTsgaGVpZ2h0OiAxMDAuMCU7Ij5zdGFyYnVja3M8L2Rpdj5gKVswXTsKICAgICAgICAgICAgcG9wdXBfNjNjYzcyNGVhOTZmNDNiODk0MDkwYjNiODI2ZTkwNDcuc2V0Q29udGVudChodG1sX2YwZDllMDJmOGU3MjRjMTM5ZjBhNzAzZWViZjNkZTgxKTsKICAgICAgICAKCiAgICAgICAgY2lyY2xlX21hcmtlcl80NTM5YzQ0MDExNjE0OGYwODZkNzI0ZDhhMmMwYjA5YS5iaW5kUG9wdXAocG9wdXBfNjNjYzcyNGVhOTZmNDNiODk0MDkwYjNiODI2ZTkwNDcpCiAgICAgICAgOwoKICAgICAgICAKICAgIAogICAgCiAgICAgICAgICAgIHZhciBjaXJjbGVfbWFya2VyX2RiY2E1N2VkMWJiNzQxOGM4MjkyNjc0NGZlYTNlNTA1ID0gTC5jaXJjbGVNYXJrZXIoCiAgICAgICAgICAgICAgICBbNDAuNzQsIC03My45OV0sCiAgICAgICAgICAgICAgICB7ImJ1YmJsaW5nTW91c2VFdmVudHMiOiB0cnVlLCAiY29sb3IiOiAiZ3JlZW4iLCAiZGFzaEFycmF5IjogbnVsbCwgImRhc2hPZmZzZXQiOiBudWxsLCAiZmlsbCI6IHRydWUsICJmaWxsQ29sb3IiOiAiZ3JlZW4iLCAiZmlsbE9wYWNpdHkiOiAwLjIsICJmaWxsUnVsZSI6ICJldmVub2RkIiwgImxpbmVDYXAiOiAicm91bmQiLCAibGluZUpvaW4iOiAicm91bmQiLCAib3BhY2l0eSI6IDEuMCwgInJhZGl1cyI6IDUwLCAic3Ryb2tlIjogdHJ1ZSwgIndlaWdodCI6IDN9CiAgICAgICAgICAgICkuYWRkVG8obWFwX2JhZjg2NzM0YzBkMzQ5OTM4NTc5ZjYwZDM2YjBkNTdkKTsKICAgICAgICAKICAgIAogICAgICAgIHZhciBwb3B1cF80Y2UxZmRlYjEzN2I0ZDBlOTE0ZmU1ZmMwNDBlNmM5OSA9IEwucG9wdXAoeyJtYXhXaWR0aCI6ICIxMDAlIn0pOwoKICAgICAgICAKICAgICAgICAgICAgdmFyIGh0bWxfZDQzNDcxZTRmZWYxNDAwMmIyMjQ0ODMzYjFmYjVhMDkgPSAkKGA8ZGl2IGlkPSJodG1sX2Q0MzQ3MWU0ZmVmMTQwMDJiMjI0NDgzM2IxZmI1YTA5IiBzdHlsZT0id2lkdGg6IDEwMC4wJTsgaGVpZ2h0OiAxMDAuMCU7Ij5zdGFyYnVja3M8L2Rpdj5gKVswXTsKICAgICAgICAgICAgcG9wdXBfNGNlMWZkZWIxMzdiNGQwZTkxNGZlNWZjMDQwZTZjOTkuc2V0Q29udGVudChodG1sX2Q0MzQ3MWU0ZmVmMTQwMDJiMjI0NDgzM2IxZmI1YTA5KTsKICAgICAgICAKCiAgICAgICAgY2lyY2xlX21hcmtlcl9kYmNhNTdlZDFiYjc0MThjODI5MjY3NDRmZWEzZTUwNS5iaW5kUG9wdXAocG9wdXBfNGNlMWZkZWIxMzdiNGQwZTkxNGZlNWZjMDQwZTZjOTkpCiAgICAgICAgOwoKICAgICAgICAKICAgIAogICAgCiAgICAgICAgICAgIHZhciBjaXJjbGVfbWFya2VyXzcyMGZjNDBiNGMxNjRhZTI5YjNhZThhNjM5NDliOThjID0gTC5jaXJjbGVNYXJrZXIoCiAgICAgICAgICAgICAgICBbNDAuNzQ1MTIzNzExMzM4OTQsIC03My45ODgxNTA4MzU1MTUwM10sCiAgICAgICAgICAgICAgICB7ImJ1YmJsaW5nTW91c2VFdmVudHMiOiB0cnVlLCAiY29sb3IiOiAiYmx1ZSIsICJkYXNoQXJyYXkiOiBudWxsLCAiZGFzaE9mZnNldCI6IG51bGwsICJmaWxsIjogdHJ1ZSwgImZpbGxDb2xvciI6ICJibHVlIiwgImZpbGxPcGFjaXR5IjogMC4yLCAiZmlsbFJ1bGUiOiAiZXZlbm9kZCIsICJsaW5lQ2FwIjogInJvdW5kIiwgImxpbmVKb2luIjogInJvdW5kIiwgIm9wYWNpdHkiOiAxLjAsICJyYWRpdXMiOiA1MCwgInN0cm9rZSI6IHRydWUsICJ3ZWlnaHQiOiAzfQogICAgICAgICAgICApLmFkZFRvKG1hcF9iYWY4NjczNGMwZDM0OTkzODU3OWY2MGQzNmIwZDU3ZCk7CiAgICAgICAgCiAgICAKICAgICAgICB2YXIgcG9wdXBfNGEzOGZkNzg4ZGY0NGVmYTgxZGZlZjU5ZjVjOTFjZTggPSBMLnBvcHVwKHsibWF4V2lkdGgiOiAiMTAwJSJ9KTsKCiAgICAgICAgCiAgICAgICAgICAgIHZhciBodG1sXzc5ODZjZGRjNmEwZTRhM2M4NjAyMWZmM2M4ODY1ZmFkID0gJChgPGRpdiBpZD0iaHRtbF83OTg2Y2RkYzZhMGU0YTNjODYwMjFmZjNjODg2NWZhZCIgc3R5bGU9IndpZHRoOiAxMDAuMCU7IGhlaWdodDogMTAwLjAlOyI+a2luZGVyZ2FydGVuPC9kaXY+YClbMF07CiAgICAgICAgICAgIHBvcHVwXzRhMzhmZDc4OGRmNDRlZmE4MWRmZWY1OWY1YzkxY2U4LnNldENvbnRlbnQoaHRtbF83OTg2Y2RkYzZhMGU0YTNjODYwMjFmZjNjODg2NWZhZCk7CiAgICAgICAgCgogICAgICAgIGNpcmNsZV9tYXJrZXJfNzIwZmM0MGI0YzE2NGFlMjliM2FlOGE2Mzk0OWI5OGMuYmluZFBvcHVwKHBvcHVwXzRhMzhmZDc4OGRmNDRlZmE4MWRmZWY1OWY1YzkxY2U4KQogICAgICAgIDsKCiAgICAgICAgCiAgICAKICAgIAogICAgICAgICAgICB2YXIgY2lyY2xlX21hcmtlcl9jM2U3OTczZjE1MTQ0NDVhOGI2ZWIwYWU4ODkxZGRmNyA9IEwuY2lyY2xlTWFya2VyKAogICAgICAgICAgICAgICAgWzQwLjcyODI3NCwgLTc0LjAwNTA2M10sCiAgICAgICAgICAgICAgICB7ImJ1YmJsaW5nTW91c2VFdmVudHMiOiB0cnVlLCAiY29sb3IiOiAiYmx1ZSIsICJkYXNoQXJyYXkiOiBudWxsLCAiZGFzaE9mZnNldCI6IG51bGwsICJmaWxsIjogdHJ1ZSwgImZpbGxDb2xvciI6ICJibHVlIiwgImZpbGxPcGFjaXR5IjogMC4yLCAiZmlsbFJ1bGUiOiAiZXZlbm9kZCIsICJsaW5lQ2FwIjogInJvdW5kIiwgImxpbmVKb2luIjogInJvdW5kIiwgIm9wYWNpdHkiOiAxLjAsICJyYWRpdXMiOiA1MCwgInN0cm9rZSI6IHRydWUsICJ3ZWlnaHQiOiAzfQogICAgICAgICAgICApLmFkZFRvKG1hcF9iYWY4NjczNGMwZDM0OTkzODU3OWY2MGQzNmIwZDU3ZCk7CiAgICAgICAgCiAgICAKICAgICAgICB2YXIgcG9wdXBfZTUzYTEwMjkxMTgwNGQxM2JhYTY0ZTFiOTdmZGQzNGUgPSBMLnBvcHVwKHsibWF4V2lkdGgiOiAiMTAwJSJ9KTsKCiAgICAgICAgCiAgICAgICAgICAgIHZhciBodG1sXzI2NWNhMzIzNjE0MDRkY2M4M2VkYjkwMzVmMTM1MTU0ID0gJChgPGRpdiBpZD0iaHRtbF8yNjVjYTMyMzYxNDA0ZGNjODNlZGI5MDM1ZjEzNTE1NCIgc3R5bGU9IndpZHRoOiAxMDAuMCU7IGhlaWdodDogMTAwLjAlOyI+a2luZGVyZ2FydGVuPC9kaXY+YClbMF07CiAgICAgICAgICAgIHBvcHVwX2U1M2ExMDI5MTE4MDRkMTNiYWE2NGUxYjk3ZmRkMzRlLnNldENvbnRlbnQoaHRtbF8yNjVjYTMyMzYxNDA0ZGNjODNlZGI5MDM1ZjEzNTE1NCk7CiAgICAgICAgCgogICAgICAgIGNpcmNsZV9tYXJrZXJfYzNlNzk3M2YxNTE0NDQ1YThiNmViMGFlODg5MWRkZjcuYmluZFBvcHVwKHBvcHVwX2U1M2ExMDI5MTE4MDRkMTNiYWE2NGUxYjk3ZmRkMzRlKQogICAgICAgIDsKCiAgICAgICAgCiAgICAKICAgIAogICAgICAgICAgICB2YXIgY2lyY2xlX21hcmtlcl84NjBhNGU5ZmQ4YWE0NTUxYWI3NDVlYWMwNzg1YzkwYyA9IEwuY2lyY2xlTWFya2VyKAogICAgICAgICAgICAgICAgWzQwLjc0NTEyMzcxMTMzODk0LCAtNzMuOTg4MTUwODM1NTE1MDNdLAogICAgICAgICAgICAgICAgeyJidWJibGluZ01vdXNlRXZlbnRzIjogdHJ1ZSwgImNvbG9yIjogImJsdWUiLCAiZGFzaEFycmF5IjogbnVsbCwgImRhc2hPZmZzZXQiOiBudWxsLCAiZmlsbCI6IHRydWUsICJmaWxsQ29sb3IiOiAiYmx1ZSIsICJmaWxsT3BhY2l0eSI6IDAuMiwgImZpbGxSdWxlIjogImV2ZW5vZGQiLCAibGluZUNhcCI6ICJyb3VuZCIsICJsaW5lSm9pbiI6ICJyb3VuZCIsICJvcGFjaXR5IjogMS4wLCAicmFkaXVzIjogNTAsICJzdHJva2UiOiB0cnVlLCAid2VpZ2h0IjogM30KICAgICAgICAgICAgKS5hZGRUbyhtYXBfYmFmODY3MzRjMGQzNDk5Mzg1NzlmNjBkMzZiMGQ1N2QpOwogICAgICAgIAogICAgCiAgICAgICAgdmFyIHBvcHVwX2VjMTlkODFkZGY3MTQ3MDViNGMyZjE0MTJkMDA2ODIyID0gTC5wb3B1cCh7Im1heFdpZHRoIjogIjEwMCUifSk7CgogICAgICAgIAogICAgICAgICAgICB2YXIgaHRtbF82ZTFkY2MxZTI4Y2M0NjM5YTc2ZjJiNDgzNThlOTdkMyA9ICQoYDxkaXYgaWQ9Imh0bWxfNmUxZGNjMWUyOGNjNDYzOWE3NmYyYjQ4MzU4ZTk3ZDMiIHN0eWxlPSJ3aWR0aDogMTAwLjAlOyBoZWlnaHQ6IDEwMC4wJTsiPmtpbmRlcmdhcnRlbjwvZGl2PmApWzBdOwogICAgICAgICAgICBwb3B1cF9lYzE5ZDgxZGRmNzE0NzA1YjRjMmYxNDEyZDAwNjgyMi5zZXRDb250ZW50KGh0bWxfNmUxZGNjMWUyOGNjNDYzOWE3NmYyYjQ4MzU4ZTk3ZDMpOwogICAgICAgIAoKICAgICAgICBjaXJjbGVfbWFya2VyXzg2MGE0ZTlmZDhhYTQ1NTFhYjc0NWVhYzA3ODVjOTBjLmJpbmRQb3B1cChwb3B1cF9lYzE5ZDgxZGRmNzE0NzA1YjRjMmYxNDEyZDAwNjgyMikKICAgICAgICA7CgogICAgICAgIAogICAgCiAgICAKICAgICAgICAgICAgdmFyIGNpcmNsZV9tYXJrZXJfZmE4NTVjNjFjNTlkNGE5N2FjOTRiNTg0YWY0NjExNzUgPSBMLmNpcmNsZU1hcmtlcigKICAgICAgICAgICAgICAgIFs0MC43NDUxMjM3MTEzMzg5NCwgLTczLjk4ODE1MDgzNTUxNTAzXSwKICAgICAgICAgICAgICAgIHsiYnViYmxpbmdNb3VzZUV2ZW50cyI6IHRydWUsICJjb2xvciI6ICJibHVlIiwgImRhc2hBcnJheSI6IG51bGwsICJkYXNoT2Zmc2V0IjogbnVsbCwgImZpbGwiOiB0cnVlLCAiZmlsbENvbG9yIjogImJsdWUiLCAiZmlsbE9wYWNpdHkiOiAwLjIsICJmaWxsUnVsZSI6ICJldmVub2RkIiwgImxpbmVDYXAiOiAicm91bmQiLCAibGluZUpvaW4iOiAicm91bmQiLCAib3BhY2l0eSI6IDEuMCwgInJhZGl1cyI6IDUwLCAic3Ryb2tlIjogdHJ1ZSwgIndlaWdodCI6IDN9CiAgICAgICAgICAgICkuYWRkVG8obWFwX2JhZjg2NzM0YzBkMzQ5OTM4NTc5ZjYwZDM2YjBkNTdkKTsKICAgICAgICAKICAgIAogICAgICAgIHZhciBwb3B1cF9hY2EwZGY5M2U0MTk0M2FkODExOWE0ODc0ODY0MWM1MyA9IEwucG9wdXAoeyJtYXhXaWR0aCI6ICIxMDAlIn0pOwoKICAgICAgICAKICAgICAgICAgICAgdmFyIGh0bWxfOTYzZWQ2MTU2NjhmNDdjMzk2NTkwNjRjN2ViN2EyMmEgPSAkKGA8ZGl2IGlkPSJodG1sXzk2M2VkNjE1NjY4ZjQ3YzM5NjU5MDY0YzdlYjdhMjJhIiBzdHlsZT0id2lkdGg6IDEwMC4wJTsgaGVpZ2h0OiAxMDAuMCU7Ij5raW5kZXJnYXJ0ZW48L2Rpdj5gKVswXTsKICAgICAgICAgICAgcG9wdXBfYWNhMGRmOTNlNDE5NDNhZDgxMTlhNDg3NDg2NDFjNTMuc2V0Q29udGVudChodG1sXzk2M2VkNjE1NjY4ZjQ3YzM5NjU5MDY0YzdlYjdhMjJhKTsKICAgICAgICAKCiAgICAgICAgY2lyY2xlX21hcmtlcl9mYTg1NWM2MWM1OWQ0YTk3YWM5NGI1ODRhZjQ2MTE3NS5iaW5kUG9wdXAocG9wdXBfYWNhMGRmOTNlNDE5NDNhZDgxMTlhNDg3NDg2NDFjNTMpCiAgICAgICAgOwoKICAgICAgICAKICAgIAogICAgCiAgICAgICAgICAgIHZhciBjaXJjbGVfbWFya2VyXzcxYzdiMDJiMTNhYjRjMTdhOTY3NGI5YTQ1MTNkYzBlID0gTC5jaXJjbGVNYXJrZXIoCiAgICAgICAgICAgICAgICBbNDAuNzQ1MTIzNzExMzM4OTQsIC03My45ODgxNTA4MzU1MTUwM10sCiAgICAgICAgICAgICAgICB7ImJ1YmJsaW5nTW91c2VFdmVudHMiOiB0cnVlLCAiY29sb3IiOiAiYmx1ZSIsICJkYXNoQXJyYXkiOiBudWxsLCAiZGFzaE9mZnNldCI6IG51bGwsICJmaWxsIjogdHJ1ZSwgImZpbGxDb2xvciI6ICJibHVlIiwgImZpbGxPcGFjaXR5IjogMC4yLCAiZmlsbFJ1bGUiOiAiZXZlbm9kZCIsICJsaW5lQ2FwIjogInJvdW5kIiwgImxpbmVKb2luIjogInJvdW5kIiwgIm9wYWNpdHkiOiAxLjAsICJyYWRpdXMiOiA1MCwgInN0cm9rZSI6IHRydWUsICJ3ZWlnaHQiOiAzfQogICAgICAgICAgICApLmFkZFRvKG1hcF9iYWY4NjczNGMwZDM0OTkzODU3OWY2MGQzNmIwZDU3ZCk7CiAgICAgICAgCiAgICAKICAgICAgICB2YXIgcG9wdXBfMjRkY2UxMDVmODU5NDExZThmZjdjNTM2YmEwNWIwZDEgPSBMLnBvcHVwKHsibWF4V2lkdGgiOiAiMTAwJSJ9KTsKCiAgICAgICAgCiAgICAgICAgICAgIHZhciBodG1sX2VlOTU0MjMzYTFkODRmOGU4OTY1YzYwNDFhYmQ3OWU3ID0gJChgPGRpdiBpZD0iaHRtbF9lZTk1NDIzM2ExZDg0ZjhlODk2NWM2MDQxYWJkNzllNyIgc3R5bGU9IndpZHRoOiAxMDAuMCU7IGhlaWdodDogMTAwLjAlOyI+a2luZGVyZ2FydGVuPC9kaXY+YClbMF07CiAgICAgICAgICAgIHBvcHVwXzI0ZGNlMTA1Zjg1OTQxMWU4ZmY3YzUzNmJhMDViMGQxLnNldENvbnRlbnQoaHRtbF9lZTk1NDIzM2ExZDg0ZjhlODk2NWM2MDQxYWJkNzllNyk7CiAgICAgICAgCgogICAgICAgIGNpcmNsZV9tYXJrZXJfNzFjN2IwMmIxM2FiNGMxN2E5Njc0YjlhNDUxM2RjMGUuYmluZFBvcHVwKHBvcHVwXzI0ZGNlMTA1Zjg1OTQxMWU4ZmY3YzUzNmJhMDViMGQxKQogICAgICAgIDsKCiAgICAgICAgCiAgICAKPC9zY3JpcHQ+\" style=\"position:absolute;width:100%;height:100%;left:0;top:0;border:none !important;\" allowfullscreen webkitallowfullscreen mozallowfullscreen></iframe></div></div>"
      ],
      "text/plain": [
       "<folium.folium.Map at 0x7f9a90664990>"
      ]
     },
     "execution_count": 37,
     "metadata": {},
     "output_type": "execute_result"
    }
   ],
   "source": [
    "world_map                 "
   ]
  }
 ],
 "metadata": {
  "kernelspec": {
   "display_name": "Python 3",
   "language": "python",
   "name": "python3"
  },
  "language_info": {
   "codemirror_mode": {
    "name": "ipython",
    "version": 3
   },
   "file_extension": ".py",
   "mimetype": "text/x-python",
   "name": "python",
   "nbconvert_exporter": "python",
   "pygments_lexer": "ipython3",
   "version": "3.7.4"
  }
 },
 "nbformat": 4,
 "nbformat_minor": 4
}
