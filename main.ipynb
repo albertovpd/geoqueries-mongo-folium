{
 "cells": [
  {
   "cell_type": "code",
   "execution_count": 1,
   "metadata": {},
   "outputs": [],
   "source": [
    "import folium\n",
    "import pandas as pd\n",
    "from haversine import haversine, Unit"
   ]
  },
  {
   "cell_type": "markdown",
   "metadata": {},
   "source": [
    "# My stored variables from another jupyters"
   ]
  },
  {
   "cell_type": "code",
   "execution_count": 2,
   "metadata": {},
   "outputs": [
    {
     "name": "stdout",
     "output_type": "stream",
     "text": [
      "Stored variables and their in-db values:\n",
      "facilities              -> ['airport', 'airport', 'airport', 'airport', 'airp\n",
      "lat_airport             -> ['-6.081689834590001', -5.20707988739, -5.82678985\n",
      "lon_airport             -> ['145.391998291', 145.789001465, 144.2960052490234\n",
      "office_lat              -> [34.090368, 33.022176, 40.7464969, 53.344104, 34.0\n",
      "office_long             -> [-118.393064, -117.081406, -74.0094471, -6.267494,\n",
      "office_name             -> ['Geni', 'Slacker', 'Joost', 'Babelgum', 'Mahalo',\n",
      "star_lat                -> [42.51, 25.42, 25.39, 24.48, 24.51, 24.4, 24.4, 24\n",
      "star_long               -> [1.53, 55.47, 55.47, 54.38, 54.54, 54.49, 54.49, 5\n",
      "starbucks               -> ['Meritxell, 96', 'Ajman Drive Thru', 'Dana Mall',\n"
     ]
    }
   ],
   "source": [
    "%store -r\n",
    "%store"
   ]
  },
  {
   "cell_type": "markdown",
   "metadata": {},
   "source": [
    "-----------\n",
    "# FUNCTIONS"
   ]
  },
  {
   "cell_type": "markdown",
   "metadata": {},
   "source": [
    "# - Measuring proximity"
   ]
  },
  {
   "cell_type": "markdown",
   "metadata": {},
   "source": [
    "## closest_and_ubi function using haversine formula\n",
    "- takes 2 lists (a,b) of geospatial coordinates (as long as required both, lengh-independent)\n",
    "- the output is:\n",
    "    - for all elements on a, the closest point to all elements of b\n",
    "    - the coordinates of the closest point of b\n",
    "- how it works_\n",
    "    name_list_for_distances, name_list_for_coordinates = closest_and_ubi (list1, list2)\n",
    "    \n",
    "it is not allowed to storage functions in one jupyter-notebook and call them from another. You get a RaiseError output. So I define my functions below"
   ]
  },
  {
   "cell_type": "code",
   "execution_count": 3,
   "metadata": {},
   "outputs": [],
   "source": [
    "def closest_and_ubi(offices_ubi,airports_ubi):\n",
    "    '''    Esta función necesita correrse como a,b=closest_and_ubi(elem1,elem2)'''\n",
    "    ubi_to_office=[]\n",
    "    closest_airport = []\n",
    "    for o in offices_ubi:\n",
    "        distancia=[]\n",
    "        airports=[]\n",
    "        for a in airports_ubi:\n",
    "            #if haversine(o,a)<200:\n",
    "            distancia.append(haversine(o,a))\n",
    "            airports.append(a)\n",
    "            \n",
    "        m=min(distancia)\n",
    "        air=airports[distancia.index(m)]\n",
    "        ubi_to_office.append(round(m,1))  #the result is given gith uncertainty of +- 0.1km\n",
    "        closest_airport.append(air)\n",
    "\n",
    "    return ubi_to_office, closest_airport"
   ]
  },
  {
   "cell_type": "markdown",
   "metadata": {},
   "source": [
    "# - Creating coord tuples from lists of coordinates\n",
    "- I got lists of longitudes and latitudes for all places i'm working with in different jupyter-notebooks. I'll turn it into tuples in order to use the haversine library"
   ]
  },
  {
   "cell_type": "code",
   "execution_count": 4,
   "metadata": {},
   "outputs": [],
   "source": [
    "def coord_tuple(list_lat,list_long):    \n",
    "    '''- input: 2 lists. list1: latitudes, list2:longitudes\n",
    "    - output: list of tuples with coordinates\n",
    "    - how to: coordenadas=tuple(list_lat,list_ong)'''\n",
    "    \n",
    "    airports_ubi=[]\n",
    "    for lat,long in zip(list_lat,list_long):\n",
    "        ubication=(float(lat),float(long))\n",
    "        airports_ubi.append(ubication)\n",
    "    return airports_ubi"
   ]
  },
  {
   "cell_type": "markdown",
   "metadata": {},
   "source": [
    "# - Geolocating with Folium"
   ]
  },
  {
   "cell_type": "code",
   "execution_count": 76,
   "metadata": {},
   "outputs": [],
   "source": [
    "def map_adding(lista,nombre,colores):\n",
    "    '''\n",
    "    lista== column of the final dataset\n",
    "    nombre== kind of facility\n",
    "    colores == colour for this kind of facility\n",
    "    '''\n",
    "    for i in lista:\n",
    "        folium.CircleMarker(\n",
    "            location=[i[0],i[1]],\n",
    "            radius=40,\n",
    "            popup=nombre,\n",
    "            color=colores,\n",
    "            fill=True,\n",
    "            fill_color=colores\n",
    "        ).add_to(world_map)"
   ]
  },
  {
   "cell_type": "markdown",
   "metadata": {},
   "source": []
  },
  {
   "cell_type": "markdown",
   "metadata": {},
   "source": [
    "# Creating coord tuples with my ubications and getting the list of names(1st approach)"
   ]
  },
  {
   "cell_type": "code",
   "execution_count": 6,
   "metadata": {},
   "outputs": [],
   "source": [
    "airports_ubi=coord_tuple(lat_airport,lon_airport)"
   ]
  },
  {
   "cell_type": "code",
   "execution_count": 7,
   "metadata": {},
   "outputs": [],
   "source": [
    "starbucks_ubi=coord_tuple(star_lat,star_long)"
   ]
  },
  {
   "cell_type": "code",
   "execution_count": 8,
   "metadata": {},
   "outputs": [],
   "source": [
    "offices_ubi=coord_tuple(office_lat,office_long)"
   ]
  },
  {
   "cell_type": "markdown",
   "metadata": {},
   "source": [
    "# Getting the closest distance from offices\n",
    "- to all airports in my dataset (the most important in the world)\n",
    "- I tried the scipy module for this purpose, but all i found it was uncompatible with gps coordinates, so, i downloaded the haversine library and worked with it"
   ]
  },
  {
   "cell_type": "code",
   "execution_count": 9,
   "metadata": {},
   "outputs": [],
   "source": [
    "# using the function defined above\n",
    "distance_airport_km, ubi_airport = closest_and_ubi(offices_ubi,airports_ubi)"
   ]
  },
  {
   "cell_type": "code",
   "execution_count": 73,
   "metadata": {},
   "outputs": [],
   "source": [
    "distance_starbucks_km, ubi_starbucks=closest_and_ubi(offices_ubi,starbucks_ubi)"
   ]
  },
  {
   "cell_type": "code",
   "execution_count": null,
   "metadata": {},
   "outputs": [],
   "source": []
  },
  {
   "cell_type": "markdown",
   "metadata": {},
   "source": [
    "# Creating my dataframe with all the information:"
   ]
  },
  {
   "cell_type": "code",
   "execution_count": 74,
   "metadata": {},
   "outputs": [],
   "source": [
    "data=pd.DataFrame({\"offices\":offices_ubi, \n",
    "                   \"distance_mobility_point(km)\":distance_airport_km,\n",
    "                   \"distance_starbucks(km)\":distance_starbucks_km,\n",
    "                   \"coords_airport\":ubi_airport,\n",
    "                   \"coords_starbucks\":ubi_starbucks})\n"
   ]
  },
  {
   "cell_type": "code",
   "execution_count": 12,
   "metadata": {},
   "outputs": [],
   "source": [
    "#data.head(10"
   ]
  },
  {
   "cell_type": "markdown",
   "metadata": {},
   "source": [
    "# Weight function to find the perfect spot\n",
    "- I created a simple way to rank the preferred location\n",
    "    - starbucks have great weight\n",
    "    - it is not neccessary to have an airport very close, so airports weight reduce them in the function"
   ]
  },
  {
   "cell_type": "code",
   "execution_count": 13,
   "metadata": {},
   "outputs": [],
   "source": [
    "data['Reverse_rank'] =(data[\"distance_mobility_point(km)\"]*0.02+data[\"distance_starbucks(km)\"]*100)"
   ]
  },
  {
   "cell_type": "code",
   "execution_count": 14,
   "metadata": {},
   "outputs": [],
   "source": [
    "data=data.sort_values(by=[\"Reverse_rank\"])"
   ]
  },
  {
   "cell_type": "code",
   "execution_count": 15,
   "metadata": {},
   "outputs": [],
   "source": [
    "final_data=data.reset_index(drop=True)"
   ]
  },
  {
   "cell_type": "code",
   "execution_count": 16,
   "metadata": {},
   "outputs": [
    {
     "data": {
      "text/html": [
       "<div>\n",
       "<style scoped>\n",
       "    .dataframe tbody tr th:only-of-type {\n",
       "        vertical-align: middle;\n",
       "    }\n",
       "\n",
       "    .dataframe tbody tr th {\n",
       "        vertical-align: top;\n",
       "    }\n",
       "\n",
       "    .dataframe thead th {\n",
       "        text-align: right;\n",
       "    }\n",
       "</style>\n",
       "<table border=\"1\" class=\"dataframe\">\n",
       "  <thead>\n",
       "    <tr style=\"text-align: right;\">\n",
       "      <th></th>\n",
       "      <th>offices</th>\n",
       "      <th>distance_mobility_point(km)</th>\n",
       "      <th>distance_starbucks(km)</th>\n",
       "      <th>coords_airport</th>\n",
       "      <th>coords_starbucks</th>\n",
       "      <th>Reverse_rank</th>\n",
       "    </tr>\n",
       "  </thead>\n",
       "  <tbody>\n",
       "    <tr>\n",
       "      <td>0</td>\n",
       "      <td>(47.6103008, -122.3399782)</td>\n",
       "      <td>0.3</td>\n",
       "      <td>0.0</td>\n",
       "      <td>(47.611969, -122.33708200000001)</td>\n",
       "      <td>(47.61, -122.34)</td>\n",
       "      <td>0.006</td>\n",
       "    </tr>\n",
       "    <tr>\n",
       "      <td>1</td>\n",
       "      <td>(45.500277, -73.560084)</td>\n",
       "      <td>0.5</td>\n",
       "      <td>0.0</td>\n",
       "      <td>(45.499722, -73.56611099999999)</td>\n",
       "      <td>(45.5, -73.56)</td>\n",
       "      <td>0.010</td>\n",
       "    </tr>\n",
       "    <tr>\n",
       "      <td>2</td>\n",
       "      <td>(40.739867, -73.990024)</td>\n",
       "      <td>1.2</td>\n",
       "      <td>0.0</td>\n",
       "      <td>(40.7505, -73.9935)</td>\n",
       "      <td>(40.74, -73.99)</td>\n",
       "      <td>0.024</td>\n",
       "    </tr>\n",
       "    <tr>\n",
       "      <td>3</td>\n",
       "      <td>(45.5309644, -122.68038)</td>\n",
       "      <td>0.4</td>\n",
       "      <td>0.1</td>\n",
       "      <td>(45.528999999999996, -122.6768)</td>\n",
       "      <td>(45.53, -122.68)</td>\n",
       "      <td>10.008</td>\n",
       "    </tr>\n",
       "    <tr>\n",
       "      <td>4</td>\n",
       "      <td>(37.779624, -122.391236)</td>\n",
       "      <td>0.5</td>\n",
       "      <td>0.1</td>\n",
       "      <td>(37.776388399999995, -122.39444440000001)</td>\n",
       "      <td>(37.78, -122.39)</td>\n",
       "      <td>10.010</td>\n",
       "    </tr>\n",
       "  </tbody>\n",
       "</table>\n",
       "</div>"
      ],
      "text/plain": [
       "                      offices  distance_mobility_point(km)  \\\n",
       "0  (47.6103008, -122.3399782)                          0.3   \n",
       "1     (45.500277, -73.560084)                          0.5   \n",
       "2     (40.739867, -73.990024)                          1.2   \n",
       "3    (45.5309644, -122.68038)                          0.4   \n",
       "4    (37.779624, -122.391236)                          0.5   \n",
       "\n",
       "   distance_starbucks(km)                             coords_airport  \\\n",
       "0                     0.0           (47.611969, -122.33708200000001)   \n",
       "1                     0.0            (45.499722, -73.56611099999999)   \n",
       "2                     0.0                        (40.7505, -73.9935)   \n",
       "3                     0.1            (45.528999999999996, -122.6768)   \n",
       "4                     0.1  (37.776388399999995, -122.39444440000001)   \n",
       "\n",
       "   coords_starbucks  Reverse_rank  \n",
       "0  (47.61, -122.34)         0.006  \n",
       "1    (45.5, -73.56)         0.010  \n",
       "2   (40.74, -73.99)         0.024  \n",
       "3  (45.53, -122.68)        10.008  \n",
       "4  (37.78, -122.39)        10.010  "
      ]
     },
     "execution_count": 16,
     "metadata": {},
     "output_type": "execute_result"
    }
   ],
   "source": [
    "final_data.head(5)"
   ]
  },
  {
   "cell_type": "markdown",
   "metadata": {},
   "source": [
    "# Folium"
   ]
  },
  {
   "cell_type": "code",
   "execution_count": 17,
   "metadata": {},
   "outputs": [],
   "source": [
    "# Creating name labels:\n"
   ]
  },
  {
   "cell_type": "code",
   "execution_count": 38,
   "metadata": {},
   "outputs": [],
   "source": [
    "world_map=folium.Map(location=[final_data[\"offices\"][0][0],final_data[\"offices\"][0][1]])"
   ]
  },
  {
   "cell_type": "code",
   "execution_count": 19,
   "metadata": {},
   "outputs": [],
   "source": [
    "#world_map"
   ]
  },
  {
   "cell_type": "code",
   "execution_count": 68,
   "metadata": {},
   "outputs": [],
   "source": [
    "map_adding(final_data[\"offices\"][0:5], \"offices\",\"red\")"
   ]
  },
  {
   "cell_type": "code",
   "execution_count": 69,
   "metadata": {},
   "outputs": [],
   "source": [
    "map_adding(final_data[\"coords_airport\"][0:5],\"mobility_point\",\"blue\")"
   ]
  },
  {
   "cell_type": "code",
   "execution_count": 70,
   "metadata": {},
   "outputs": [],
   "source": [
    "map_adding(final_data[\"coords_starbucks\"][0:5],\"starbucks\",\"green\")"
   ]
  },
  {
   "cell_type": "code",
   "execution_count": null,
   "metadata": {},
   "outputs": [],
   "source": []
  },
  {
   "cell_type": "code",
   "execution_count": 71,
   "metadata": {},
   "outputs": [
    {
     "data": {
      "text/html": [
       "<div style=\"width:100%;\"><div style=\"position:relative;width:100%;height:0;padding-bottom:60%;\"><iframe src=\"data:text/html;charset=utf-8;base64,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\" style=\"position:absolute;width:100%;height:100%;left:0;top:0;border:none !important;\" allowfullscreen webkitallowfullscreen mozallowfullscreen></iframe></div></div>"
      ],
      "text/plain": [
       "<folium.folium.Map at 0x7f6281fce210>"
      ]
     },
     "execution_count": 71,
     "metadata": {},
     "output_type": "execute_result"
    }
   ],
   "source": [
    "world_map                 "
   ]
  },
  {
   "cell_type": "code",
   "execution_count": 30,
   "metadata": {},
   "outputs": [
    {
     "ename": "TypeError",
     "evalue": "list indices must be integers or slices, not tuple",
     "output_type": "error",
     "traceback": [
      "\u001b[0;31m---------------------------------------------------------------------------\u001b[0m",
      "\u001b[0;31mTypeError\u001b[0m                                 Traceback (most recent call last)",
      "\u001b[0;32m<ipython-input-30-f856a49c0e67>\u001b[0m in \u001b[0;36m<module>\u001b[0;34m\u001b[0m\n\u001b[1;32m      3\u001b[0m                  \u001b[0mradius\u001b[0m\u001b[0;34m=\u001b[0m\u001b[0;36m4\u001b[0m\u001b[0;34m,\u001b[0m\u001b[0;34m\u001b[0m\u001b[0;34m\u001b[0m\u001b[0m\n\u001b[1;32m      4\u001b[0m                  \u001b[0micon\u001b[0m\u001b[0;34m=\u001b[0m\u001b[0mfolium\u001b[0m\u001b[0;34m.\u001b[0m\u001b[0mIcon\u001b[0m\u001b[0;34m(\u001b[0m\u001b[0micon\u001b[0m\u001b[0;34m=\u001b[0m\u001b[0;34m'cloud'\u001b[0m\u001b[0;34m,\u001b[0m\u001b[0mcolor\u001b[0m\u001b[0;34m=\u001b[0m\u001b[0;34m'blue'\u001b[0m\u001b[0;34m)\u001b[0m\u001b[0;34m,\u001b[0m\u001b[0;34m\u001b[0m\u001b[0;34m\u001b[0m\u001b[0m\n\u001b[0;32m----> 5\u001b[0;31m                  popup=facilities[i]).add_to(world_map)\n\u001b[0m\u001b[1;32m      6\u001b[0m \u001b[0;34m\u001b[0m\u001b[0m\n",
      "\u001b[0;31mTypeError\u001b[0m: list indices must be integers or slices, not tuple"
     ]
    }
   ],
   "source": [
    "    folium.Marker([i[0],i[1]],\n",
    "                 radius=4,\n",
    "                 icon=folium.Icon(icon='cloud',color='blue'),\n",
    "                 popup=facilities[i]).add_to(world_map)\n",
    "    "
   ]
  },
  {
   "cell_type": "code",
   "execution_count": 54,
   "metadata": {},
   "outputs": [],
   "source": [
    "# Airports"
   ]
  },
  {
   "cell_type": "code",
   "execution_count": 55,
   "metadata": {},
   "outputs": [],
   "source": [
    "for i in range(len(facilities)):\n",
    "    folium.Marker([lat_airport[i],lon_airport[i]],\n",
    "                 radius=2,\n",
    "                 icon=folium.Icon(icon='cloud',color='blue'),\n",
    "                 popup=facilities[i]).add_to(world_map)"
   ]
  },
  {
   "cell_type": "markdown",
   "metadata": {},
   "source": [
    "# World map"
   ]
  },
  {
   "cell_type": "code",
   "execution_count": 39,
   "metadata": {},
   "outputs": [
    {
     "data": {
      "text/html": [
       "<div style=\"width:100%;\"><div style=\"position:relative;width:100%;height:0;padding-bottom:60%;\"><iframe src=\"data:text/html;charset=utf-8;base64,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\" style=\"position:absolute;width:100%;height:100%;left:0;top:0;border:none !important;\" allowfullscreen webkitallowfullscreen mozallowfullscreen></iframe></div></div>"
      ],
      "text/plain": [
       "<folium.folium.Map at 0x7f283652f5d0>"
      ]
     },
     "execution_count": 39,
     "metadata": {},
     "output_type": "execute_result"
    }
   ],
   "source": [
    "world_map"
   ]
  },
  {
   "cell_type": "code",
   "execution_count": null,
   "metadata": {},
   "outputs": [],
   "source": []
  }
 ],
 "metadata": {
  "kernelspec": {
   "display_name": "Python 3",
   "language": "python",
   "name": "python3"
  },
  "language_info": {
   "codemirror_mode": {
    "name": "ipython",
    "version": 3
   },
   "file_extension": ".py",
   "mimetype": "text/x-python",
   "name": "python",
   "nbconvert_exporter": "python",
   "pygments_lexer": "ipython3",
   "version": "3.7.4"
  }
 },
 "nbformat": 4,
 "nbformat_minor": 4
}
