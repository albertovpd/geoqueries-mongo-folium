{
 "cells": [
  {
   "cell_type": "markdown",
   "metadata": {},
   "source": [
    "# Main jupyter. \n",
    "## This note contains:\n",
    "- functions\n",
    "- final dataset\n",
    "- folium with my final location\n",
    "    - folium is centered in the prefered location (taking into account my weight function to find it)\n",
    "- the distances are found using the haversine equation (to get the closest distance, considering the curvature of Earth)"
   ]
  },
  {
   "cell_type": "code",
   "execution_count": 19,
   "metadata": {},
   "outputs": [],
   "source": [
    "import folium\n",
    "import pandas as pd\n",
    "from haversine import haversine, Unit"
   ]
  },
  {
   "cell_type": "markdown",
   "metadata": {},
   "source": [
    "# My stored variables from another jupyters"
   ]
  },
  {
   "cell_type": "code",
   "execution_count": 2,
   "metadata": {},
   "outputs": [
    {
     "name": "stdout",
     "output_type": "stream",
     "text": [
      "Stored variables and their in-db values:\n",
      "facilities                    -> ['airport', 'airport', 'airport', 'airport', 'airp\n",
      "kindergarten_ubi              -> [(47.771722, -122.323327), (47.77412421775164, -12\n",
      "kindergarten_ubi1             -> [(-122.323327, 47.771722), (-122.08008087473401, 4\n",
      "kindergarten_ubi2             -> (-73.590806, 45.488338)\n",
      "kindergarten_ubi3             -> [(-73.98815083551503, 40.74512371133894), (-74.005\n",
      "kindergarten_ubi4             -> [(-122.65663932116907, 45.516230500599896), (-122.\n",
      "kindergarten_ubi5             -> [(-122.42151999253659, 37.773589712511665), (-121.\n",
      "lat_airport                   -> ['-6.081689834590001', -5.20707988739, -5.82678985\n",
      "lon_airport                   -> ['145.391998291', 145.789001465, 144.2960052490234\n",
      "office_lat                    -> [34.090368, 33.022176, 40.7464969, 53.344104, 34.0\n",
      "office_long                   -> [-118.393064, -117.081406, -74.0094471, -6.267494,\n",
      "office_name                   -> ['Geni', 'Slacker', 'Joost', 'Babelgum', 'Mahalo',\n",
      "star_lat                      -> [42.51, 25.42, 25.39, 24.48, 24.51, 24.4, 24.4, 24\n",
      "star_long                     -> [1.53, 55.47, 55.47, 54.38, 54.54, 54.49, 54.49, 5\n",
      "starbucks                     -> ['Meritxell, 96', 'Ajman Drive Thru', 'Dana Mall',\n"
     ]
    }
   ],
   "source": [
    "%store -r\n",
    "%store"
   ]
  },
  {
   "cell_type": "markdown",
   "metadata": {},
   "source": [
    "-----------\n",
    "# FUNCTIONS"
   ]
  },
  {
   "cell_type": "markdown",
   "metadata": {},
   "source": [
    "# - Measuring proximity"
   ]
  },
  {
   "cell_type": "markdown",
   "metadata": {},
   "source": [
    "## closest_and_ubi function using haversine formula\n",
    "- takes 2 lists (a,b) of geospatial coordinates (as long as required both, lengh-independent)\n",
    "- the output is:\n",
    "    - for all elements on a, the closest point to all elements of b\n",
    "    - the coordinates of the closest point of b\n",
    "- how it works_\n",
    "    name_list_for_distances, name_list_for_coordinates = closest_and_ubi (list1, list2)\n",
    "    \n",
    "it is not allowed to storage functions in one jupyter-notebook and call them from another. You get a RaiseError output. So I define my functions below"
   ]
  },
  {
   "cell_type": "code",
   "execution_count": 3,
   "metadata": {},
   "outputs": [],
   "source": [
    "def closest_and_ubi(offices_ubi,airports_ubi):\n",
    "    '''    Esta función necesita correrse como a,b=closest_and_ubi(elem1,elem2)'''\n",
    "    ubi_to_office=[]\n",
    "    closest_airport = []\n",
    "    for o in offices_ubi:\n",
    "        distancia=[]\n",
    "        airports=[]\n",
    "        for a in airports_ubi:\n",
    "            #if haversine(o,a)<200:\n",
    "            distancia.append(haversine(o,a))\n",
    "            airports.append(a)\n",
    "            \n",
    "        m=min(distancia)\n",
    "        air=airports[distancia.index(m)]\n",
    "        ubi_to_office.append(round(m,1))  #the result is given gith uncertainty of +- 0.1km\n",
    "        closest_airport.append(air)\n",
    "\n",
    "    return ubi_to_office, closest_airport"
   ]
  },
  {
   "cell_type": "markdown",
   "metadata": {},
   "source": [
    "# - Creating coord tuples from lists of coordinates\n",
    "- I got lists of longitudes and latitudes for all places i'm working with in different jupyter-notebooks. I'll turn it into tuples in order to use the haversine library"
   ]
  },
  {
   "cell_type": "code",
   "execution_count": 4,
   "metadata": {},
   "outputs": [],
   "source": [
    "def coord_tuple(list_lat,list_long):    \n",
    "    '''- input: 2 lists. list1: latitudes, list2:longitudes\n",
    "    - output: list of tuples with coordinates\n",
    "    - how to: coordenadas=tuple(list_lat,list_ong)'''\n",
    "    \n",
    "    airports_ubi=[]\n",
    "    for lat,long in zip(list_lat,list_long):\n",
    "        ubication=(float(lat),float(long))\n",
    "        airports_ubi.append(ubication)\n",
    "    return airports_ubi"
   ]
  },
  {
   "cell_type": "markdown",
   "metadata": {},
   "source": [
    "# - Geolocating with Folium"
   ]
  },
  {
   "cell_type": "code",
   "execution_count": 97,
   "metadata": {},
   "outputs": [],
   "source": [
    "def map_adding(lista,nombre,colores):\n",
    "    '''\n",
    "    lista== column of the final dataset\n",
    "    nombre== kind of facility\n",
    "    colores == colour for this kind of facility\n",
    "    \n",
    "    '''\n",
    "    for i in lista:\n",
    "        folium.CircleMarker(\n",
    "            location=[i[0],i[1]],\n",
    "            radius=50,\n",
    "            popup=nombre,\n",
    "            color=colores,\n",
    "            fill=True,\n",
    "            fill_color=colores\n",
    "        ).add_to(world_map)"
   ]
  },
  {
   "cell_type": "markdown",
   "metadata": {},
   "source": [
    "# Creating coord tuples with my ubications\n",
    "- it take the list of latitudes and list of longitudes for each ubication and turn it into a list of tuples (because is the designed mode to use haversine library)"
   ]
  },
  {
   "cell_type": "code",
   "execution_count": 6,
   "metadata": {},
   "outputs": [],
   "source": [
    "airports_ubi=coord_tuple(lat_airport,lon_airport)"
   ]
  },
  {
   "cell_type": "code",
   "execution_count": 7,
   "metadata": {},
   "outputs": [],
   "source": [
    "starbucks_ubi=coord_tuple(star_lat,star_long)"
   ]
  },
  {
   "cell_type": "code",
   "execution_count": 8,
   "metadata": {},
   "outputs": [],
   "source": [
    "offices_ubi=coord_tuple(office_lat,office_long)"
   ]
  },
  {
   "cell_type": "markdown",
   "metadata": {},
   "source": [
    "# Getting the closest distance from offices\n",
    "- to all airports in my dataset (the most important in the world)\n",
    "- I tried the scipy module for this purpose, but all i found it was uncompatible with gps coordinates, so, i downloaded the haversine library and worked with it"
   ]
  },
  {
   "cell_type": "code",
   "execution_count": 9,
   "metadata": {},
   "outputs": [],
   "source": [
    "# using the function defined above\n",
    "distance_airport_km, ubi_airport = closest_and_ubi(offices_ubi,airports_ubi)"
   ]
  },
  {
   "cell_type": "code",
   "execution_count": 10,
   "metadata": {},
   "outputs": [],
   "source": [
    "distance_starbucks_km, ubi_starbucks=closest_and_ubi(offices_ubi,starbucks_ubi)"
   ]
  },
  {
   "cell_type": "code",
   "execution_count": 11,
   "metadata": {},
   "outputs": [],
   "source": [
    "distance_kindergarten_km, ubi_kindergarten=closest_and_ubi(offices_ubi,kindergarten_ubi)"
   ]
  },
  {
   "cell_type": "code",
   "execution_count": null,
   "metadata": {},
   "outputs": [],
   "source": []
  },
  {
   "cell_type": "markdown",
   "metadata": {},
   "source": [
    "# Creating my dataframe with all the information:"
   ]
  },
  {
   "cell_type": "code",
   "execution_count": 12,
   "metadata": {},
   "outputs": [],
   "source": [
    "data=pd.DataFrame({\"offices\":offices_ubi, \n",
    "                   \"distance_mobility_point(km)\":distance_airport_km,\n",
    "                   \"distance_starbucks(km)\":distance_starbucks_km,\n",
    "                   \"distance_kindergartens(km)\":distance_kindergarten_km,\n",
    "                   \"coords_airport\":ubi_airport,\n",
    "                   \"coords_starbucks\":ubi_starbucks,\n",
    "                  \"coords_kindergartens\":ubi_kindergarten})\n"
   ]
  },
  {
   "cell_type": "code",
   "execution_count": null,
   "metadata": {},
   "outputs": [],
   "source": []
  },
  {
   "cell_type": "markdown",
   "metadata": {},
   "source": [
    "# Weight function to find the perfect spot\n",
    "- I created a simple way to rank the preferred location\n",
    "    - starbucks have great weight\n",
    "    - it is not neccessary to have an airport very close, so airports weight reduce them in the function"
   ]
  },
  {
   "cell_type": "code",
   "execution_count": 13,
   "metadata": {},
   "outputs": [],
   "source": [
    "data['Reverse_rank'] =(data[\"distance_mobility_point(km)\"]*0.02+data[\"distance_starbucks(km)\"]*100+data[\"distance_kindergartens(km)\"]*40)"
   ]
  },
  {
   "cell_type": "code",
   "execution_count": 14,
   "metadata": {},
   "outputs": [],
   "source": [
    "data=data.sort_values(by=[\"Reverse_rank\"])"
   ]
  },
  {
   "cell_type": "code",
   "execution_count": 15,
   "metadata": {},
   "outputs": [],
   "source": [
    "final_data=data.reset_index(drop=True)"
   ]
  },
  {
   "cell_type": "code",
   "execution_count": 20,
   "metadata": {},
   "outputs": [
    {
     "data": {
      "text/html": [
       "<div>\n",
       "<style scoped>\n",
       "    .dataframe tbody tr th:only-of-type {\n",
       "        vertical-align: middle;\n",
       "    }\n",
       "\n",
       "    .dataframe tbody tr th {\n",
       "        vertical-align: top;\n",
       "    }\n",
       "\n",
       "    .dataframe thead th {\n",
       "        text-align: right;\n",
       "    }\n",
       "</style>\n",
       "<table border=\"1\" class=\"dataframe\">\n",
       "  <thead>\n",
       "    <tr style=\"text-align: right;\">\n",
       "      <th></th>\n",
       "      <th>offices</th>\n",
       "      <th>distance_mobility_point(km)</th>\n",
       "      <th>distance_starbucks(km)</th>\n",
       "      <th>distance_kindergartens(km)</th>\n",
       "      <th>coords_airport</th>\n",
       "      <th>coords_starbucks</th>\n",
       "      <th>coords_kindergartens</th>\n",
       "      <th>Reverse_rank</th>\n",
       "    </tr>\n",
       "  </thead>\n",
       "  <tbody>\n",
       "    <tr>\n",
       "      <td>0</td>\n",
       "      <td>(40.739867, -73.990024)</td>\n",
       "      <td>1.2</td>\n",
       "      <td>0.0</td>\n",
       "      <td>0.6</td>\n",
       "      <td>(40.7505, -73.9935)</td>\n",
       "      <td>(40.74, -73.99)</td>\n",
       "      <td>(40.74512371133894, -73.98815083551503)</td>\n",
       "      <td>24.024</td>\n",
       "    </tr>\n",
       "    <tr>\n",
       "      <td>1</td>\n",
       "      <td>(40.72948, -74.000195)</td>\n",
       "      <td>1.8</td>\n",
       "      <td>0.1</td>\n",
       "      <td>0.4</td>\n",
       "      <td>(40.714166999999996, -74.005833)</td>\n",
       "      <td>(40.73, -74.0)</td>\n",
       "      <td>(40.728274, -74.005063)</td>\n",
       "      <td>26.036</td>\n",
       "    </tr>\n",
       "    <tr>\n",
       "      <td>2</td>\n",
       "      <td>(40.73906, -73.990911)</td>\n",
       "      <td>1.3</td>\n",
       "      <td>0.1</td>\n",
       "      <td>0.7</td>\n",
       "      <td>(40.7505, -73.9935)</td>\n",
       "      <td>(40.74, -73.99)</td>\n",
       "      <td>(40.74512371133894, -73.98815083551503)</td>\n",
       "      <td>38.026</td>\n",
       "    </tr>\n",
       "    <tr>\n",
       "      <td>3</td>\n",
       "      <td>(40.740512, -73.987794)</td>\n",
       "      <td>1.2</td>\n",
       "      <td>0.2</td>\n",
       "      <td>0.5</td>\n",
       "      <td>(40.7505, -73.9935)</td>\n",
       "      <td>(40.74, -73.99)</td>\n",
       "      <td>(40.74512371133894, -73.98815083551503)</td>\n",
       "      <td>40.024</td>\n",
       "    </tr>\n",
       "    <tr>\n",
       "      <td>4</td>\n",
       "      <td>(40.7438356, -73.9890149)</td>\n",
       "      <td>0.8</td>\n",
       "      <td>0.4</td>\n",
       "      <td>0.2</td>\n",
       "      <td>(40.7505, -73.9935)</td>\n",
       "      <td>(40.74, -73.99)</td>\n",
       "      <td>(40.74512371133894, -73.98815083551503)</td>\n",
       "      <td>48.016</td>\n",
       "    </tr>\n",
       "  </tbody>\n",
       "</table>\n",
       "</div>"
      ],
      "text/plain": [
       "                     offices  distance_mobility_point(km)  \\\n",
       "0    (40.739867, -73.990024)                          1.2   \n",
       "1     (40.72948, -74.000195)                          1.8   \n",
       "2     (40.73906, -73.990911)                          1.3   \n",
       "3    (40.740512, -73.987794)                          1.2   \n",
       "4  (40.7438356, -73.9890149)                          0.8   \n",
       "\n",
       "   distance_starbucks(km)  distance_kindergartens(km)  \\\n",
       "0                     0.0                         0.6   \n",
       "1                     0.1                         0.4   \n",
       "2                     0.1                         0.7   \n",
       "3                     0.2                         0.5   \n",
       "4                     0.4                         0.2   \n",
       "\n",
       "                     coords_airport coords_starbucks  \\\n",
       "0               (40.7505, -73.9935)  (40.74, -73.99)   \n",
       "1  (40.714166999999996, -74.005833)   (40.73, -74.0)   \n",
       "2               (40.7505, -73.9935)  (40.74, -73.99)   \n",
       "3               (40.7505, -73.9935)  (40.74, -73.99)   \n",
       "4               (40.7505, -73.9935)  (40.74, -73.99)   \n",
       "\n",
       "                      coords_kindergartens  Reverse_rank  \n",
       "0  (40.74512371133894, -73.98815083551503)        24.024  \n",
       "1                  (40.728274, -74.005063)        26.036  \n",
       "2  (40.74512371133894, -73.98815083551503)        38.026  \n",
       "3  (40.74512371133894, -73.98815083551503)        40.024  \n",
       "4  (40.74512371133894, -73.98815083551503)        48.016  "
      ]
     },
     "execution_count": 20,
     "metadata": {},
     "output_type": "execute_result"
    }
   ],
   "source": [
    "final_data.head(5)"
   ]
  },
  {
   "cell_type": "markdown",
   "metadata": {},
   "source": [
    "# Find the middle point between all facilities for the winner location of my ranking\n",
    "\n",
    "- With coordinates close to each other, you can treat the Earth as being locally flat and simply find the centroid as though they were plane coordinates. Then, just take the average of the latitudes and the average of the longitudes to find the latitude and longitude of the centroid"
   ]
  },
  {
   "cell_type": "markdown",
   "metadata": {},
   "source": [
    "# Selecting the columns i want"
   ]
  },
  {
   "cell_type": "code",
   "execution_count": 73,
   "metadata": {},
   "outputs": [],
   "source": [
    "middle_data=final_data[[\"offices\",\"coords_airport\",\"coords_starbucks\",\"coords_kindergartens\"]].copy()"
   ]
  },
  {
   "cell_type": "markdown",
   "metadata": {},
   "source": [
    "# Selecting the winner element of my ranking"
   ]
  },
  {
   "cell_type": "code",
   "execution_count": 81,
   "metadata": {},
   "outputs": [
    {
     "data": {
      "text/plain": [
       "offices                                 (40.739867, -73.990024)\n",
       "coords_airport                              (40.7505, -73.9935)\n",
       "coords_starbucks                                (40.74, -73.99)\n",
       "coords_kindergartens    (40.74512371133894, -73.98815083551503)\n",
       "Name: 0, dtype: object"
      ]
     },
     "execution_count": 81,
     "metadata": {},
     "output_type": "execute_result"
    }
   ],
   "source": [
    "middle_data.iloc[0]"
   ]
  },
  {
   "cell_type": "markdown",
   "metadata": {},
   "source": [
    "# Finding the middle point"
   ]
  },
  {
   "cell_type": "code",
   "execution_count": 87,
   "metadata": {},
   "outputs": [],
   "source": [
    "lat=[]\n",
    "long=[]\n",
    "for e in middle_data.iloc[0]:\n",
    "    lat.append(e[0])\n",
    "    long.append(e[1])"
   ]
  },
  {
   "cell_type": "code",
   "execution_count": 89,
   "metadata": {},
   "outputs": [
    {
     "data": {
      "text/plain": [
       "(40.74387267783474, -73.99041870887876)"
      ]
     },
     "execution_count": 89,
     "metadata": {},
     "output_type": "execute_result"
    }
   ],
   "source": [
    "middle_point=(sum(lat)/len(lat),sum(long)/len(long))\n",
    "middle_point"
   ]
  },
  {
   "cell_type": "code",
   "execution_count": null,
   "metadata": {},
   "outputs": [],
   "source": []
  },
  {
   "cell_type": "markdown",
   "metadata": {},
   "source": []
  },
  {
   "cell_type": "markdown",
   "metadata": {},
   "source": [
    "# Folium"
   ]
  },
  {
   "cell_type": "markdown",
   "metadata": {},
   "source": [
    "## Creating name labels:\n"
   ]
  },
  {
   "cell_type": "code",
   "execution_count": 98,
   "metadata": {},
   "outputs": [],
   "source": [
    "world_map=folium.Map(location=[final_data[\"offices\"][0][0],final_data[\"offices\"][0][1]])"
   ]
  },
  {
   "cell_type": "code",
   "execution_count": 19,
   "metadata": {},
   "outputs": [],
   "source": [
    "#world_map"
   ]
  },
  {
   "cell_type": "code",
   "execution_count": 99,
   "metadata": {},
   "outputs": [],
   "source": [
    "map_adding(final_data[\"offices\"][0:5], \"offices\",\"red\")"
   ]
  },
  {
   "cell_type": "code",
   "execution_count": 100,
   "metadata": {},
   "outputs": [],
   "source": [
    "map_adding(final_data[\"coords_airport\"][0:5],\"public transport\",\"grey\")"
   ]
  },
  {
   "cell_type": "code",
   "execution_count": 101,
   "metadata": {},
   "outputs": [],
   "source": [
    "map_adding(final_data[\"coords_starbucks\"][0:5],\"starbucks\",\"green\")"
   ]
  },
  {
   "cell_type": "code",
   "execution_count": 102,
   "metadata": {},
   "outputs": [],
   "source": [
    "map_adding(final_data[\"coords_kindergartens\"][0:5], \"kindergarten\",\"blue\")"
   ]
  },
  {
   "cell_type": "markdown",
   "metadata": {},
   "source": [
    "## Middle point of the winner location"
   ]
  },
  {
   "cell_type": "code",
   "execution_count": 105,
   "metadata": {},
   "outputs": [
    {
     "data": {
      "text/plain": [
       "<folium.vector_layers.CircleMarker at 0x7fd7292e28d0>"
      ]
     },
     "execution_count": 105,
     "metadata": {},
     "output_type": "execute_result"
    }
   ],
   "source": [
    "folium.CircleMarker(middle_point,\n",
    "                    radius=80,\n",
    "                    popup=\"Perfect spot\",\n",
    "                    color=\"orange\",\n",
    "                    fill=True,\n",
    "                    fill_color=\"orange\").add_to(world_map)"
   ]
  },
  {
   "cell_type": "code",
   "execution_count": 106,
   "metadata": {},
   "outputs": [
    {
     "data": {
      "text/html": [
       "<div style=\"width:100%;\"><div style=\"position:relative;width:100%;height:0;padding-bottom:60%;\"><iframe src=\"data:text/html;charset=utf-8;base64,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\" style=\"position:absolute;width:100%;height:100%;left:0;top:0;border:none !important;\" allowfullscreen webkitallowfullscreen mozallowfullscreen></iframe></div></div>"
      ],
      "text/plain": [
       "<folium.folium.Map at 0x7fd7292cf1d0>"
      ]
     },
     "execution_count": 106,
     "metadata": {},
     "output_type": "execute_result"
    }
   ],
   "source": [
    "world_map                 "
   ]
  },
  {
   "cell_type": "code",
   "execution_count": null,
   "metadata": {},
   "outputs": [],
   "source": []
  }
 ],
 "metadata": {
  "kernelspec": {
   "display_name": "Python 3",
   "language": "python",
   "name": "python3"
  },
  "language_info": {
   "codemirror_mode": {
    "name": "ipython",
    "version": 3
   },
   "file_extension": ".py",
   "mimetype": "text/x-python",
   "name": "python",
   "nbconvert_exporter": "python",
   "pygments_lexer": "ipython3",
   "version": "3.7.4"
  }
 },
 "nbformat": 4,
 "nbformat_minor": 4
}
