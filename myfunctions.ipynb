{
 "cells": [
  {
   "cell_type": "markdown",
   "metadata": {},
   "source": [
    "## Warning:\n",
    "closest_and_ubi is <function closest_and_ubi at 0x7f4fa0538f80>\n",
    "Proper storage of interactively declared classes (or instances\n",
    "of those classes) is not possible! Only instances\n",
    "of classes in real modules on file system can be %store'd."
   ]
  },
  {
   "cell_type": "markdown",
   "metadata": {},
   "source": [
    "## closest_and_ubi\n",
    "- takes 2 lists (a,b) of geospatial coordinates (as long as required both, lengh-independent)\n",
    "- the output is:\n",
    "    - for all elements on a, the closest point to all elements of b\n",
    "    - the coordinates of the closest point of b\n",
    "- how it works_\n",
    "    name_list_for_distances, name_list_for_coordinates = closest_and_ubi (list1, list2)"
   ]
  },
  {
   "cell_type": "code",
   "execution_count": 1,
   "metadata": {},
   "outputs": [],
   "source": [
    "def closest_and_ubi(offices_ubi,airports_ubi):\n",
    "    '''name_list_for_distances, name_list_for_coordinates = closest_and_ubi (list1, list2)'''\n",
    "    ubi_to_office=[]\n",
    "    closest_airport = []\n",
    "    for o in offices_ubi:\n",
    "        distancia=[]\n",
    "        airports=[]\n",
    "        for a in airports_ubi:\n",
    "            if haversine(o,a)<100:\n",
    "                distancia.append(haversine(o,a))\n",
    "                airports.append(a)\n",
    "        m=min(distancia)\n",
    "        air=airports[distancia.index(m)]\n",
    "        ubi_to_office.append(m)\n",
    "        closest_airport.append(air)\n",
    "\n",
    "    return ubi_to_office, closest_airport"
   ]
  },
  {
   "cell_type": "code",
   "execution_count": 3,
   "metadata": {},
   "outputs": [
    {
     "name": "stdout",
     "output_type": "stream",
     "text": [
      "Warning:closest_and_ubi is <function closest_and_ubi at 0x7f4fa0538f80>\n",
      "Proper storage of interactively declared classes (or instances\n",
      "of those classes) is not possible! Only instances\n",
      "of classes in real modules on file system can be %store'd.\n",
      "\n"
     ]
    }
   ],
   "source": []
  },
  {
   "cell_type": "code",
   "execution_count": null,
   "metadata": {},
   "outputs": [],
   "source": []
  }
 ],
 "metadata": {
  "kernelspec": {
   "display_name": "Python 3",
   "language": "python",
   "name": "python3"
  },
  "language_info": {
   "codemirror_mode": {
    "name": "ipython",
    "version": 3
   },
   "file_extension": ".py",
   "mimetype": "text/x-python",
   "name": "python",
   "nbconvert_exporter": "python",
   "pygments_lexer": "ipython3",
   "version": "3.7.4"
  }
 },
 "nbformat": 4,
 "nbformat_minor": 4
}
