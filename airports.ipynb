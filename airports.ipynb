{
 "cells": [
  {
   "cell_type": "markdown",
   "metadata": {},
   "source": [
    "# From this jupyter-notebook I'll take a list of latitudes and another of longitudes, to implement in main.ipynb\n",
    "## it contains further information of mean of transportations that i'll also use"
   ]
  },
  {
   "cell_type": "code",
   "execution_count": 3,
   "metadata": {},
   "outputs": [],
   "source": [
    "import pandas as pd"
   ]
  },
  {
   "cell_type": "code",
   "execution_count": 4,
   "metadata": {},
   "outputs": [],
   "source": [
    "data = pd.read_csv (\"input/airports-extended.csv\")     #,header=None)"
   ]
  },
  {
   "cell_type": "code",
   "execution_count": 5,
   "metadata": {},
   "outputs": [],
   "source": [
    "# https://www.kaggle.com/open-flights/airports-train-stations-and-ferry-terminals#airports-extended.csv"
   ]
  },
  {
   "cell_type": "code",
   "execution_count": 6,
   "metadata": {},
   "outputs": [
    {
     "data": {
      "text/html": [
       "<div>\n",
       "<style scoped>\n",
       "    .dataframe tbody tr th:only-of-type {\n",
       "        vertical-align: middle;\n",
       "    }\n",
       "\n",
       "    .dataframe tbody tr th {\n",
       "        vertical-align: top;\n",
       "    }\n",
       "\n",
       "    .dataframe thead th {\n",
       "        text-align: right;\n",
       "    }\n",
       "</style>\n",
       "<table border=\"1\" class=\"dataframe\">\n",
       "  <thead>\n",
       "    <tr style=\"text-align: right;\">\n",
       "      <th></th>\n",
       "      <th>1</th>\n",
       "      <th>Goroka Airport</th>\n",
       "      <th>Goroka</th>\n",
       "      <th>Papua New Guinea</th>\n",
       "      <th>GKA</th>\n",
       "      <th>AYGA</th>\n",
       "      <th>-6.081689834590001</th>\n",
       "      <th>145.391998291</th>\n",
       "      <th>5282</th>\n",
       "      <th>10</th>\n",
       "      <th>U</th>\n",
       "      <th>Pacific/Port_Moresby</th>\n",
       "      <th>airport</th>\n",
       "      <th>OurAirports</th>\n",
       "    </tr>\n",
       "  </thead>\n",
       "  <tbody>\n",
       "    <tr>\n",
       "      <td>0</td>\n",
       "      <td>2</td>\n",
       "      <td>Madang Airport</td>\n",
       "      <td>Madang</td>\n",
       "      <td>Papua New Guinea</td>\n",
       "      <td>MAG</td>\n",
       "      <td>AYMD</td>\n",
       "      <td>-5.207080</td>\n",
       "      <td>145.789001</td>\n",
       "      <td>20</td>\n",
       "      <td>10</td>\n",
       "      <td>U</td>\n",
       "      <td>Pacific/Port_Moresby</td>\n",
       "      <td>airport</td>\n",
       "      <td>OurAirports</td>\n",
       "    </tr>\n",
       "    <tr>\n",
       "      <td>1</td>\n",
       "      <td>3</td>\n",
       "      <td>Mount Hagen Kagamuga Airport</td>\n",
       "      <td>Mount Hagen</td>\n",
       "      <td>Papua New Guinea</td>\n",
       "      <td>HGU</td>\n",
       "      <td>AYMH</td>\n",
       "      <td>-5.826790</td>\n",
       "      <td>144.296005</td>\n",
       "      <td>5388</td>\n",
       "      <td>10</td>\n",
       "      <td>U</td>\n",
       "      <td>Pacific/Port_Moresby</td>\n",
       "      <td>airport</td>\n",
       "      <td>OurAirports</td>\n",
       "    </tr>\n",
       "    <tr>\n",
       "      <td>2</td>\n",
       "      <td>4</td>\n",
       "      <td>Nadzab Airport</td>\n",
       "      <td>Nadzab</td>\n",
       "      <td>Papua New Guinea</td>\n",
       "      <td>LAE</td>\n",
       "      <td>AYNZ</td>\n",
       "      <td>-6.569803</td>\n",
       "      <td>146.725977</td>\n",
       "      <td>239</td>\n",
       "      <td>10</td>\n",
       "      <td>U</td>\n",
       "      <td>Pacific/Port_Moresby</td>\n",
       "      <td>airport</td>\n",
       "      <td>OurAirports</td>\n",
       "    </tr>\n",
       "    <tr>\n",
       "      <td>3</td>\n",
       "      <td>5</td>\n",
       "      <td>Port Moresby Jacksons International Airport</td>\n",
       "      <td>Port Moresby</td>\n",
       "      <td>Papua New Guinea</td>\n",
       "      <td>POM</td>\n",
       "      <td>AYPY</td>\n",
       "      <td>-9.443380</td>\n",
       "      <td>147.220001</td>\n",
       "      <td>146</td>\n",
       "      <td>10</td>\n",
       "      <td>U</td>\n",
       "      <td>Pacific/Port_Moresby</td>\n",
       "      <td>airport</td>\n",
       "      <td>OurAirports</td>\n",
       "    </tr>\n",
       "    <tr>\n",
       "      <td>4</td>\n",
       "      <td>6</td>\n",
       "      <td>Wewak International Airport</td>\n",
       "      <td>Wewak</td>\n",
       "      <td>Papua New Guinea</td>\n",
       "      <td>WWK</td>\n",
       "      <td>AYWK</td>\n",
       "      <td>-3.583830</td>\n",
       "      <td>143.669006</td>\n",
       "      <td>19</td>\n",
       "      <td>10</td>\n",
       "      <td>U</td>\n",
       "      <td>Pacific/Port_Moresby</td>\n",
       "      <td>airport</td>\n",
       "      <td>OurAirports</td>\n",
       "    </tr>\n",
       "    <tr>\n",
       "      <td>...</td>\n",
       "      <td>...</td>\n",
       "      <td>...</td>\n",
       "      <td>...</td>\n",
       "      <td>...</td>\n",
       "      <td>...</td>\n",
       "      <td>...</td>\n",
       "      <td>...</td>\n",
       "      <td>...</td>\n",
       "      <td>...</td>\n",
       "      <td>...</td>\n",
       "      <td>...</td>\n",
       "      <td>...</td>\n",
       "      <td>...</td>\n",
       "      <td>...</td>\n",
       "    </tr>\n",
       "    <tr>\n",
       "      <td>10662</td>\n",
       "      <td>12106</td>\n",
       "      <td>Kandi</td>\n",
       "      <td>Kandi</td>\n",
       "      <td>Benin</td>\n",
       "      <td>KDC</td>\n",
       "      <td>DBBK</td>\n",
       "      <td>11.145056</td>\n",
       "      <td>2.940444</td>\n",
       "      <td>958</td>\n",
       "      <td>1</td>\n",
       "      <td>U</td>\n",
       "      <td>\\N</td>\n",
       "      <td>unknown</td>\n",
       "      <td>User</td>\n",
       "    </tr>\n",
       "    <tr>\n",
       "      <td>10663</td>\n",
       "      <td>12107</td>\n",
       "      <td>Luxmore Hut Helipad</td>\n",
       "      <td>Te Anau</td>\n",
       "      <td>New Zealand</td>\n",
       "      <td>\\N</td>\n",
       "      <td>\\N</td>\n",
       "      <td>-45.385240</td>\n",
       "      <td>167.619250</td>\n",
       "      <td>3446</td>\n",
       "      <td>13</td>\n",
       "      <td>Z</td>\n",
       "      <td>\\N</td>\n",
       "      <td>unknown</td>\n",
       "      <td>User</td>\n",
       "    </tr>\n",
       "    <tr>\n",
       "      <td>10664</td>\n",
       "      <td>12108</td>\n",
       "      <td>Tasman Glacier</td>\n",
       "      <td>Mt. Cook</td>\n",
       "      <td>New Zealand</td>\n",
       "      <td>\\N</td>\n",
       "      <td>\\N</td>\n",
       "      <td>-43.569905</td>\n",
       "      <td>170.235678</td>\n",
       "      <td>4070</td>\n",
       "      <td>12</td>\n",
       "      <td>Z</td>\n",
       "      <td>\\N</td>\n",
       "      <td>unknown</td>\n",
       "      <td>User</td>\n",
       "    </tr>\n",
       "    <tr>\n",
       "      <td>10665</td>\n",
       "      <td>12109</td>\n",
       "      <td>Sokode</td>\n",
       "      <td>Sokode</td>\n",
       "      <td>Togo</td>\n",
       "      <td>\\N</td>\n",
       "      <td>DXSK</td>\n",
       "      <td>8.994444</td>\n",
       "      <td>1.152778</td>\n",
       "      <td>1257</td>\n",
       "      <td>0</td>\n",
       "      <td>U</td>\n",
       "      <td>\\N</td>\n",
       "      <td>unknown</td>\n",
       "      <td>User</td>\n",
       "    </tr>\n",
       "    <tr>\n",
       "      <td>10666</td>\n",
       "      <td>12110</td>\n",
       "      <td>Sansanne</td>\n",
       "      <td>Mango</td>\n",
       "      <td>Togo</td>\n",
       "      <td>\\N</td>\n",
       "      <td>DXMG</td>\n",
       "      <td>10.372222</td>\n",
       "      <td>0.470833</td>\n",
       "      <td>460</td>\n",
       "      <td>0</td>\n",
       "      <td>U</td>\n",
       "      <td>\\N</td>\n",
       "      <td>unknown</td>\n",
       "      <td>User</td>\n",
       "    </tr>\n",
       "  </tbody>\n",
       "</table>\n",
       "<p>10617 rows × 14 columns</p>\n",
       "</div>"
      ],
      "text/plain": [
       "           1                               Goroka Airport        Goroka  \\\n",
       "0          2                               Madang Airport        Madang   \n",
       "1          3                 Mount Hagen Kagamuga Airport   Mount Hagen   \n",
       "2          4                               Nadzab Airport        Nadzab   \n",
       "3          5  Port Moresby Jacksons International Airport  Port Moresby   \n",
       "4          6                  Wewak International Airport         Wewak   \n",
       "...      ...                                          ...           ...   \n",
       "10662  12106                                        Kandi         Kandi   \n",
       "10663  12107                          Luxmore Hut Helipad       Te Anau   \n",
       "10664  12108                               Tasman Glacier      Mt. Cook   \n",
       "10665  12109                                       Sokode        Sokode   \n",
       "10666  12110                                     Sansanne         Mango   \n",
       "\n",
       "       Papua New Guinea  GKA  AYGA  -6.081689834590001  145.391998291  5282  \\\n",
       "0      Papua New Guinea  MAG  AYMD           -5.207080     145.789001    20   \n",
       "1      Papua New Guinea  HGU  AYMH           -5.826790     144.296005  5388   \n",
       "2      Papua New Guinea  LAE  AYNZ           -6.569803     146.725977   239   \n",
       "3      Papua New Guinea  POM  AYPY           -9.443380     147.220001   146   \n",
       "4      Papua New Guinea  WWK  AYWK           -3.583830     143.669006    19   \n",
       "...                 ...  ...   ...                 ...            ...   ...   \n",
       "10662             Benin  KDC  DBBK           11.145056       2.940444   958   \n",
       "10663       New Zealand   \\N    \\N          -45.385240     167.619250  3446   \n",
       "10664       New Zealand   \\N    \\N          -43.569905     170.235678  4070   \n",
       "10665              Togo   \\N  DXSK            8.994444       1.152778  1257   \n",
       "10666              Togo   \\N  DXMG           10.372222       0.470833   460   \n",
       "\n",
       "       10  U  Pacific/Port_Moresby  airport  OurAirports  \n",
       "0      10  U  Pacific/Port_Moresby  airport  OurAirports  \n",
       "1      10  U  Pacific/Port_Moresby  airport  OurAirports  \n",
       "2      10  U  Pacific/Port_Moresby  airport  OurAirports  \n",
       "3      10  U  Pacific/Port_Moresby  airport  OurAirports  \n",
       "4      10  U  Pacific/Port_Moresby  airport  OurAirports  \n",
       "...    .. ..                   ...      ...          ...  \n",
       "10662   1  U                    \\N  unknown         User  \n",
       "10663  13  Z                    \\N  unknown         User  \n",
       "10664  12  Z                    \\N  unknown         User  \n",
       "10665   0  U                    \\N  unknown         User  \n",
       "10666   0  U                    \\N  unknown         User  \n",
       "\n",
       "[10617 rows x 14 columns]"
      ]
     },
     "execution_count": 6,
     "metadata": {},
     "output_type": "execute_result"
    }
   ],
   "source": [
    "null_cols = data.isnull().sum()\n",
    "drop_cols = list(null_cols[null_cols > 35000].index)\n",
    "data_clean1 = data.drop(drop_cols, axis=1)\n",
    "data.dropna()"
   ]
  },
  {
   "cell_type": "markdown",
   "metadata": {},
   "source": [
    "# Trasposing the matrix to rename the columns without loosing elements"
   ]
  },
  {
   "cell_type": "code",
   "execution_count": 5,
   "metadata": {},
   "outputs": [],
   "source": [
    "data=data.reset_index().T.reset_index().T"
   ]
  },
  {
   "cell_type": "code",
   "execution_count": 6,
   "metadata": {},
   "outputs": [],
   "source": [
    "data_coord=data.rename(columns={7:\"latitude\",8:\"longitude\"})"
   ]
  },
  {
   "cell_type": "markdown",
   "metadata": {},
   "source": [
    "# Creating a list of names as long as the list of coordinates"
   ]
  },
  {
   "cell_type": "code",
   "execution_count": 7,
   "metadata": {},
   "outputs": [],
   "source": [
    "facilities=[]\n",
    "for e in data_coord[\"latitude\"]:\n",
    "    facilities.append(\"airport\")"
   ]
  },
  {
   "cell_type": "markdown",
   "metadata": {},
   "source": [
    "I have some str-types that I must turn into float"
   ]
  },
  {
   "cell_type": "code",
   "execution_count": 8,
   "metadata": {},
   "outputs": [],
   "source": [
    "def type_conversor(x):\n",
    "    for e in data_coord[x]:\n",
    "        e=float(e)\n",
    "            "
   ]
  },
  {
   "cell_type": "code",
   "execution_count": 9,
   "metadata": {},
   "outputs": [],
   "source": [
    "type_conversor(\"latitude\")\n",
    "type_conversor(\"longitude\")"
   ]
  },
  {
   "cell_type": "code",
   "execution_count": null,
   "metadata": {},
   "outputs": [],
   "source": []
  },
  {
   "cell_type": "markdown",
   "metadata": {},
   "source": [
    "# I'll call this list from main.ipynb to find the closest airport to each office"
   ]
  },
  {
   "cell_type": "code",
   "execution_count": 10,
   "metadata": {},
   "outputs": [
    {
     "name": "stdout",
     "output_type": "stream",
     "text": [
      "Stored 'facilities' (list)\n",
      "Stored 'lat_airport' (list)\n",
      "Stored 'lon_airport' (list)\n"
     ]
    }
   ],
   "source": [
    "facilities\n",
    "%store facilities\n",
    "lat_airport=list(data_coord[\"latitude\"])\n",
    "%store lat_airport\n",
    "lon_airport=list(data_coord[\"longitude\"])\n",
    "%store lon_airport"
   ]
  },
  {
   "cell_type": "code",
   "execution_count": null,
   "metadata": {},
   "outputs": [],
   "source": []
  }
 ],
 "metadata": {
  "kernelspec": {
   "display_name": "Python 3",
   "language": "python",
   "name": "python3"
  },
  "language_info": {
   "codemirror_mode": {
    "name": "ipython",
    "version": 3
   },
   "file_extension": ".py",
   "mimetype": "text/x-python",
   "name": "python",
   "nbconvert_exporter": "python",
   "pygments_lexer": "ipython3",
   "version": "3.7.4"
  }
 },
 "nbformat": 4,
 "nbformat_minor": 4
}
