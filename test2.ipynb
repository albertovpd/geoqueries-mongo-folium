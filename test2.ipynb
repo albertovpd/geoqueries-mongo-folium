{
 "cells": [
  {
   "cell_type": "code",
   "execution_count": 42,
   "metadata": {},
   "outputs": [],
   "source": [
    "from pymongo import MongoClient\n",
    "import pandas as pd\n",
    "import json as js\n",
    "import folium"
   ]
  },
  {
   "cell_type": "code",
   "execution_count": null,
   "metadata": {},
   "outputs": [],
   "source": []
  },
  {
   "cell_type": "code",
   "execution_count": 43,
   "metadata": {},
   "outputs": [],
   "source": [
    "# It is a problem to have many companies with multiple office locations. I (we) solved that\n",
    "# using \"unwind\", and \"match\" to link the whole query\n",
    "\n",
    "def connectCollection(database, collection):\n",
    "    client = MongoClient()\n",
    "    db = client[database]\n",
    "    coll = db[collection]\n",
    "    return db, coll\n",
    "\n",
    "db, coll = connectCollection('companies','companies')\n",
    "pipeline = [\n",
    "    { \"$unwind\": \"$offices\"},\n",
    "    {\"$match\":{ \"$and\": [ {\"number_of_employees\":{\"$gt\":100} }, {\"founded_year\":{\"$gt\":2000}},{\"funding_rounds.raised_amount\":{\"$gt\":1000000}}] }}\n",
    "    \n",
    " ]\n",
    "results = list(coll.aggregate(pipeline))"
   ]
  },
  {
   "cell_type": "code",
   "execution_count": null,
   "metadata": {},
   "outputs": [],
   "source": []
  },
  {
   "cell_type": "code",
   "execution_count": 102,
   "metadata": {},
   "outputs": [],
   "source": [
    "location_raw=[]\n",
    "name=[]\n",
    "lon=[]\n",
    "lat=[]\n",
    "\n",
    "for element in results:\n",
    "    for coord in element[\"offices\"].items():\n",
    "        name.append(element[\"name\"])\n",
    "        #print(coord)\n",
    "        \n",
    "        if coord[0]==\"longitude\":\n",
    "            lon.append(coord[1])\n",
    "        elif coord[0]==\"latitude\":\n",
    "            lat.append(coord[1])\n",
    "\n",
    "for x in zip(lon,lat):\n",
    "    location_raw.append(list(x))"
   ]
  },
  {
   "cell_type": "code",
   "execution_count": 103,
   "metadata": {},
   "outputs": [
    {
     "name": "stdout",
     "output_type": "stream",
     "text": [
      "[[-122.151801, 37.41605], [-6.267494, 53.344104], [-73.9792469, 40.7557162], [-122.4169244, 37.7768052], [-77.245195, 38.926172], [-73.996876, 40.724604], [-118.380954, 34.0263021], [None, None], [None, None], [-83.167884, 42.557958], [-118.1327468, 34.1494713], [None, None], [None, None], [None, None], [None, None], [-111.938739, 33.429859], [-122.0899512, 37.4233896], [-73.995625, 40.726155], [-122.07948, 37.392936], [None, None], [None, None], [None, None], [-122.402195, 37.786183], [None, None], [None, None], [None, None], [None, None], [-122.206893, 37.484619], [-122.39071, 37.779507], [-122.079017, 37.393679], [None, None], [None, None], [None, None], [None, None], [-122.073635, 37.423258], [-122.143701, 37.425801], [-122.325248, 37.561877], [-122.178557, 37.479952], [-80.004195, 40.437985], [-121.8731805, 37.6637279], [-77.3592746, 38.9590083], [-0.1394759, 51.5170385], [-97.717667, 30.407545], [-122.4186, 37.7753], [-121.935688, 37.288974], [-71.086596, 42.362993], [None, None], [None, None], [None, None], [None, None], [None, None], [None, None], [4.5464658, 51.9122575], [None, None], [-122.0727749, 37.3927975], [None, None], [-122.4084994, 37.7909427], [None, None], [-73.971655, 40.751816], [None, None], [None, None], [None, None], [18.0580765, 59.3369746], [None, None], [None, None], [None, None], [-79.5983626, 43.6587599], [None, None], [-121.948399, 37.32052], [-122.406676, 37.766909], [-72.188584, 41.53155], [-79.338246, 43.7192415], [None, None], [None, None], [None, None], [-122.286493, 37.836957], [-94.597896, 39.044694], [-73.992463, 40.748901], [-122.401406, 37.78866], [-81.879069, 26.580095], [-79.3953743, 43.6474554], [-0.1229212, 51.5114403], [11.5582609, 48.1635092], [2.3797825, 48.8506065], [121.4770384, 31.222622], [-78.815635, 35.854483], [-122.084171, 37.386665], [None, None], [None, None], [None, None], [-118.456806, 34.031276], [None, None], [-122.156579, 37.446668], [None, None], [None, None], [None, None], [-73.9912208, 40.7413559], [None, None], [None, None], [-122.347533, 47.620716], [-122.3293984, 47.6011125], [-122.285714, 37.557637], [-122.40414, 37.792968], [-122.394354, 37.782809], [-122.3331466, 47.5984767], [-122.421344, 37.744274], [-71.52679, 42.288291], [None, None], [-95.712891, 37.09024], [-73.960717, 40.621591], [None, None], [None, None], [-122.158804, 37.43938], [-122.245087, 37.530893], [-83.733276, 42.277416], [-121.97895, 37.399208], [None, None], [None, None], [-122.390945, 37.78274], [-122.255907, 37.520592], [2.3283853, 48.8780596], [-73.9918126, 40.742459], [-97.731249, 30.378658], [-80.916109, 35.139441], [-111.924855, 33.464377], [-84.03398, 34.105226], [-71.118487, 42.375392], [2.3304161, 48.8747064], [None, None], [None, None], [None, None], [None, None], [-87.649878, 41.907647], [-73.4168779, 41.1010914], [None, None], [-71.137784, 42.524527], [-73.983268, 40.694731], [-122.245323, 37.496737], [-122.300246, 37.553743], [-122.285714, 37.557637], [-122.404234, 37.765158], [None, None], [None, None], [None, None], [None, None], [None, None], [None, None], [None, None], [None, None], [None, None], [9.98793, 53.555554], [None, None], [-97.709809, 30.384453], [None, None], [13.3941489, 52.5131826], [-74.006196, 40.725883], [-122.3931128, 37.7759675], [-82.3230981, 29.6502461], [None, None], [None, None], [-121.987661, 37.386774], [-122.394067, 37.783046], [None, None], [None, None], [None, None], [-74.002662, 40.717248], [-122.397759, 37.787183], [-122.395184, 37.789268], [-117.8587, 33.676444], [18.064488, 59.332788], [None, None], [-121.921532, 37.694202], [-122.328401, 37.536044], [None, None], [-73.983626, 40.743808], [None, None], [-122.2709868, 37.5596277], [-122.1345417, 37.399481], [-121.971487, 37.381034], [None, None], [-122.369676, 37.592584], [None, None], [None, None], [None, None], [-111.780243, 40.358294], [-72.5254318, 41.278528], [-73.986243, 40.745559], [-87.634173, 41.879979], [-118.243425, 34.052187], [-0.083726, 51.5254], [13.38861, 52.4897], [-122.049143, 37.398022], [-122.392839, 37.76785], [-79.407214, 43.746327], [-122.500111, 37.868002], [-2.968111, 56.461428], [-105.276843, 40.010492], [-73.9954585, 40.7384997], [-122.301385, 37.5583], [-80.296794, 25.782058], [-73.983754, 40.761855], [-118.153136, 34.146436], [-0.0814873, 51.4999065], [-122.403256, 37.78236], [None, None], [-122.4000965, 37.7938969], [None, None], [None, None], [None, None], [None, None], [-73.998662, 40.7185614], [None, None], [None, None], [None, None], [None, None], [None, None], [-122.419204, 37.775196], [-58.3708904, -34.5967236], [-71.5174869, 42.2261823], [-0.0952197, 51.5205095], [-122.4041764, 37.7819286], [None, None], [-46.6816579, -23.5606195], [-74.0632101, 4.7595921], [-56.1819444, -34.8836111], [None, None], [-58.3840599, -34.6776448], [-59.1340915, -37.3281072], [-58.9871056, -27.4533887], [-65.3024825, -26.8007888], [-62.2690974, -38.7211371], [None, None], [-122.1709208, 37.4465496], [103.851942, 1.284082], [None, None], [None, None], [None, None], [None, None], [None, None], [-71.082523, 42.348691], [None, None], [13.4478557, 52.4981582], [None, None], [-118.343791, 34.085749], [-122.424975, 37.629393], [-122.019405, 37.407445], [None, None], [None, None], [None, None], [None, None], [6.121511, 49.607295], [None, None], [None, None], [None, None], [None, None], [None, None], [None, None], [-122.0785314, 37.3944561], [None, None], [-118.3952969, 33.9192583], [-71.0793952, 42.3674989], [-122.111711, 37.371908], [-122.0323525, 37.4049731], [None, None], [-122.284001, 37.560747], [-74.0078134, 40.7310476], [-122.1797053, 37.4520239], [-122.080843, 37.390918], [-0.919424, 50.8472228], [None, None], [None, None], [-105.242005, 40.010295], [None, None], [None, None], [None, None], [4.8688096, 52.3380977], [-0.614003, 51.6666189], [None, None], [None, None], [None, None], [-111.8871813, 33.2871748], [-122.392725, 37.7886717], [None, None], [None, None], [None, None], [None, None], [-71.058185, 42.356812], [None, None], [None, None], [None, None], [None, None], [None, None], [None, None], [-122.402021, 37.764169], [-122.246867, 37.506272], [7.853767, 47.997186], [None, None], [None, None], [72.8367776, 18.9978594], [4.4574464, 51.9047086], [None, None], [-71.099692, 42.36236], [12.568116, 55.676294], [-122.403175, 37.797435], [-122.2997532, 37.5552776], [None, None], [-122.422113, 37.630551], [77.0789194, 28.4404308], [19.059078, 47.490346], [None, None], [None, None], [-0.1198244, 51.5112139], [-122.4015807, 37.7705096], [None, None], [None, None], [None, None], [None, None], [None, None], [None, None], [None, None], [None, None], [None, None], [None, None], [None, None], [None, None], [-118.387511, 33.902696], [None, None], [116.395833, 39.905556], [-122.080843, 37.390918], [-74.0353787, 40.7481039], [None, None], [None, None], [None, None], [-122.4007846, 37.7899027], [-122.4179223, 37.776246], [None, None], [-118.4965479, 34.0152942], [None, None], [-118.49567, 34.012985], [-97.9390133, 30.3096936], [-119.7445783, 34.4405218], [-74.000827, 40.730763], [116.395833, 39.905556], [-122.080843, 37.390918], [-74.0353787, 40.7481039], [None, None], [None, None], [None, None], [-122.4007846, 37.7899027], [-122.4179223, 37.776246], [None, None], [-118.4965479, 34.0152942], [None, None], [-118.49567, 34.012985], [-97.9390133, 30.3096936], [-119.7445783, 34.4405218], [-74.000827, 40.730763], [-121.9486567, 37.4155698], [-73.9916486, 40.749577], [None, None], [-87.643622, 41.8965162], [None, None], [None, None], [None, None], [-122.161287, 37.444098], [-122.3497546, 37.5783417], [None, None], [None, None], [None, None], [None, None], [None, None], [-121.93393, 37.391198], [-87.6371628, 41.8961282], [None, None], [-87.6355433, 41.889853], [-73.9920174, 40.7408753], [-96.790514, 32.7819239], [-118.4735062, 34.0312388], [None, None], [12.4972454, 41.8663418], [-73.9763479, 40.756799], [-122.9153695, 49.2599284], [-122.493561, 37.862592], [4.7694829, 44.6672372], [-121.976473, 37.406217], [-122.0808426, 37.3909185], [None, None], [-74.012822, 40.705439], [None, None], [None, None], [-73.968441, 40.760955], [None, None], [None, None], [4.4609658, 51.0551923], [None, None], [None, None], [None, None], [None, None], [None, None], [None, None], [-121.9210492, 37.4102801], [None, None], [None, None], [-122.0216271, 37.4123706], [-122.677001, 45.519179], [-122.2067269, 37.4858629], [None, None], [-77.340436, 38.946532], [-122.402844, 37.791402], [-0.2617681, 51.4918451], [None, None], [34.8388443, 32.1115098], [-84.3675617, 33.7812614], [2.2200007, 48.8980441], [4.3631044, 43.837967], [None, None], [4.3358459, 50.7968479], [None, None], [-3.7033074, 40.4142986], [None, None], [103.8295, 1.307505], [None, None], [None, None], [None, None], [None, None], [None, None], [-105.124465, 40.138979], [-121.915594, 37.367838], [None, None], [-121.966395, 37.769205], [-1.4629301, 53.3800107], [-111.974507, 33.357125], [None, None], [-122.334732, 47.544341], [-71.4634803, 42.9959408], [None, None], [None, None], [12.530107, 55.6924605], [None, None], [-122.68038, 45.5309644], [None, None], [None, None], [-122.0595623, 37.3973018], [-122.3399782, 47.6103008], [-122.257185, 37.524851], [None, None], [-0.0178689, 51.5003204], [-123.0952381, 49.2851733], [-46.6388182, -23.5489433], [-71.092285, 42.365867], [None, None], [None, None], [None, None], [None, None], [None, None], [-95.471515, 29.747497], [-90.1633006, 32.416174], [-84.17173, 34.057519], [2.2983373, 48.8752305], [-122.398126, 37.791128], [-77.3563279, 38.9594124], [-121.9382415, 37.4757796], [None, None], [None, None], [None, None], [None, None], [None, None], [-3.696277, 40.4158236], [None, None], [None, None], [None, None], [-122.404113, 37.789471], [None, None], [None, None], [None, None], [None, None], [None, None], [None, None], [None, None], [None, None], [None, None], [None, None], [None, None], [-77.367981, 38.872668], [-76.581864, 39.281734], [-121.900722, 37.69249], [None, None], [None, None], [None, None], [None, None], [-122.4041075, 37.7871306], [None, None], [None, None], [None, None], [-97.745212, 30.270339], [-96.714066, 32.974194], [None, None], [None, None], [None, None], [None, None], [None, None], [None, None], [None, None], [None, None], [None, None], [None, None], [-0.1424094, 51.5209358], [None, None], [None, None], [9.9762519, 53.5973055], [None, None], [None, None], [None, None], [34.8824253, 32.1980455], [-58.4541925, -34.5631882], [-73.985647, 40.754937], [None, None], [None, None], [None, None], [None, None], [-77.028561, 38.897976], [-123.1220081, 49.2864769], [-0.5813902, 51.2357089], [None, None], [None, None], [None, None], [-3.2151393, 55.9485591], [None, None], [2.3210737, 48.8745951], [None, None], [None, None], [None, None], [None, None], [None, None], [None, None], [None, None], [None, None], [None, None], [-75.1069232, 40.1923295], [None, None]]\n"
     ]
    }
   ],
   "source": [
    "print((location_raw))"
   ]
  },
  {
   "cell_type": "code",
   "execution_count": 54,
   "metadata": {},
   "outputs": [
    {
     "ename": "TypeError",
     "evalue": "string indices must be integers",
     "output_type": "error",
     "traceback": [
      "\u001b[0;31m---------------------------------------------------------------------------\u001b[0m",
      "\u001b[0;31mTypeError\u001b[0m                                 Traceback (most recent call last)",
      "\u001b[0;32m<ipython-input-54-4e300dd04659>\u001b[0m in \u001b[0;36m<module>\u001b[0;34m\u001b[0m\n\u001b[1;32m      4\u001b[0m \u001b[0;32mfor\u001b[0m \u001b[0mx\u001b[0m \u001b[0;32min\u001b[0m \u001b[0mdata_0\u001b[0m\u001b[0;34m:\u001b[0m\u001b[0;34m\u001b[0m\u001b[0;34m\u001b[0m\u001b[0m\n\u001b[1;32m      5\u001b[0m     \u001b[0;31m#print(x[:10])\u001b[0m\u001b[0;34m\u001b[0m\u001b[0;34m\u001b[0m\u001b[0;34m\u001b[0m\u001b[0m\n\u001b[0;32m----> 6\u001b[0;31m     \u001b[0;32mfor\u001b[0m \u001b[0my\u001b[0m \u001b[0;32min\u001b[0m \u001b[0mx\u001b[0m\u001b[0;34m[\u001b[0m\u001b[0;34m\"offices\"\u001b[0m\u001b[0;34m]\u001b[0m\u001b[0;34m:\u001b[0m\u001b[0;34m\u001b[0m\u001b[0;34m\u001b[0m\u001b[0m\n\u001b[0m\u001b[1;32m      7\u001b[0m         \u001b[0mprint\u001b[0m\u001b[0;34m(\u001b[0m\u001b[0my\u001b[0m\u001b[0;34m)\u001b[0m\u001b[0;34m\u001b[0m\u001b[0;34m\u001b[0m\u001b[0m\n\u001b[1;32m      8\u001b[0m         \u001b[0;31m#print(y[\"longitude\"])\u001b[0m\u001b[0;34m\u001b[0m\u001b[0;34m\u001b[0m\u001b[0;34m\u001b[0m\u001b[0m\n",
      "\u001b[0;31mTypeError\u001b[0m: string indices must be integers"
     ]
    }
   ],
   "source": [
    "    for y in x[\"offices\"]:\n",
    "        print(y)\n",
    "        #print(y[\"longitude\"])\n",
    "        '''\n",
    "        longitude=y[\"longitude\"]\n",
    "        latitude=y[\"latitude\"]\n",
    "        loc = {\n",
    "            'type':'Point',\n",
    "            'coordinates':[longitude, latitude]\n",
    "        }\n",
    "        location_list.append(loc)'''"
   ]
  },
  {
   "cell_type": "code",
   "execution_count": 34,
   "metadata": {},
   "outputs": [
    {
     "ename": "TypeError",
     "evalue": "string indices must be integers",
     "output_type": "error",
     "traceback": [
      "\u001b[0;31m---------------------------------------------------------------------------\u001b[0m",
      "\u001b[0;31mTypeError\u001b[0m                                 Traceback (most recent call last)",
      "\u001b[0;32m<ipython-input-34-baf2d845f826>\u001b[0m in \u001b[0;36m<module>\u001b[0;34m\u001b[0m\n\u001b[1;32m      5\u001b[0m         \u001b[0;31m#print(coords)\u001b[0m\u001b[0;34m\u001b[0m\u001b[0;34m\u001b[0m\u001b[0;34m\u001b[0m\u001b[0m\n\u001b[1;32m      6\u001b[0m         \u001b[0mname\u001b[0m\u001b[0;34m.\u001b[0m\u001b[0mappend\u001b[0m\u001b[0;34m(\u001b[0m\u001b[0melement\u001b[0m\u001b[0;34m[\u001b[0m\u001b[0;34m\"name\"\u001b[0m\u001b[0;34m]\u001b[0m\u001b[0;34m)\u001b[0m\u001b[0;34m\u001b[0m\u001b[0;34m\u001b[0m\u001b[0m\n\u001b[0;32m----> 7\u001b[0;31m         \u001b[0mlocation_raw\u001b[0m\u001b[0;34m.\u001b[0m\u001b[0mappend\u001b[0m\u001b[0;34m(\u001b[0m\u001b[0;34m[\u001b[0m\u001b[0mcoords\u001b[0m\u001b[0;34m[\u001b[0m\u001b[0;34m\"longitude\"\u001b[0m\u001b[0;34m]\u001b[0m\u001b[0;34m]\u001b[0m\u001b[0;34m)\u001b[0m\u001b[0;34m\u001b[0m\u001b[0;34m\u001b[0m\u001b[0m\n\u001b[0m\u001b[1;32m      8\u001b[0m \u001b[0;31m#print(location_raw)'''\u001b[0m\u001b[0;34m\u001b[0m\u001b[0;34m\u001b[0m\u001b[0;34m\u001b[0m\u001b[0m\n",
      "\u001b[0;31mTypeError\u001b[0m: string indices must be integers"
     ]
    }
   ],
   "source": [
    "        location_raw.append([coords[\"longitude\"],coords[\"latitude\"]])\n",
    "#print(location_raw)'''"
   ]
  },
  {
   "cell_type": "code",
   "execution_count": 18,
   "metadata": {},
   "outputs": [],
   "source": []
  },
  {
   "cell_type": "code",
   "execution_count": 18,
   "metadata": {},
   "outputs": [],
   "source": []
  },
  {
   "cell_type": "code",
   "execution_count": 18,
   "metadata": {},
   "outputs": [],
   "source": []
  },
  {
   "cell_type": "code",
   "execution_count": 18,
   "metadata": {},
   "outputs": [],
   "source": []
  },
  {
   "cell_type": "code",
   "execution_count": 18,
   "metadata": {},
   "outputs": [],
   "source": []
  },
  {
   "cell_type": "code",
   "execution_count": 47,
   "metadata": {},
   "outputs": [],
   "source": [
    "print(len(name),len(location_list))"
   ]
  },
  {
   "cell_type": "code",
   "execution_count": 50,
   "metadata": {},
   "outputs": [],
   "source": [
    "l={\"name\":name, \"coords\":location_raw}\n",
    "data_locations=pd.DataFrame(data=l)"
   ]
  },
  {
   "cell_type": "code",
   "execution_count": 51,
   "metadata": {},
   "outputs": [
    {
     "data": {
      "text/html": [
       "<div>\n",
       "<style scoped>\n",
       "    .dataframe tbody tr th:only-of-type {\n",
       "        vertical-align: middle;\n",
       "    }\n",
       "\n",
       "    .dataframe tbody tr th {\n",
       "        vertical-align: top;\n",
       "    }\n",
       "\n",
       "    .dataframe thead th {\n",
       "        text-align: right;\n",
       "    }\n",
       "</style>\n",
       "<table border=\"1\" class=\"dataframe\">\n",
       "  <thead>\n",
       "    <tr style=\"text-align: right;\">\n",
       "      <th></th>\n",
       "      <th>name</th>\n",
       "      <th>coords</th>\n",
       "    </tr>\n",
       "  </thead>\n",
       "  <tbody>\n",
       "    <tr>\n",
       "      <td>0</td>\n",
       "      <td>Facebook</td>\n",
       "      <td>[None, None]</td>\n",
       "    </tr>\n",
       "    <tr>\n",
       "      <td>1</td>\n",
       "      <td>Facebook</td>\n",
       "      <td>[None, None]</td>\n",
       "    </tr>\n",
       "    <tr>\n",
       "      <td>2</td>\n",
       "      <td>Facebook</td>\n",
       "      <td>[None, None]</td>\n",
       "    </tr>\n",
       "    <tr>\n",
       "      <td>3</td>\n",
       "      <td>Twitter</td>\n",
       "      <td>[None, None]</td>\n",
       "    </tr>\n",
       "    <tr>\n",
       "      <td>4</td>\n",
       "      <td>AddThis</td>\n",
       "      <td>[None, None]</td>\n",
       "    </tr>\n",
       "    <tr>\n",
       "      <td>...</td>\n",
       "      <td>...</td>\n",
       "      <td>...</td>\n",
       "    </tr>\n",
       "    <tr>\n",
       "      <td>535</td>\n",
       "      <td>FleetMatics</td>\n",
       "      <td>[None, None]</td>\n",
       "    </tr>\n",
       "    <tr>\n",
       "      <td>536</td>\n",
       "      <td>FleetMatics</td>\n",
       "      <td>[None, None]</td>\n",
       "    </tr>\n",
       "    <tr>\n",
       "      <td>537</td>\n",
       "      <td>800APP</td>\n",
       "      <td>[None, None]</td>\n",
       "    </tr>\n",
       "    <tr>\n",
       "      <td>538</td>\n",
       "      <td>InfoLogix</td>\n",
       "      <td>[None, None]</td>\n",
       "    </tr>\n",
       "    <tr>\n",
       "      <td>539</td>\n",
       "      <td>OfficialVirtualDJ</td>\n",
       "      <td>[None, None]</td>\n",
       "    </tr>\n",
       "  </tbody>\n",
       "</table>\n",
       "<p>540 rows × 2 columns</p>\n",
       "</div>"
      ],
      "text/plain": [
       "                  name        coords\n",
       "0             Facebook  [None, None]\n",
       "1             Facebook  [None, None]\n",
       "2             Facebook  [None, None]\n",
       "3              Twitter  [None, None]\n",
       "4              AddThis  [None, None]\n",
       "..                 ...           ...\n",
       "535        FleetMatics  [None, None]\n",
       "536        FleetMatics  [None, None]\n",
       "537             800APP  [None, None]\n",
       "538          InfoLogix  [None, None]\n",
       "539  OfficialVirtualDJ  [None, None]\n",
       "\n",
       "[540 rows x 2 columns]"
      ]
     },
     "execution_count": 51,
     "metadata": {},
     "output_type": "execute_result"
    }
   ],
   "source": [
    "data_locations"
   ]
  },
  {
   "cell_type": "code",
   "execution_count": 55,
   "metadata": {},
   "outputs": [
    {
     "ename": "TypeError",
     "evalue": "list indices must be integers or slices, not str",
     "output_type": "error",
     "traceback": [
      "\u001b[0;31m---------------------------------------------------------------------------\u001b[0m",
      "\u001b[0;31mTypeError\u001b[0m                                 Traceback (most recent call last)",
      "\u001b[0;32m<ipython-input-55-f83b3f6988e6>\u001b[0m in \u001b[0;36m<module>\u001b[0;34m\u001b[0m\n\u001b[1;32m      1\u001b[0m \u001b[0mworld_map\u001b[0m\u001b[0;34m=\u001b[0m\u001b[0mfolium\u001b[0m\u001b[0;34m.\u001b[0m\u001b[0mMap\u001b[0m\u001b[0;34m(\u001b[0m\u001b[0mlocation\u001b[0m\u001b[0;34m=\u001b[0m\u001b[0;34m[\u001b[0m\u001b[0;36m52.5200\u001b[0m\u001b[0;34m,\u001b[0m\u001b[0;36m13.4050\u001b[0m\u001b[0;34m]\u001b[0m\u001b[0;34m,\u001b[0m \u001b[0mzoom_start\u001b[0m\u001b[0;34m=\u001b[0m\u001b[0;36m12\u001b[0m\u001b[0;34m)\u001b[0m\u001b[0;34m\u001b[0m\u001b[0;34m\u001b[0m\u001b[0m\n\u001b[0;32m----> 2\u001b[0;31m \u001b[0;32mfor\u001b[0m \u001b[0mplace\u001b[0m \u001b[0;32min\u001b[0m \u001b[0mlocation_raw\u001b[0m\u001b[0;34m[\u001b[0m\u001b[0;34m\"coords\"\u001b[0m\u001b[0;34m]\u001b[0m\u001b[0;34m:\u001b[0m\u001b[0;34m\u001b[0m\u001b[0;34m\u001b[0m\u001b[0m\n\u001b[0m\u001b[1;32m      3\u001b[0m     \u001b[0mprint\u001b[0m\u001b[0;34m(\u001b[0m\u001b[0mplace\u001b[0m\u001b[0;34m)\u001b[0m\u001b[0;34m\u001b[0m\u001b[0;34m\u001b[0m\u001b[0m\n\u001b[1;32m      4\u001b[0m \u001b[0;34m\u001b[0m\u001b[0m\n",
      "\u001b[0;31mTypeError\u001b[0m: list indices must be integers or slices, not str"
     ]
    }
   ],
   "source": [
    "world_map=folium.Map(location=[52.5200,13.4050], zoom_start=12)\n",
    "for place in location_raw[\"coords\"]:\n",
    "    print(place)\n",
    "    "
   ]
  },
  {
   "cell_type": "code",
   "execution_count": 34,
   "metadata": {},
   "outputs": [],
   "source": [
    "l={\"name\":name, \"location\":location_list}\n",
    "data_locations=pd.DataFrame(data=l)"
   ]
  },
  {
   "cell_type": "code",
   "execution_count": 35,
   "metadata": {},
   "outputs": [
    {
     "data": {
      "text/html": [
       "<div>\n",
       "<style scoped>\n",
       "    .dataframe tbody tr th:only-of-type {\n",
       "        vertical-align: middle;\n",
       "    }\n",
       "\n",
       "    .dataframe tbody tr th {\n",
       "        vertical-align: top;\n",
       "    }\n",
       "\n",
       "    .dataframe thead th {\n",
       "        text-align: right;\n",
       "    }\n",
       "</style>\n",
       "<table border=\"1\" class=\"dataframe\">\n",
       "  <thead>\n",
       "    <tr style=\"text-align: right;\">\n",
       "      <th></th>\n",
       "      <th>name</th>\n",
       "      <th>location</th>\n",
       "    </tr>\n",
       "  </thead>\n",
       "  <tbody>\n",
       "    <tr>\n",
       "      <td>0</td>\n",
       "      <td>Facebook</td>\n",
       "      <td>{'type': 'Point', 'coordinates': [-122.151801,...</td>\n",
       "    </tr>\n",
       "    <tr>\n",
       "      <td>1</td>\n",
       "      <td>Facebook</td>\n",
       "      <td>{'type': 'Point', 'coordinates': [-6.267494, 5...</td>\n",
       "    </tr>\n",
       "    <tr>\n",
       "      <td>2</td>\n",
       "      <td>Facebook</td>\n",
       "      <td>{'type': 'Point', 'coordinates': [-73.9792469,...</td>\n",
       "    </tr>\n",
       "    <tr>\n",
       "      <td>3</td>\n",
       "      <td>Twitter</td>\n",
       "      <td>{'type': 'Point', 'coordinates': [-122.4169244...</td>\n",
       "    </tr>\n",
       "    <tr>\n",
       "      <td>4</td>\n",
       "      <td>AddThis</td>\n",
       "      <td>{'type': 'Point', 'coordinates': [-77.245195, ...</td>\n",
       "    </tr>\n",
       "    <tr>\n",
       "      <td>...</td>\n",
       "      <td>...</td>\n",
       "      <td>...</td>\n",
       "    </tr>\n",
       "    <tr>\n",
       "      <td>535</td>\n",
       "      <td>FleetMatics</td>\n",
       "      <td>{'type': 'Point', 'coordinates': [None, None]}</td>\n",
       "    </tr>\n",
       "    <tr>\n",
       "      <td>536</td>\n",
       "      <td>FleetMatics</td>\n",
       "      <td>{'type': 'Point', 'coordinates': [None, None]}</td>\n",
       "    </tr>\n",
       "    <tr>\n",
       "      <td>537</td>\n",
       "      <td>800APP</td>\n",
       "      <td>{'type': 'Point', 'coordinates': [None, None]}</td>\n",
       "    </tr>\n",
       "    <tr>\n",
       "      <td>538</td>\n",
       "      <td>InfoLogix</td>\n",
       "      <td>{'type': 'Point', 'coordinates': [-75.1069232,...</td>\n",
       "    </tr>\n",
       "    <tr>\n",
       "      <td>539</td>\n",
       "      <td>OfficialVirtualDJ</td>\n",
       "      <td>{'type': 'Point', 'coordinates': [None, None]}</td>\n",
       "    </tr>\n",
       "  </tbody>\n",
       "</table>\n",
       "<p>540 rows × 2 columns</p>\n",
       "</div>"
      ],
      "text/plain": [
       "                  name                                           location\n",
       "0             Facebook  {'type': 'Point', 'coordinates': [-122.151801,...\n",
       "1             Facebook  {'type': 'Point', 'coordinates': [-6.267494, 5...\n",
       "2             Facebook  {'type': 'Point', 'coordinates': [-73.9792469,...\n",
       "3              Twitter  {'type': 'Point', 'coordinates': [-122.4169244...\n",
       "4              AddThis  {'type': 'Point', 'coordinates': [-77.245195, ...\n",
       "..                 ...                                                ...\n",
       "535        FleetMatics     {'type': 'Point', 'coordinates': [None, None]}\n",
       "536        FleetMatics     {'type': 'Point', 'coordinates': [None, None]}\n",
       "537             800APP     {'type': 'Point', 'coordinates': [None, None]}\n",
       "538          InfoLogix  {'type': 'Point', 'coordinates': [-75.1069232,...\n",
       "539  OfficialVirtualDJ     {'type': 'Point', 'coordinates': [None, None]}\n",
       "\n",
       "[540 rows x 2 columns]"
      ]
     },
     "execution_count": 35,
     "metadata": {},
     "output_type": "execute_result"
    }
   ],
   "source": [
    "data_locations"
   ]
  },
  {
   "cell_type": "code",
   "execution_count": 43,
   "metadata": {},
   "outputs": [
    {
     "data": {
      "text/html": [
       "<div style=\"width:100%;\"><div style=\"position:relative;width:100%;height:0;padding-bottom:60%;\"><iframe src=\"data:text/html;charset=utf-8;base64,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\" style=\"position:absolute;width:100%;height:100%;left:0;top:0;border:none !important;\" allowfullscreen webkitallowfullscreen mozallowfullscreen></iframe></div></div>"
      ],
      "text/plain": [
       "<folium.folium.Map at 0x7fe52dec56d0>"
      ]
     },
     "execution_count": 43,
     "metadata": {},
     "output_type": "execute_result"
    }
   ],
   "source": [
    "world_map=folium.Map(location=[52.5200,13.4050], zoom_start=12)\n",
    "for company in data_locations:\n",
    "world_map"
   ]
  },
  {
   "cell_type": "code",
   "execution_count": 50,
   "metadata": {},
   "outputs": [],
   "source": []
  },
  {
   "cell_type": "code",
   "execution_count": 50,
   "metadata": {},
   "outputs": [],
   "source": [
    "#si quiero añadir información a la colección $set (para el geoindex)\n",
    "for place in rest:\n",
    "    value = {\"$set\": {'location':getLocation(place)}}\n",
    "    coll.update_one(place,value)"
   ]
  },
  {
   "cell_type": "code",
   "execution_count": 51,
   "metadata": {},
   "outputs": [],
   "source": [
    "# eliminar las antiguas coordenadas\n",
    "for place in rest:\n",
    "    value = {\"$unset\": {'offices.latitude':''}}\n",
    "    value = {\"$unset\": {'offices.longitude':''}}\n",
    "    coll.update_one(place,value)\n",
    "    # <collection>.update_one(<document>,<value>)"
   ]
  },
  {
   "cell_type": "code",
   "execution_count": 54,
   "metadata": {},
   "outputs": [
    {
     "data": {
      "text/plain": [
       "'\\nprefered_city = coll.find(\\n    {\"location\":\\n     {\"$near\":\\n      {\"$geometry\":\\n       {\"type\":\"Point\",\\n        \"coordinates\":[-73.9712,40.7831]\\n       },\\n       \"$maxDistance\":10000\\n      }\\n     }\\n    }\\n)\\nprefered_city=list(prefered_city)\\n'"
      ]
     },
     "execution_count": 54,
     "metadata": {},
     "output_type": "execute_result"
    }
   ],
   "source": [
    "'''\n",
    "prefered_city = coll.find(\n",
    "    {\"location\":\n",
    "     {\"$near\":\n",
    "      {\"$geometry\":\n",
    "       {\"type\":\"Point\",\n",
    "        \"coordinates\":[-73.9712,40.7831]\n",
    "       },\n",
    "       \"$maxDistance\":10000\n",
    "      }\n",
    "     }\n",
    "    }\n",
    ")\n",
    "prefered_city=list(prefered_city)\n",
    "'''"
   ]
  },
  {
   "cell_type": "code",
   "execution_count": 58,
   "metadata": {},
   "outputs": [
    {
     "data": {
      "text/plain": [
       "\"\\nfor wendy in manhattanWendys:\\n    folium.Marker(wendy['location']['coordinates'][::-1],\\n                    radius=2,\\n                    icon=folium.Icon(icon='cloud',color='red'), \\n                   ).add_to(map_city)\\n    \\nfor wendy in manhattanWendys[:5]:\\n    folium.Marker(wendy['location']['coordinates'][::-1],\\n                    radius=2,\\n                    icon=folium.Icon(icon='cloud',color='blue'), \\n                   ).add_to(map_city)\\n\""
      ]
     },
     "execution_count": 58,
     "metadata": {},
     "output_type": "execute_result"
    }
   ],
   "source": [
    "map_city=folium.Map(location=[40.7221,-73.9712], zoom_start=12)\n",
    "map_city\n",
    "'''\n",
    "for wendy in manhattanWendys:\n",
    "    folium.Marker(wendy['location']['coordinates'][::-1],\n",
    "                    radius=2,\n",
    "                    icon=folium.Icon(icon='cloud',color='red'), \n",
    "                   ).add_to(map_city)\n",
    "    \n",
    "for wendy in manhattanWendys[:5]:\n",
    "    folium.Marker(wendy['location']['coordinates'][::-1],\n",
    "                    radius=2,\n",
    "                    icon=folium.Icon(icon='cloud',color='blue'), \n",
    "                   ).add_to(map_city)\n",
    "'''"
   ]
  },
  {
   "cell_type": "code",
   "execution_count": null,
   "metadata": {},
   "outputs": [],
   "source": []
  }
 ],
 "metadata": {
  "kernelspec": {
   "display_name": "Python 3",
   "language": "python",
   "name": "python3"
  },
  "language_info": {
   "codemirror_mode": {
    "name": "ipython",
    "version": 3
   },
   "file_extension": ".py",
   "mimetype": "text/x-python",
   "name": "python",
   "nbconvert_exporter": "python",
   "pygments_lexer": "ipython3",
   "version": "3.7.4"
  }
 },
 "nbformat": 4,
 "nbformat_minor": 4
}
