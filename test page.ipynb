{
 "cells": [
  {
   "cell_type": "code",
   "execution_count": 19,
   "metadata": {},
   "outputs": [
    {
     "name": "stdout",
     "output_type": "stream",
     "text": [
      "[6]\n",
      "6\n",
      "[6, 12]\n",
      "6\n",
      "[6, 12, 18]\n",
      "6\n",
      "[6, 12, 18, 7]\n",
      "6\n",
      "[6, 12, 18, 7, 14]\n",
      "6\n",
      "[6, 12, 18, 7, 14, 21]\n",
      "6\n",
      "[6, 12, 18, 7, 14, 21, 8]\n",
      "6\n",
      "[6, 12, 18, 7, 14, 21, 8, 16]\n",
      "6\n",
      "[6, 12, 18, 7, 14, 21, 8, 16, 24]\n",
      "6\n"
     ]
    }
   ],
   "source": [
    "a=[6,7,8]\n",
    "b=[1,2,3]\n",
    "\n",
    "empty1=[]\n",
    "empty2=[]\n",
    "\n",
    "for x in a:\n",
    "    for  y in b:\n",
    "        empty1.append(x*y)\n",
    "        m=min(empty1)\n",
    "        print(empty1)\n",
    "        print(m)\n",
    "    empty2.append(m)"
   ]
  },
  {
   "cell_type": "code",
   "execution_count": null,
   "metadata": {},
   "outputs": [],
   "source": []
  }
 ],
 "metadata": {
  "kernelspec": {
   "display_name": "Python 3",
   "language": "python",
   "name": "python3"
  },
  "language_info": {
   "codemirror_mode": {
    "name": "ipython",
    "version": 3
   },
   "file_extension": ".py",
   "mimetype": "text/x-python",
   "name": "python",
   "nbconvert_exporter": "python",
   "pygments_lexer": "ipython3",
   "version": "3.7.4"
  }
 },
 "nbformat": 4,
 "nbformat_minor": 4
}
