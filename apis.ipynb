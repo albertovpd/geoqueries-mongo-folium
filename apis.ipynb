{
 "cells": [
  {
   "cell_type": "markdown",
   "metadata": {},
   "source": [
    "# Enrich the dataframe with foursqure API\n",
    "## How to use:\n",
    "I tried to modify the query in order to give to the function the coords location I wanted, but I could not find an easy way yet, taking into account there are 2 tangled functions, so:\n",
    "- Go to main.ipynb\n",
    "- check the first 5 locations in the ranking\n",
    "- take one, insert the coordinates in the function requestfoursquare manually\n",
    "- when done, do it with the 2nd location in ranking and so on (until 5th)\n",
    "## Further improvements:\n",
    "- automate all below"
   ]
  },
  {
   "cell_type": "code",
   "execution_count": 22,
   "metadata": {},
   "outputs": [
    {
     "data": {
      "text/plain": [
       "True"
      ]
     },
     "execution_count": 22,
     "metadata": {},
     "output_type": "execute_result"
    }
   ],
   "source": [
    "import json\n",
    "import requests\n",
    "import sys\n",
    "import os\n",
    "from dotenv import load_dotenv\n",
    "load_dotenv()"
   ]
  },
  {
   "cell_type": "markdown",
   "metadata": {},
   "source": [
    "My 5 prefered locations:\n",
    "\n",
    "- 47.6103008,-122.3399782\n",
    "- 45.500277, -73.560084\n",
    "- 40.739867, -73.990024\n",
    "- 45.5309644, -122.68038\n",
    "- 37.779624, -122.391236"
   ]
  },
  {
   "cell_type": "code",
   "execution_count": 183,
   "metadata": {},
   "outputs": [],
   "source": [
    "def requestfoursquare(query):\n",
    "    \n",
    "    '''To use this API you must give as imput teh query, and location type str'''\n",
    "    \n",
    "    url = 'https://api.foursquare.com/v2/venues/explore'\n",
    "    params = dict(\n",
    "      client_id=os.getenv(\"CLIENT_ID\"),\n",
    "      client_secret=os.getenv(\"FOUR_SQUARES_TOKEN\"),\n",
    "      v='20180323',\n",
    "      ll='37.779624, -122.391236',\n",
    "      query=query,\n",
    "      limit=200\n",
    "    )\n",
    "    res = requests.get(url=url, params=params)\n",
    "    data = json.loads(res.text)\n",
    "    return data"
   ]
  },
  {
   "cell_type": "code",
   "execution_count": 184,
   "metadata": {},
   "outputs": [],
   "source": [
    "def listLocation(data):\n",
    "\n",
    "    locationslist = []\n",
    "    for i in range(len(data['response']['groups'][0]['items'])):\n",
    "        latitude = float((data['response']['groups'][0]['items'][i]['venue'].get('location')).get('lat'))\n",
    "        longitude = float((data['response']['groups'][0]['items'][i]['venue'].get('location')).get('lng'))\n",
    "        dictio = {\n",
    "            'name':(data['response']['groups'][0]['items'][i]['venue']).get('name'),\n",
    "            'loc':{'type':'Point','coordinates':[longitude,latitude]}            \n",
    "            }\n",
    "        locationslist.append(dictio)\n",
    "    return locationslist"
   ]
  },
  {
   "cell_type": "code",
   "execution_count": 196,
   "metadata": {},
   "outputs": [],
   "source": [
    "#kindergarten = listLocation(requestfoursquare('kindergarten'))\n",
    "#kindergarten"
   ]
  },
  {
   "cell_type": "code",
   "execution_count": 203,
   "metadata": {},
   "outputs": [
    {
     "name": "stdout",
     "output_type": "stream",
     "text": [
      "Stored 'kindergarten_ubi' (list)\n"
     ]
    }
   ],
   "source": [
    "'''kindergarten_ubi=[(-122.323327,47.771722 ),(-122.08008087473401, 47.77412421775164),(-73.590806, 45.488338),\n",
    "                (-73.98815083551503, 40.74512371133894),(-74.005063, 40.728274),\n",
    "                   (-73.97753058091702, 40.76138819164443),(-74.00287628173828, 40.75606726747608),\n",
    "                  (-74.2991316318512, 41.13183195799727),(-122.65663932116907, 45.516230500599896),\n",
    "                 (-122.62620169288385, 45.52093970372919),(-122.42151999253659, 37.773589712511665),\n",
    "                 (-121.92282874668209, 37.33068094183947)]\n",
    "'''\n",
    "kindergarten_ubi=[]\n",
    "%store kindergarten_ubi"
   ]
  },
  {
   "cell_type": "code",
   "execution_count": 204,
   "metadata": {},
   "outputs": [
    {
     "name": "stdout",
     "output_type": "stream",
     "text": [
      "Stored 'kindergarten_ubi' (list)\n"
     ]
    }
   ],
   "source": [
    "kindergarten_ubi=[(47.771722, -122.323327 ),(47.77412421775164,-122.08008087473401),(45.488338,-73.590806),\n",
    "                (40.74512371133894,-73.98815083551503),(40.728274,-74.005063),\n",
    "                   (40.76138819164443,-73.97753058091702),(40.75606726747608,-74.00287628173828),\n",
    "                  (41.13183195799727,-74.2991316318512),(45.516230500599896,-122.65663932116907),\n",
    "                 (45.52093970372919,-122.62620169288385),(37.773589712511665,-122.42151999253659),\n",
    "                 (37.33068094183947,-121.92282874668209)]\n",
    "%store kindergarten_ubi"
   ]
  },
  {
   "cell_type": "code",
   "execution_count": null,
   "metadata": {},
   "outputs": [],
   "source": []
  }
 ],
 "metadata": {
  "kernelspec": {
   "display_name": "Python 3",
   "language": "python",
   "name": "python3"
  },
  "language_info": {
   "codemirror_mode": {
    "name": "ipython",
    "version": 3
   },
   "file_extension": ".py",
   "mimetype": "text/x-python",
   "name": "python",
   "nbconvert_exporter": "python",
   "pygments_lexer": "ipython3",
   "version": "3.7.4"
  }
 },
 "nbformat": 4,
 "nbformat_minor": 4
}
